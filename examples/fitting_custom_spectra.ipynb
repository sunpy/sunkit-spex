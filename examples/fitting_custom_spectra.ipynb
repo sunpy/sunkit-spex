{
 "cells": [
  {
   "cell_type": "markdown",
   "metadata": {
    "pycharm": {
     "name": "#%% md\n"
    }
   },
   "source": [
    "# Example of Fitting Custom Data/Spectra"
   ]
  },
  {
   "cell_type": "markdown",
   "metadata": {
    "pycharm": {
     "name": "#%% md\n"
    }
   },
   "source": [
    "This notebook provides a quick overlook of the fitting code in SunXspex and some examples of fitting user defined custom data instead of the data coming from files that already have loader classes.\n",
    "\n",
    "We also use a user defined function.\n",
    "\n",
    "The fitting code is not optimised for this purpose but it can be used. This notebook isn't necessarily here to show or recommend that data of this type be fitted using theis code. This is to show an example of how a user might start to organise their own (X-ray?) spectroscopic data in the form that this software was designed to work with and how to provide the fitting class with the needed dictionary structure.\n",
    "\n",
    "This Notebook has been run on my Macbook (processor: Intel i5-7360U @ 2.3 GHz).\n",
    "\n",
    "**For a more explained demonstration of the general fitting process and capabilities see the NuSTAR fitting example.**"
   ]
  },
  {
   "cell_type": "code",
   "execution_count": null,
   "outputs": [],
   "source": [
    "import time\n",
    "import numpy as np\n",
    "import matplotlib.pyplot as plt\n",
    "import warnings\n",
    "\n",
    "\n",
    "from sunxspex.sunxspex_fitting.fitter import SunXspex\n",
    "\n",
    "warnings.filterwarnings(\"ignore\", category=RuntimeWarning) #\n",
    "warnings.filterwarnings(\"ignore\", category=np.VisibleDeprecationWarning)"
   ],
   "metadata": {
    "collapsed": false,
    "pycharm": {
     "name": "#%%\n"
    }
   }
  },
  {
   "cell_type": "code",
   "execution_count": null,
   "outputs": [],
   "source": [],
   "metadata": {
    "collapsed": false,
    "pycharm": {
     "name": "#%%\n"
    }
   }
  },
  {
   "cell_type": "code",
   "execution_count": null,
   "outputs": [],
   "source": [
    "from IPython.core.display import display, HTML\n",
    "display(HTML('<style>.container{width:100% !important;}</style>'))"
   ],
   "metadata": {
    "collapsed": false,
    "pycharm": {
     "name": "#%%\n"
    }
   }
  },
  {
   "cell_type": "markdown",
   "source": [
    "## Set up some plotting numbers"
   ],
   "metadata": {
    "collapsed": false,
    "pycharm": {
     "name": "#%% md\n"
    }
   }
  },
  {
   "cell_type": "code",
   "execution_count": null,
   "outputs": [],
   "source": [
    "spec_plot_size = (16,12)\n",
    "spec_font_size = 20\n",
    "default_text = 10\n",
    "ylims = [1,2e4]"
   ],
   "metadata": {
    "collapsed": false,
    "pycharm": {
     "name": "#%%\n"
    }
   }
  },
  {
   "cell_type": "markdown",
   "source": [
    "***"
   ],
   "metadata": {
    "collapsed": false,
    "pycharm": {
     "name": "#%% md\n"
    }
   }
  },
  {
   "cell_type": "markdown",
   "source": [
    "## Let's fit data with a two Gaussian profile with added noise"
   ],
   "metadata": {
    "collapsed": false,
    "pycharm": {
     "name": "#%% md\n"
    }
   }
  },
  {
   "cell_type": "markdown",
   "source": [
    "First, we can add a Gaussian model to the fitting namespace to fit our data."
   ],
   "metadata": {
    "collapsed": false,
    "pycharm": {
     "name": "#%% md\n"
    }
   }
  },
  {
   "cell_type": "code",
   "execution_count": null,
   "outputs": [],
   "source": [
    "# define a gaussian function\n",
    "def gauss(a, b, c, energies=None):\n",
    "    \"\"\"Gaussian function.\n",
    "\n",
    "    Note: Parameters are args and energies (x-axis input) is a kwarg with None as default.\n",
    "\n",
    "    Parameters\n",
    "    ----------\n",
    "    a,b,c : floats\n",
    "            The scaler, mean, and standard deviation of the gaussian model output, respectively.\n",
    "\n",
    "    energies : 2d array\n",
    "            An array where each entry is the two energy bin edge values.\n",
    "\n",
    "    Returns\n",
    "    -------\n",
    "    A 1d array output of the model.\n",
    "    \"\"\"\n",
    "    mid_x = np.mean(energies, axis=1)\n",
    "    return a * np.exp(-((mid_x-b)**2/(2*c**2)))"
   ],
   "metadata": {
    "collapsed": false,
    "pycharm": {
     "name": "#%%\n"
    }
   }
  },
  {
   "cell_type": "markdown",
   "source": [
    "Now we can define the data."
   ],
   "metadata": {
    "collapsed": false,
    "pycharm": {
     "name": "#%% md\n"
    }
   }
  },
  {
   "cell_type": "code",
   "execution_count": null,
   "outputs": [],
   "source": [
    "# Create channel bins and the fake data components, here we go for 2 Gaussians and noise\n",
    "maxi, step = 1e3, 1\n",
    "chan_bins = np.stack((np.arange(0,maxi, step), np.arange(step,maxi+step, step)), axis=-1)\n",
    "gauss_mod1 = gauss(1.3e4, 350, 60, energies=chan_bins)\n",
    "gauss_mod2 = gauss(3e3, 600, 60, energies=chan_bins)\n",
    "noise = np.random.randint(low=10, high=100, size=(len(chan_bins)))/100*5\n",
    "\n",
    "fake_data = gauss_mod1 + gauss_mod2 + noise\n",
    "\n",
    "# create a simple dictionary with teh custom data information\n",
    "custom_dict = {\"count_channel_bins\":chan_bins,\n",
    "               \"counts\":fake_data\n",
    "              } # counts with noise"
   ],
   "metadata": {
    "collapsed": false,
    "pycharm": {
     "name": "#%%\n"
    }
   }
  },
  {
   "cell_type": "markdown",
   "source": [
    "The ```\"count_channel_bins\"``` are the x-axis bin edges and the ```\"counts\"``` are the corresponding y-axis values.\n",
    "\n",
    "The above two dictionary entries are labelled \"essential\" and is only because we need x/y values to fit. The other keys that can be set are:\n",
    "\n",
    "* \"photon_channel_bins\"\n",
    "* \"photon_channel_mids\"\n",
    "* \"photon_channel_binning\"\n",
    "* \"count_channel_mids\"\n",
    "* \"count_channel_binning\"\n",
    "* \"count_error\"\n",
    "* \"count_rate\"\n",
    "* \"count_rate_error\"\n",
    "* \"effective_exposure\"\n",
    "* \"srm\"\n",
    "* \"extras\"\n",
    "\n",
    "but if they are not provided then they are assigned defaults. The ```\"photon_channel_bins\"``` are set to equal the ```\"count_channel_bins\"```; the ```\"photon_channel_mids\"``` and ```\"count_channel_mids\"``` are set to the ```\"count_channel_bins\"``` mid-points; ```\"photon_channel_binning\"```, ```\"count_channel_binning\"```, ```\"count_error\"```, and ```\"count_rate_error\"``` are set to arrays the same length as ```\"count_channel_bins\"``` with all values equal to one; the ```\"count_rate\"``` entry is set to the ```\"counts\"``` entry with the ```\"effective_exposure\"``` being set to one and the ```\"srm\"``` being made equal to the identity matrix.\n",
    "\n",
    "The ```\"extras\"``` key is assigned an empty dictionary but can host other information for the user's convenience or can be provided with background keys (\"background_counts\", \"background_count_error\", \"background_rate\", \"background_rate_error\", \"background_effective_exposure\") for the custom data to be used when fitting and plotting."
   ],
   "metadata": {
    "collapsed": false,
    "pycharm": {
     "name": "#%% md\n"
    }
   }
  },
  {
   "cell_type": "markdown",
   "source": [
    "Obviously when fitting the data directly (i.e., the \"photon\" spectrum is the same as the \"counts\" and \"count rate\" spectrum) then this fitting software is sub-optimal since there is an identity matrix multiplication on every model calculation. This conversion is needed when fitting X-ray data, but not necessary elsewhere; however, this is just a simple case of fitting custom data here. Obviously if you have X-ray data, or need to convert to photon space to counts space using a spectral response matrix then this is the software for you.\n",
    "\n",
    "The expected conversion from a photon model to a count model is:\n",
    "\n",
    "* counts_rate_model [counts s^2] = photon_model [photons s^2 cm^-2] # spectral_response_matrix [counts photon^-1 cm^2]"
   ],
   "metadata": {
    "collapsed": false,
    "pycharm": {
     "name": "#%% md\n"
    }
   }
  },
  {
   "cell_type": "markdown",
   "source": [
    "Going back to this example, to help fit the noise added to the fake data we simply take the mean of the added noise and can include that in the model. This especially helps in the sections of the data where the noise is dominant. Obviously there are more robust ways to do this but this will do here."
   ],
   "metadata": {
    "collapsed": false,
    "pycharm": {
     "name": "#%% md\n"
    }
   }
  },
  {
   "cell_type": "code",
   "execution_count": null,
   "outputs": [],
   "source": [
    "noise_constant = np.mean(noise)"
   ],
   "metadata": {
    "collapsed": false,
    "pycharm": {
     "name": "#%%\n"
    }
   }
  },
  {
   "cell_type": "markdown",
   "source": [
    "We provide the fitting tools with this dictionary"
   ],
   "metadata": {
    "collapsed": false,
    "pycharm": {
     "name": "#%% md\n"
    }
   }
  },
  {
   "cell_type": "code",
   "execution_count": null,
   "outputs": [],
   "source": [
    "custom_spec = SunXspex(custom_dict)\n",
    "\n",
    "# add the model to be used in fitting\n",
    "custom_spec.add_photon_model(gauss)\n",
    "# assign the fitting code's active model to be a combination of ones you defined\n",
    "custom_spec.model = f\"gauss+gauss+{noise_constant}\""
   ],
   "metadata": {
    "collapsed": false,
    "pycharm": {
     "name": "#%%\n"
    }
   }
  },
  {
   "cell_type": "markdown",
   "source": [
    "Looking at the data, assign some reasonable boundaries/starting values and change from the default fit statistic.\n",
    "\n",
    "By inspecting the data, we set the the a, b, and c values to start at 1000 and 400, and 100 with bounds (5e2, 5e3), (2e2, 1e3), and (1e1, 2e2), respectively, for the first Gaussian.\n",
    "\n",
    "We will freeze the second Gaussian's parameters for the first part of the fit but a, b, and c will be set to 500 and 600, and 60 with bounds (1e2, 1e3), (2e2, 1e3), and (1e1, 1e2), respectively, when they are freed for their fitting.\n",
    "\n",
    "We can then check the parameters..."
   ],
   "metadata": {
    "collapsed": false,
    "pycharm": {
     "name": "#%% md\n"
    }
   }
  },
  {
   "cell_type": "code",
   "execution_count": null,
   "outputs": [],
   "source": [
    "# define a large enough range to be sure the answer is in there somewhere\n",
    "custom_spec.params[\"a1_spectrum1\"] = [1e4,(5e2, 5e4)]\n",
    "custom_spec.params[\"b1_spectrum1\"] = [400,(2e2, 1e3)]\n",
    "custom_spec.params[\"c1_spectrum1\"] = [100,(1e1, 2e2)]\n",
    "\n",
    "# see parameters\n",
    "print(custom_spec.params)"
   ],
   "metadata": {
    "collapsed": false,
    "pycharm": {
     "name": "#%%\n"
    }
   }
  },
  {
   "cell_type": "markdown",
   "source": [
    "Now all we do is fit. Since we can see from the data that the different gaussian profiles dominate at different energy ranges, we can fit each over their respsective ranges before performing a total fit."
   ],
   "metadata": {
    "collapsed": false,
    "pycharm": {
     "name": "#%% md\n"
    }
   }
  },
  {
   "cell_type": "markdown",
   "source": [
    "Freeze the second Gaussian's parameters (its values are low enough to not contribute a lot to the overall model here by default) and fit between 150$-$380 \"keV\"."
   ],
   "metadata": {
    "collapsed": false,
    "pycharm": {
     "name": "#%% md\n"
    }
   }
  },
  {
   "cell_type": "code",
   "execution_count": null,
   "outputs": [],
   "source": [
    "# roughly first Gaussian fitting range\n",
    "custom_spec.energy_fitting_range = [150,380]\n",
    "custom_spec.params[\"a2_spectrum1\"] = \"freeze\"\n",
    "custom_spec.params[\"b2_spectrum1\"] = \"freeze\"\n",
    "custom_spec.params[\"c2_spectrum1\"] = \"freeze\"\n",
    "\n",
    "# fit\n",
    "minimiser_results = custom_spec.fit()"
   ],
   "metadata": {
    "collapsed": false,
    "pycharm": {
     "name": "#%%\n"
    }
   }
  },
  {
   "cell_type": "markdown",
   "source": [
    "Now freeze the first Gaussian's parameters while freeing the second (providing guess starting positions and bounds) and fit between 550$-$800 \"keV\"."
   ],
   "metadata": {
    "collapsed": false,
    "pycharm": {
     "name": "#%% md\n"
    }
   }
  },
  {
   "cell_type": "code",
   "execution_count": null,
   "outputs": [],
   "source": [
    "# roughly second Gaussian fitting range\n",
    "custom_spec.energy_fitting_range = [550,800]\n",
    "custom_spec.params[\"a1_spectrum1\"] = \"freeze\"\n",
    "custom_spec.params[\"b1_spectrum1\"] = \"freeze\"\n",
    "custom_spec.params[\"c1_spectrum1\"] = \"freeze\"\n",
    "custom_spec.params[\"a2_spectrum1\"] = [\"free\", 5e3,(1e3, 1e4)]\n",
    "custom_spec.params[\"b2_spectrum1\"] = [\"free\", 600,(2e2, 1e3)]\n",
    "custom_spec.params[\"c2_spectrum1\"] = [\"free\", 50,(1e1, 1e2)]\n",
    "\n",
    "# fit\n",
    "minimiser_results = custom_spec.fit()"
   ],
   "metadata": {
    "collapsed": false,
    "pycharm": {
     "name": "#%%\n"
    }
   }
  },
  {
   "cell_type": "markdown",
   "source": [
    "Now free everything and fit over the full energy range of thee signals, 150$-$800 \"keV\"."
   ],
   "metadata": {
    "collapsed": false,
    "pycharm": {
     "name": "#%% md\n"
    }
   }
  },
  {
   "cell_type": "code",
   "execution_count": null,
   "outputs": [],
   "source": [
    "# full range\n",
    "custom_spec.energy_fitting_range = [150,800]\n",
    "custom_spec.params[\"a1_spectrum1\"] = \"free\"\n",
    "custom_spec.params[\"b1_spectrum1\"] = \"free\"\n",
    "custom_spec.params[\"c1_spectrum1\"] = \"free\"\n",
    "\n",
    "# fit\n",
    "minimiser_results = custom_spec.fit()"
   ],
   "metadata": {
    "collapsed": false,
    "pycharm": {
     "name": "#%%\n"
    }
   }
  },
  {
   "cell_type": "markdown",
   "source": [
    "We can plot the result and have complete control other the resulting plot. Here we plot the general output then change the y-scale back to linear just to observe the fake data."
   ],
   "metadata": {
    "collapsed": false,
    "pycharm": {
     "name": "#%% md\n"
    }
   }
  },
  {
   "cell_type": "code",
   "execution_count": null,
   "outputs": [],
   "source": [
    "# plot the normal output\n",
    "plt.rcParams['font.size'] = spec_font_size\n",
    "plt.figure(figsize=spec_plot_size)\n",
    "axes, res_axes = custom_spec.plot()\n",
    "\n",
    "axes[0].set_ylim(ylims)\n",
    "plt.show()\n",
    "plt.rcParams['font.size'] = default_text\n",
    "\n",
    "\n",
    "# change the y-scale back to linear\n",
    "plt.rcParams['font.size'] = spec_font_size\n",
    "plt.figure(figsize=spec_plot_size)\n",
    "axes, res_axes = custom_spec.plot()\n",
    "for a in axes:\n",
    "    a.set_yscale(\"linear\")\n",
    "\n",
    "plt.show()\n",
    "plt.rcParams['font.size'] = default_text\n",
    "\n",
    "print(custom_spec.params)"
   ],
   "metadata": {
    "collapsed": false,
    "pycharm": {
     "name": "#%%\n"
    }
   }
  },
  {
   "cell_type": "markdown",
   "source": [
    "The residuals are error normalised where the default errors in this simple case are assumed to be 1 for all values and so they do not tell much other than the absolute difference between the model and data."
   ],
   "metadata": {
    "collapsed": false,
    "pycharm": {
     "name": "#%% md\n"
    }
   }
  },
  {
   "cell_type": "markdown",
   "source": [
    "Now maybe want to perform MCMC analysis with your model and the data..."
   ],
   "metadata": {
    "collapsed": false,
    "pycharm": {
     "name": "#%% md\n"
    }
   }
  },
  {
   "cell_type": "code",
   "execution_count": null,
   "outputs": [],
   "source": [
    "# spread walkers around the minimiser value, common approach\n",
    "mcmc_steps = custom_spec.run_mcmc(steps_per_walker=int(1e4), walker_spread=\"mag_order\")"
   ],
   "metadata": {
    "collapsed": false,
    "pycharm": {
     "name": "#%%\n"
    }
   }
  },
  {
   "cell_type": "markdown",
   "source": [
    "Evaluate the MCMC output and produce some useful plots"
   ],
   "metadata": {
    "collapsed": false,
    "pycharm": {
     "name": "#%% md\n"
    }
   }
  },
  {
   "cell_type": "code",
   "execution_count": null,
   "outputs": [],
   "source": [
    "# burn the run in phase\n",
    "custom_spec.burn_mcmc = 500\n",
    "\n",
    "# look if the log probability chain has settled and decide if the number of samples burned was appropriate\n",
    "plt.figure()\n",
    "custom_spec.plot_log_prob_chain()\n",
    "plt.ylim([-20,-1])\n",
    "plt.show()\n",
    "\n",
    "# produce a corner plot\n",
    "corner_plot_custom_spec = custom_spec.corner_mcmc()"
   ],
   "metadata": {
    "collapsed": false,
    "pycharm": {
     "name": "#%%\n"
    }
   }
  },
  {
   "cell_type": "markdown",
   "source": [
    "See the parameter results"
   ],
   "metadata": {
    "collapsed": false,
    "pycharm": {
     "name": "#%% md\n"
    }
   }
  },
  {
   "cell_type": "code",
   "execution_count": null,
   "outputs": [],
   "source": [
    "print(custom_spec.params)"
   ],
   "metadata": {
    "collapsed": false,
    "pycharm": {
     "name": "#%%\n"
    }
   }
  },
  {
   "cell_type": "markdown",
   "source": [
    "And the MCMC specific results"
   ],
   "metadata": {
    "collapsed": false,
    "pycharm": {
     "name": "#%% md\n"
    }
   }
  },
  {
   "cell_type": "code",
   "execution_count": null,
   "outputs": [],
   "source": [
    "print(custom_spec.mcmc_table)"
   ],
   "metadata": {
    "collapsed": false,
    "pycharm": {
     "name": "#%%\n"
    }
   }
  },
  {
   "cell_type": "markdown",
   "source": [
    "Plot the result (similar to earlier) but showing the MCMC runs."
   ],
   "metadata": {
    "collapsed": false,
    "pycharm": {
     "name": "#%% md\n"
    }
   }
  },
  {
   "cell_type": "code",
   "execution_count": null,
   "outputs": [],
   "source": [
    "# plot the normal output\n",
    "plt.rcParams['font.size'] = spec_font_size\n",
    "plt.figure(figsize=spec_plot_size)\n",
    "axes, res_axes = custom_spec.plot()\n",
    "\n",
    "axes[0].set_ylim(ylims)\n",
    "plt.show()\n",
    "plt.rcParams['font.size'] = default_text\n",
    "\n",
    "# change the y-scale back to linear\n",
    "plt.rcParams['font.size'] = spec_font_size\n",
    "plt.figure(figsize=spec_plot_size)\n",
    "axes, res_axes = custom_spec.plot()\n",
    "for a in axes:\n",
    "    a.set_yscale(\"linear\")\n",
    "\n",
    "plt.show()\n",
    "plt.rcParams['font.size'] = default_text"
   ],
   "metadata": {
    "collapsed": false,
    "pycharm": {
     "name": "#%%\n"
    }
   }
  },
  {
   "cell_type": "markdown",
   "source": [
    "The MCMC runs in the residuals do not tell much since, again, they are error normalised where the default errors in this simple case are assumed to be 1 for all values."
   ],
   "metadata": {
    "collapsed": false,
    "pycharm": {
     "name": "#%% md\n"
    }
   }
  },
  {
   "cell_type": "markdown",
   "source": [
    "## True value recovery\n"
   ],
   "metadata": {
    "collapsed": false,
    "pycharm": {
     "name": "#%% md\n"
    }
   }
  }
 ],
 "metadata": {
  "kernelspec": {
   "display_name": "Python 3 (ipykernel)",
   "language": "python",
   "name": "python3"
  },
  "language_info": {
   "codemirror_mode": {
    "name": "ipython",
    "version": 3
   },
   "file_extension": ".py",
   "mimetype": "text/x-python",
   "name": "python",
   "nbconvert_exporter": "python",
   "pygments_lexer": "ipython3",
   "version": "3.8.6"
  }
 },
 "nbformat": 4,
 "nbformat_minor": 4
}
