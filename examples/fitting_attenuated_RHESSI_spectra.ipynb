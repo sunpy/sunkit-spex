{
 "cells": [
  {
   "cell_type": "markdown",
   "id": "531656f7",
   "metadata": {},
   "source": [
    "# Attenuated RHESSI example {[Download data files here](https://drive.google.com/file/d/1FMRVh8E0jCh3mj15r_Fy8g_RhbmlGIj-)}\n",
    "This is looking at the M9 class flare observed by RHESSI from [Knuth+Glesener 2020](https://iopscience.iop.org/article/10.3847/1538-4357/abb779).\n",
    "We perform spectroscopy on the interval where the thick attenuator is inserted.\n",
    "\n",
    "\n",
    "## Important note on systematic error\n",
    "- Systematic error is important to add to RHESSI data so that the minimizer has some wiggle room."
   ]
  },
  {
   "cell_type": "code",
   "execution_count": 1,
   "id": "dd38051f",
   "metadata": {},
   "outputs": [],
   "source": [
    "from sunkit_spex.legacy.fitting_legacy import fitter\n",
    "from sunkit_spex.extern import rhessi\n",
    "\n",
    "import astropy.time as atime\n",
    "import matplotlib.pyplot as plt\n",
    "import numpy as np\n",
    "\n",
    "%matplotlib inline\n",
    "%config InlineBackend.figure_format = 'retina'"
   ]
  },
  {
   "cell_type": "markdown",
   "id": "0992312f-16db-4a07-97f5-d8c55b2e9d92",
   "metadata": {},
   "source": [
    "### Notice the warning about attenuator changes!"
   ]
  },
  {
   "cell_type": "code",
   "execution_count": 2,
   "id": "5798daa8-2be9-4d2d-8104-6db6c838f10a",
   "metadata": {},
   "outputs": [
    {
     "ename": "FileNotFoundError",
     "evalue": "[Errno 2] No such file or directory: 'rhessi-data/rhessi-2011-jul-stixbins-spec.fits'",
     "output_type": "error",
     "traceback": [
      "\u001b[0;31m---------------------------------------------------------------------------\u001b[0m",
      "\u001b[0;31mFileNotFoundError\u001b[0m                         Traceback (most recent call last)",
      "Cell \u001b[0;32mIn[2], line 3\u001b[0m\n\u001b[1;32m      1\u001b[0m spec_fn \u001b[38;5;241m=\u001b[39m \u001b[38;5;124m'\u001b[39m\u001b[38;5;124mrhessi-data/rhessi-2011-jul-stixbins-spec.fits\u001b[39m\u001b[38;5;124m'\u001b[39m\n\u001b[1;32m      2\u001b[0m srm_fn \u001b[38;5;241m=\u001b[39m spec_fn\u001b[38;5;241m.\u001b[39mreplace(\u001b[38;5;124m'\u001b[39m\u001b[38;5;124mspec\u001b[39m\u001b[38;5;124m'\u001b[39m, \u001b[38;5;124m'\u001b[39m\u001b[38;5;124msrm\u001b[39m\u001b[38;5;124m'\u001b[39m)\n\u001b[0;32m----> 3\u001b[0m rl \u001b[38;5;241m=\u001b[39m \u001b[43mrhessi\u001b[49m\u001b[38;5;241;43m.\u001b[39;49m\u001b[43mRhessiLoader\u001b[49m\u001b[43m(\u001b[49m\u001b[43mspectrum_fn\u001b[49m\u001b[38;5;241;43m=\u001b[39;49m\u001b[43mspec_fn\u001b[49m\u001b[43m,\u001b[49m\u001b[43m \u001b[49m\u001b[43msrm_fn\u001b[49m\u001b[38;5;241;43m=\u001b[39;49m\u001b[43msrm_fn\u001b[49m\u001b[43m)\u001b[49m\n",
      "File \u001b[0;32m~/repos/sunkit_spex/sunkit_spex/extern/rhessi.py:42\u001b[0m, in \u001b[0;36mRhessiLoader.__init__\u001b[0;34m(self, spectrum_fn, srm_fn, **kwargs)\u001b[0m\n\u001b[1;32m     36\u001b[0m \u001b[38;5;28mself\u001b[39m\u001b[38;5;241m.\u001b[39m_construction_string \u001b[38;5;241m=\u001b[39m (\n\u001b[1;32m     37\u001b[0m     \u001b[38;5;124mf\u001b[39m\u001b[38;5;124m\"\u001b[39m\u001b[38;5;124mRhessiLoader(spectrum_fn=\u001b[39m\u001b[38;5;132;01m{\u001b[39;00mspectrum_fn\u001b[38;5;132;01m}\u001b[39;00m\u001b[38;5;124m, \u001b[39m\u001b[38;5;124m\"\u001b[39m\n\u001b[1;32m     38\u001b[0m     \u001b[38;5;124mf\u001b[39m\u001b[38;5;124m\"\u001b[39m\u001b[38;5;124msrm_fn=\u001b[39m\u001b[38;5;132;01m{\u001b[39;00msrm_fn\u001b[38;5;132;01m}\u001b[39;00m\u001b[38;5;124m,\u001b[39m\u001b[38;5;124m\"\u001b[39m\n\u001b[1;32m     39\u001b[0m     \u001b[38;5;124mf\u001b[39m\u001b[38;5;124m\"\u001b[39m\u001b[38;5;124m**\u001b[39m\u001b[38;5;132;01m{\u001b[39;00mkwargs\u001b[38;5;132;01m}\u001b[39;00m\u001b[38;5;124m)\u001b[39m\u001b[38;5;124m\"\u001b[39m\n\u001b[1;32m     40\u001b[0m )\n\u001b[1;32m     41\u001b[0m \u001b[38;5;28mself\u001b[39m\u001b[38;5;241m.\u001b[39m_systematic_error \u001b[38;5;241m=\u001b[39m \u001b[38;5;241m0\u001b[39m\n\u001b[0;32m---> 42\u001b[0m \u001b[38;5;28;43mself\u001b[39;49m\u001b[38;5;241;43m.\u001b[39;49m\u001b[43mload_prepare_spectrum_srm\u001b[49m\u001b[43m(\u001b[49m\u001b[43mspectrum_fn\u001b[49m\u001b[43m,\u001b[49m\u001b[43m \u001b[49m\u001b[43msrm_fn\u001b[49m\u001b[43m)\u001b[49m\n\u001b[1;32m     43\u001b[0m \u001b[38;5;28mself\u001b[39m\u001b[38;5;241m.\u001b[39m_start_background_time, \u001b[38;5;28mself\u001b[39m\u001b[38;5;241m.\u001b[39m_end_background_time \u001b[38;5;241m=\u001b[39m \u001b[38;5;28;01mNone\u001b[39;00m, \u001b[38;5;28;01mNone\u001b[39;00m\n",
      "File \u001b[0;32m~/repos/sunkit_spex/sunkit_spex/extern/rhessi.py:68\u001b[0m, in \u001b[0;36mRhessiLoader.load_prepare_spectrum_srm\u001b[0;34m(self, spectrum_fn, srm_fn)\u001b[0m\n\u001b[1;32m     56\u001b[0m \u001b[38;5;250m\u001b[39m\u001b[38;5;124;03m\"\"\" Loads all the information in for a given spectrum.\u001b[39;00m\n\u001b[1;32m     57\u001b[0m \n\u001b[1;32m     58\u001b[0m \u001b[38;5;124;03mParameters\u001b[39;00m\n\u001b[0;32m   (...)\u001b[0m\n\u001b[1;32m     65\u001b[0m \u001b[38;5;124;03mStandard sunkit_spex dictionary (see docs)\u001b[39;00m\n\u001b[1;32m     66\u001b[0m \u001b[38;5;124;03m\"\"\"\u001b[39;00m\n\u001b[1;32m     67\u001b[0m \u001b[38;5;66;03m# Load spectrum & SRM\u001b[39;00m\n\u001b[0;32m---> 68\u001b[0m \u001b[38;5;28mself\u001b[39m\u001b[38;5;241m.\u001b[39m_spectrum \u001b[38;5;241m=\u001b[39m (spec \u001b[38;5;241m:=\u001b[39m \u001b[43mload_spectrum\u001b[49m\u001b[43m(\u001b[49m\u001b[43mspectrum_fn\u001b[49m\u001b[43m)\u001b[49m)\n\u001b[1;32m     69\u001b[0m \u001b[38;5;28mself\u001b[39m\u001b[38;5;241m.\u001b[39m_attenuator_state_info \u001b[38;5;241m=\u001b[39m spec\u001b[38;5;241m.\u001b[39mpop(\u001b[38;5;124m'\u001b[39m\u001b[38;5;124mattenuator_state_info\u001b[39m\u001b[38;5;124m'\u001b[39m)\n\u001b[1;32m     70\u001b[0m \u001b[38;5;28mself\u001b[39m\u001b[38;5;241m.\u001b[39m_srm \u001b[38;5;241m=\u001b[39m (srm \u001b[38;5;241m:=\u001b[39m load_srm(srm_fn))\n",
      "File \u001b[0;32m~/repos/sunkit_spex/sunkit_spex/extern/rhessi.py:644\u001b[0m, in \u001b[0;36mload_spectrum\u001b[0;34m(spec_fn)\u001b[0m\n\u001b[1;32m    628\u001b[0m \u001b[38;5;28;01mdef\u001b[39;00m \u001b[38;5;21mload_spectrum\u001b[39m(spec_fn: \u001b[38;5;28mstr\u001b[39m):\n\u001b[1;32m    629\u001b[0m \u001b[38;5;250m    \u001b[39m\u001b[38;5;124;03m\"\"\" Return all RHESSI data needed for fitting.\u001b[39;00m\n\u001b[1;32m    630\u001b[0m \n\u001b[1;32m    631\u001b[0m \u001b[38;5;124;03m    Parameters\u001b[39;00m\n\u001b[0;32m   (...)\u001b[0m\n\u001b[1;32m    642\u001b[0m \u001b[38;5;124;03m          channel bin and spectrum (lvt/counts/cts_rates/cts_rate_err, respectively).\u001b[39;00m\n\u001b[1;32m    643\u001b[0m \u001b[38;5;124;03m    \"\"\"\u001b[39;00m\n\u001b[0;32m--> 644\u001b[0m     \u001b[38;5;28;01mwith\u001b[39;00m \u001b[43mfits\u001b[49m\u001b[38;5;241;43m.\u001b[39;49m\u001b[43mopen\u001b[49m\u001b[43m(\u001b[49m\u001b[43mspec_fn\u001b[49m\u001b[43m)\u001b[49m \u001b[38;5;28;01mas\u001b[39;00m spec:\n\u001b[1;32m    645\u001b[0m         rate_dat \u001b[38;5;241m=\u001b[39m spec[\u001b[38;5;124m'\u001b[39m\u001b[38;5;124mRATE\u001b[39m\u001b[38;5;124m'\u001b[39m]\n\u001b[1;32m    646\u001b[0m         \u001b[38;5;28;01mif\u001b[39;00m rate_dat\u001b[38;5;241m.\u001b[39mheader[\u001b[38;5;124m\"\u001b[39m\u001b[38;5;124mSUMFLAG\u001b[39m\u001b[38;5;124m\"\u001b[39m] \u001b[38;5;241m!=\u001b[39m \u001b[38;5;241m1\u001b[39m:\n",
      "File \u001b[0;32m~/miniconda3/envs/sunkit-spex-dev/lib/python3.11/site-packages/astropy/io/fits/hdu/hdulist.py:213\u001b[0m, in \u001b[0;36mfitsopen\u001b[0;34m(name, mode, memmap, save_backup, cache, lazy_load_hdus, ignore_missing_simple, use_fsspec, fsspec_kwargs, **kwargs)\u001b[0m\n\u001b[1;32m    210\u001b[0m \u001b[38;5;28;01mif\u001b[39;00m \u001b[38;5;129;01mnot\u001b[39;00m name:\n\u001b[1;32m    211\u001b[0m     \u001b[38;5;28;01mraise\u001b[39;00m \u001b[38;5;167;01mValueError\u001b[39;00m(\u001b[38;5;124mf\u001b[39m\u001b[38;5;124m\"\u001b[39m\u001b[38;5;124mEmpty filename: \u001b[39m\u001b[38;5;132;01m{\u001b[39;00mname\u001b[38;5;132;01m!r}\u001b[39;00m\u001b[38;5;124m\"\u001b[39m)\n\u001b[0;32m--> 213\u001b[0m \u001b[38;5;28;01mreturn\u001b[39;00m \u001b[43mHDUList\u001b[49m\u001b[38;5;241;43m.\u001b[39;49m\u001b[43mfromfile\u001b[49m\u001b[43m(\u001b[49m\n\u001b[1;32m    214\u001b[0m \u001b[43m    \u001b[49m\u001b[43mname\u001b[49m\u001b[43m,\u001b[49m\n\u001b[1;32m    215\u001b[0m \u001b[43m    \u001b[49m\u001b[43mmode\u001b[49m\u001b[43m,\u001b[49m\n\u001b[1;32m    216\u001b[0m \u001b[43m    \u001b[49m\u001b[43mmemmap\u001b[49m\u001b[43m,\u001b[49m\n\u001b[1;32m    217\u001b[0m \u001b[43m    \u001b[49m\u001b[43msave_backup\u001b[49m\u001b[43m,\u001b[49m\n\u001b[1;32m    218\u001b[0m \u001b[43m    \u001b[49m\u001b[43mcache\u001b[49m\u001b[43m,\u001b[49m\n\u001b[1;32m    219\u001b[0m \u001b[43m    \u001b[49m\u001b[43mlazy_load_hdus\u001b[49m\u001b[43m,\u001b[49m\n\u001b[1;32m    220\u001b[0m \u001b[43m    \u001b[49m\u001b[43mignore_missing_simple\u001b[49m\u001b[43m,\u001b[49m\n\u001b[1;32m    221\u001b[0m \u001b[43m    \u001b[49m\u001b[43muse_fsspec\u001b[49m\u001b[38;5;241;43m=\u001b[39;49m\u001b[43muse_fsspec\u001b[49m\u001b[43m,\u001b[49m\n\u001b[1;32m    222\u001b[0m \u001b[43m    \u001b[49m\u001b[43mfsspec_kwargs\u001b[49m\u001b[38;5;241;43m=\u001b[39;49m\u001b[43mfsspec_kwargs\u001b[49m\u001b[43m,\u001b[49m\n\u001b[1;32m    223\u001b[0m \u001b[43m    \u001b[49m\u001b[38;5;241;43m*\u001b[39;49m\u001b[38;5;241;43m*\u001b[39;49m\u001b[43mkwargs\u001b[49m\u001b[43m,\u001b[49m\n\u001b[1;32m    224\u001b[0m \u001b[43m\u001b[49m\u001b[43m)\u001b[49m\n",
      "File \u001b[0;32m~/miniconda3/envs/sunkit-spex-dev/lib/python3.11/site-packages/astropy/io/fits/hdu/hdulist.py:476\u001b[0m, in \u001b[0;36mHDUList.fromfile\u001b[0;34m(cls, fileobj, mode, memmap, save_backup, cache, lazy_load_hdus, ignore_missing_simple, **kwargs)\u001b[0m\n\u001b[1;32m    457\u001b[0m \u001b[38;5;129m@classmethod\u001b[39m\n\u001b[1;32m    458\u001b[0m \u001b[38;5;28;01mdef\u001b[39;00m \u001b[38;5;21mfromfile\u001b[39m(\n\u001b[1;32m    459\u001b[0m     \u001b[38;5;28mcls\u001b[39m,\n\u001b[0;32m   (...)\u001b[0m\n\u001b[1;32m    467\u001b[0m     \u001b[38;5;241m*\u001b[39m\u001b[38;5;241m*\u001b[39mkwargs,\n\u001b[1;32m    468\u001b[0m ):\n\u001b[1;32m    469\u001b[0m \u001b[38;5;250m    \u001b[39m\u001b[38;5;124;03m\"\"\"\u001b[39;00m\n\u001b[1;32m    470\u001b[0m \u001b[38;5;124;03m    Creates an `HDUList` instance from a file-like object.\u001b[39;00m\n\u001b[1;32m    471\u001b[0m \n\u001b[0;32m   (...)\u001b[0m\n\u001b[1;32m    474\u001b[0m \u001b[38;5;124;03m    documentation for details of the parameters accepted by this method).\u001b[39;00m\n\u001b[1;32m    475\u001b[0m \u001b[38;5;124;03m    \"\"\"\u001b[39;00m\n\u001b[0;32m--> 476\u001b[0m     \u001b[38;5;28;01mreturn\u001b[39;00m \u001b[38;5;28;43mcls\u001b[39;49m\u001b[38;5;241;43m.\u001b[39;49m\u001b[43m_readfrom\u001b[49m\u001b[43m(\u001b[49m\n\u001b[1;32m    477\u001b[0m \u001b[43m        \u001b[49m\u001b[43mfileobj\u001b[49m\u001b[38;5;241;43m=\u001b[39;49m\u001b[43mfileobj\u001b[49m\u001b[43m,\u001b[49m\n\u001b[1;32m    478\u001b[0m \u001b[43m        \u001b[49m\u001b[43mmode\u001b[49m\u001b[38;5;241;43m=\u001b[39;49m\u001b[43mmode\u001b[49m\u001b[43m,\u001b[49m\n\u001b[1;32m    479\u001b[0m \u001b[43m        \u001b[49m\u001b[43mmemmap\u001b[49m\u001b[38;5;241;43m=\u001b[39;49m\u001b[43mmemmap\u001b[49m\u001b[43m,\u001b[49m\n\u001b[1;32m    480\u001b[0m \u001b[43m        \u001b[49m\u001b[43msave_backup\u001b[49m\u001b[38;5;241;43m=\u001b[39;49m\u001b[43msave_backup\u001b[49m\u001b[43m,\u001b[49m\n\u001b[1;32m    481\u001b[0m \u001b[43m        \u001b[49m\u001b[43mcache\u001b[49m\u001b[38;5;241;43m=\u001b[39;49m\u001b[43mcache\u001b[49m\u001b[43m,\u001b[49m\n\u001b[1;32m    482\u001b[0m \u001b[43m        \u001b[49m\u001b[43mignore_missing_simple\u001b[49m\u001b[38;5;241;43m=\u001b[39;49m\u001b[43mignore_missing_simple\u001b[49m\u001b[43m,\u001b[49m\n\u001b[1;32m    483\u001b[0m \u001b[43m        \u001b[49m\u001b[43mlazy_load_hdus\u001b[49m\u001b[38;5;241;43m=\u001b[39;49m\u001b[43mlazy_load_hdus\u001b[49m\u001b[43m,\u001b[49m\n\u001b[1;32m    484\u001b[0m \u001b[43m        \u001b[49m\u001b[38;5;241;43m*\u001b[39;49m\u001b[38;5;241;43m*\u001b[39;49m\u001b[43mkwargs\u001b[49m\u001b[43m,\u001b[49m\n\u001b[1;32m    485\u001b[0m \u001b[43m    \u001b[49m\u001b[43m)\u001b[49m\n",
      "File \u001b[0;32m~/miniconda3/envs/sunkit-spex-dev/lib/python3.11/site-packages/astropy/io/fits/hdu/hdulist.py:1146\u001b[0m, in \u001b[0;36mHDUList._readfrom\u001b[0;34m(cls, fileobj, data, mode, memmap, cache, lazy_load_hdus, ignore_missing_simple, use_fsspec, fsspec_kwargs, **kwargs)\u001b[0m\n\u001b[1;32m   1143\u001b[0m \u001b[38;5;28;01mif\u001b[39;00m fileobj \u001b[38;5;129;01mis\u001b[39;00m \u001b[38;5;129;01mnot\u001b[39;00m \u001b[38;5;28;01mNone\u001b[39;00m:\n\u001b[1;32m   1144\u001b[0m     \u001b[38;5;28;01mif\u001b[39;00m \u001b[38;5;129;01mnot\u001b[39;00m \u001b[38;5;28misinstance\u001b[39m(fileobj, _File):\n\u001b[1;32m   1145\u001b[0m         \u001b[38;5;66;03m# instantiate a FITS file object (ffo)\u001b[39;00m\n\u001b[0;32m-> 1146\u001b[0m         fileobj \u001b[38;5;241m=\u001b[39m \u001b[43m_File\u001b[49m\u001b[43m(\u001b[49m\n\u001b[1;32m   1147\u001b[0m \u001b[43m            \u001b[49m\u001b[43mfileobj\u001b[49m\u001b[43m,\u001b[49m\n\u001b[1;32m   1148\u001b[0m \u001b[43m            \u001b[49m\u001b[43mmode\u001b[49m\u001b[38;5;241;43m=\u001b[39;49m\u001b[43mmode\u001b[49m\u001b[43m,\u001b[49m\n\u001b[1;32m   1149\u001b[0m \u001b[43m            \u001b[49m\u001b[43mmemmap\u001b[49m\u001b[38;5;241;43m=\u001b[39;49m\u001b[43mmemmap\u001b[49m\u001b[43m,\u001b[49m\n\u001b[1;32m   1150\u001b[0m \u001b[43m            \u001b[49m\u001b[43mcache\u001b[49m\u001b[38;5;241;43m=\u001b[39;49m\u001b[43mcache\u001b[49m\u001b[43m,\u001b[49m\n\u001b[1;32m   1151\u001b[0m \u001b[43m            \u001b[49m\u001b[43muse_fsspec\u001b[49m\u001b[38;5;241;43m=\u001b[39;49m\u001b[43muse_fsspec\u001b[49m\u001b[43m,\u001b[49m\n\u001b[1;32m   1152\u001b[0m \u001b[43m            \u001b[49m\u001b[43mfsspec_kwargs\u001b[49m\u001b[38;5;241;43m=\u001b[39;49m\u001b[43mfsspec_kwargs\u001b[49m\u001b[43m,\u001b[49m\n\u001b[1;32m   1153\u001b[0m \u001b[43m        \u001b[49m\u001b[43m)\u001b[49m\n\u001b[1;32m   1154\u001b[0m     \u001b[38;5;66;03m# The Astropy mode is determined by the _File initializer if the\u001b[39;00m\n\u001b[1;32m   1155\u001b[0m     \u001b[38;5;66;03m# supplied mode was None\u001b[39;00m\n\u001b[1;32m   1156\u001b[0m     mode \u001b[38;5;241m=\u001b[39m fileobj\u001b[38;5;241m.\u001b[39mmode\n",
      "File \u001b[0;32m~/miniconda3/envs/sunkit-spex-dev/lib/python3.11/site-packages/astropy/io/fits/file.py:217\u001b[0m, in \u001b[0;36m_File.__init__\u001b[0;34m(self, fileobj, mode, memmap, overwrite, cache, use_fsspec, fsspec_kwargs)\u001b[0m\n\u001b[1;32m    215\u001b[0m     \u001b[38;5;28mself\u001b[39m\u001b[38;5;241m.\u001b[39m_open_fileobj(fileobj, mode, overwrite)\n\u001b[1;32m    216\u001b[0m \u001b[38;5;28;01melif\u001b[39;00m \u001b[38;5;28misinstance\u001b[39m(fileobj, (\u001b[38;5;28mstr\u001b[39m, \u001b[38;5;28mbytes\u001b[39m)):\n\u001b[0;32m--> 217\u001b[0m     \u001b[38;5;28;43mself\u001b[39;49m\u001b[38;5;241;43m.\u001b[39;49m\u001b[43m_open_filename\u001b[49m\u001b[43m(\u001b[49m\u001b[43mfileobj\u001b[49m\u001b[43m,\u001b[49m\u001b[43m \u001b[49m\u001b[43mmode\u001b[49m\u001b[43m,\u001b[49m\u001b[43m \u001b[49m\u001b[43moverwrite\u001b[49m\u001b[43m)\u001b[49m\n\u001b[1;32m    218\u001b[0m \u001b[38;5;28;01melse\u001b[39;00m:\n\u001b[1;32m    219\u001b[0m     \u001b[38;5;28mself\u001b[39m\u001b[38;5;241m.\u001b[39m_open_filelike(fileobj, mode, overwrite)\n",
      "File \u001b[0;32m~/miniconda3/envs/sunkit-spex-dev/lib/python3.11/site-packages/astropy/io/fits/file.py:626\u001b[0m, in \u001b[0;36m_File._open_filename\u001b[0;34m(self, filename, mode, overwrite)\u001b[0m\n\u001b[1;32m    623\u001b[0m ext \u001b[38;5;241m=\u001b[39m os\u001b[38;5;241m.\u001b[39mpath\u001b[38;5;241m.\u001b[39msplitext(\u001b[38;5;28mself\u001b[39m\u001b[38;5;241m.\u001b[39mname)[\u001b[38;5;241m1\u001b[39m]\n\u001b[1;32m    625\u001b[0m \u001b[38;5;28;01mif\u001b[39;00m \u001b[38;5;129;01mnot\u001b[39;00m \u001b[38;5;28mself\u001b[39m\u001b[38;5;241m.\u001b[39m_try_read_compressed(\u001b[38;5;28mself\u001b[39m\u001b[38;5;241m.\u001b[39mname, magic, mode, ext\u001b[38;5;241m=\u001b[39mext):\n\u001b[0;32m--> 626\u001b[0m     \u001b[38;5;28mself\u001b[39m\u001b[38;5;241m.\u001b[39m_file \u001b[38;5;241m=\u001b[39m \u001b[38;5;28;43mopen\u001b[39;49m\u001b[43m(\u001b[49m\u001b[38;5;28;43mself\u001b[39;49m\u001b[38;5;241;43m.\u001b[39;49m\u001b[43mname\u001b[49m\u001b[43m,\u001b[49m\u001b[43m \u001b[49m\u001b[43mIO_FITS_MODES\u001b[49m\u001b[43m[\u001b[49m\u001b[43mmode\u001b[49m\u001b[43m]\u001b[49m\u001b[43m)\u001b[49m\n\u001b[1;32m    627\u001b[0m     \u001b[38;5;28mself\u001b[39m\u001b[38;5;241m.\u001b[39mclose_on_error \u001b[38;5;241m=\u001b[39m \u001b[38;5;28;01mTrue\u001b[39;00m\n\u001b[1;32m    629\u001b[0m \u001b[38;5;66;03m# Make certain we're back at the beginning of the file\u001b[39;00m\n\u001b[1;32m    630\u001b[0m \u001b[38;5;66;03m# BZ2File does not support seek when the file is open for writing, but\u001b[39;00m\n\u001b[1;32m    631\u001b[0m \u001b[38;5;66;03m# when opening a file for write, bz2.BZ2File always truncates anyway.\u001b[39;00m\n",
      "\u001b[0;31mFileNotFoundError\u001b[0m: [Errno 2] No such file or directory: 'rhessi-data/rhessi-2011-jul-stixbins-spec.fits'"
     ]
    }
   ],
   "source": [
    "spec_fn = 'rhessi-data/rhessi-2011-jul-stixbins-spec.fits'\n",
    "srm_fn = spec_fn.replace('spec', 'srm')\n",
    "rl = rhessi.RhessiLoader(spectrum_fn=spec_fn, srm_fn=srm_fn)"
   ]
  },
  {
   "cell_type": "markdown",
   "id": "2e25473d-4fc3-4e23-a145-e3247bb65839",
   "metadata": {},
   "source": [
    "### Notice there is no warning when the fit interval doesn't cover an attenuator change!"
   ]
  },
  {
   "cell_type": "code",
   "execution_count": null,
   "id": "165cf812-c0cb-4af4-afcb-17b04d40e6dd",
   "metadata": {},
   "outputs": [],
   "source": [
    "rl.update_event_times(atime.Time('2011-07-30T02:08:20'), atime.Time('2011-07-30T02:10:20'))\n",
    "end_background_time = '2011-07-30T01:56:00'\n",
    "start_background_time = '2011-07-30T01:54:00'\n",
    "rl.update_background_times(atime.Time(start_background_time), atime.Time(end_background_time))"
   ]
  },
  {
   "cell_type": "code",
   "execution_count": null,
   "id": "525e8bdf",
   "metadata": {},
   "outputs": [],
   "source": [
    "plt.figure()\n",
    "rl.lightcurve(energy_ranges=[[4, 10], [10, 30], [30, 100]])"
   ]
  },
  {
   "cell_type": "markdown",
   "id": "2e352848-f7d2-4983-9110-9dd7acaf97d3",
   "metadata": {},
   "source": [
    "### Add systematic error before passing to the fitter object"
   ]
  },
  {
   "cell_type": "code",
   "execution_count": null,
   "id": "64a0ef8f-1053-4596-96f3-e18804ff4c39",
   "metadata": {},
   "outputs": [],
   "source": [
    "# Uniform 10%\n",
    "rl.systematic_error = 0.1"
   ]
  },
  {
   "cell_type": "code",
   "execution_count": null,
   "id": "62829585",
   "metadata": {},
   "outputs": [],
   "source": [
    "ss = fitter.Fitter(rl)\n",
    "ss.energy_fitting_range = [5, 70]"
   ]
  },
  {
   "cell_type": "code",
   "execution_count": null,
   "id": "857eca2b",
   "metadata": {},
   "outputs": [],
   "source": [
    "plt.figure(layout='constrained')\n",
    "axs, *_ = ss.plot()\n",
    "_ = axs[0].set(xscale='log')"
   ]
  },
  {
   "cell_type": "markdown",
   "id": "a24fe60e-683d-48d1-bd94-858f2fd073b3",
   "metadata": {},
   "source": [
    "### Fit the spectrum with a double thick target electron power law"
   ]
  },
  {
   "cell_type": "code",
   "execution_count": null,
   "id": "7b9452d4",
   "metadata": {},
   "outputs": [],
   "source": [
    "def double_thick(electron_flux, low_index, break_energy, up_index, low_cutoff, up_cutoff, energies=None):\n",
    "    from sunkit_spex.emission import bremsstrahlung_thick_target\n",
    "    mids = np.mean(energies, axis=1)\n",
    "    flux = bremsstrahlung_thick_target(\n",
    "        photon_energies=mids,\n",
    "        p=low_index,\n",
    "        eebrk=break_energy,\n",
    "        q=up_index,\n",
    "        eelow=low_cutoff,\n",
    "        eehigh=up_cutoff,\n",
    "    )\n",
    "    \n",
    "    # scale to good units\n",
    "    return 1e35 * electron_flux * flux"
   ]
  },
  {
   "cell_type": "code",
   "execution_count": null,
   "id": "c3ef0b1d",
   "metadata": {},
   "outputs": [],
   "source": [
    "ss.add_photon_model(double_thick, overwrite=True)"
   ]
  },
  {
   "cell_type": "code",
   "execution_count": null,
   "id": "a1925f7e",
   "metadata": {},
   "outputs": [],
   "source": [
    "ss.loglikelihood = 'chi2'\n",
    "ss.model = 'f_vth + double_thick'"
   ]
  },
  {
   "cell_type": "code",
   "execution_count": null,
   "id": "c25d805f",
   "metadata": {},
   "outputs": [],
   "source": [
    "th_params = [\n",
    "    'T1_spectrum1',\n",
    "    'EM1_spectrum1',\n",
    "]\n",
    "nth_params = [\n",
    "    'electron_flux1_spectrum1',\n",
    "    'low_index1_spectrum1',\n",
    "    'up_index1_spectrum1',\n",
    "    'break_energy1_spectrum1',\n",
    "    'low_cutoff1_spectrum1',\n",
    "    'up_cutoff1_spectrum1',\n",
    "]"
   ]
  },
  {
   "cell_type": "code",
   "execution_count": null,
   "id": "c835ae2a",
   "metadata": {},
   "outputs": [],
   "source": [
    "ss.params['T1_spectrum1'] = ['free', 20, (5, 100)]\n",
    "ss.params['EM1_spectrum1'] = ['free', 5000, (500, 100000)]\n",
    "\n",
    "ss.params['electron_flux1_spectrum1'] = ['free', 10, (1, 50)]\n",
    "ss.params['low_index1_spectrum1'] = ['free', 5, (1, 20)]\n",
    "ss.params['up_index1_spectrum1'] = ['free', 5, (1, 20)]\n",
    "\n",
    "ss.params['break_energy1_spectrum1'] = ['free', 40, (40, 100)]\n",
    "ss.params['low_cutoff1_spectrum1'] = ['free', 20, (5, 39)]\n",
    "ss.params['up_cutoff1_spectrum1'] = ['frozen', 500, (5, 1000)]"
   ]
  },
  {
   "cell_type": "markdown",
   "id": "4f1a07aa-2b84-4d4d-8e2d-4e5d8afdb679",
   "metadata": {},
   "source": [
    "### Only thermal params vary first"
   ]
  },
  {
   "cell_type": "code",
   "execution_count": null,
   "id": "2b666a0d",
   "metadata": {},
   "outputs": [],
   "source": [
    "for p in th_params:\n",
    "    ss.params[p] = 'free'\n",
    "for p in nth_params:\n",
    "    ss.params[p] = 'frozen'"
   ]
  },
  {
   "cell_type": "code",
   "execution_count": null,
   "id": "2709d606",
   "metadata": {},
   "outputs": [],
   "source": [
    "_ = ss.fit()"
   ]
  },
  {
   "cell_type": "markdown",
   "id": "48cdb86a-8ecf-4086-a284-bc251d0dbd43",
   "metadata": {},
   "source": [
    "### Only nonthermal params vary now"
   ]
  },
  {
   "cell_type": "code",
   "execution_count": null,
   "id": "5d09de3b",
   "metadata": {},
   "outputs": [],
   "source": [
    "for p in th_params:\n",
    "    ss.params[p] = 'frozen'\n",
    "for p in nth_params:\n",
    "    ss.params[p] = 'free'"
   ]
  },
  {
   "cell_type": "code",
   "execution_count": null,
   "id": "5761670d",
   "metadata": {},
   "outputs": [],
   "source": [
    "_ = ss.fit()"
   ]
  },
  {
   "cell_type": "markdown",
   "id": "8c7f4577-ab55-4c51-94ad-3ddf2e059353",
   "metadata": {},
   "source": [
    "### All params are free to vary"
   ]
  },
  {
   "cell_type": "code",
   "execution_count": null,
   "id": "1e07d626",
   "metadata": {},
   "outputs": [],
   "source": [
    "for p in th_params + nth_params:\n",
    "    ss.params[p] = 'free'"
   ]
  },
  {
   "cell_type": "code",
   "execution_count": null,
   "id": "11a56fb4",
   "metadata": {},
   "outputs": [],
   "source": [
    "_ = ss.fit()"
   ]
  },
  {
   "cell_type": "code",
   "execution_count": null,
   "id": "35235b80",
   "metadata": {},
   "outputs": [],
   "source": [
    "plt.figure(layout='constrained')\n",
    "ss.plot()\n",
    "plt.gca().set(xscale='log')\n",
    "None"
   ]
  },
  {
   "cell_type": "markdown",
   "id": "e0864527",
   "metadata": {},
   "source": [
    "### Now you can run MCMC if you want"
   ]
  },
  {
   "cell_type": "code",
   "execution_count": null,
   "id": "03d49783-22f5-49b3-beb5-5af23c325993",
   "metadata": {},
   "outputs": [],
   "source": [
    "# ss.run_mcmc()"
   ]
  }
 ],
 "metadata": {
  "kernelspec": {
   "display_name": "Python 3 (ipykernel)",
   "language": "python",
   "name": "python3"
  },
  "language_info": {
   "codemirror_mode": {
    "name": "ipython",
    "version": 3
   },
   "file_extension": ".py",
   "mimetype": "text/x-python",
   "name": "python",
   "nbconvert_exporter": "python",
   "pygments_lexer": "ipython3",
   "version": "3.11.6"
  }
 },
 "nbformat": 4,
 "nbformat_minor": 5
}
