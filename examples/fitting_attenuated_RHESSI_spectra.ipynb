{
 "cells": [
  {
   "cell_type": "markdown",
   "id": "531656f7",
   "metadata": {},
   "source": [
    "# Attenuated RHESSI example {[Download data files here](https://drive.google.com/file/d/1FMRVh8E0jCh3mj15r_Fy8g_RhbmlGIj-)}\n",
    "This is looking at the M9 class flare observed by RHESSI from [Knuth+Glesener 2020](https://iopscience.iop.org/article/10.3847/1538-4357/abb779).\n",
    "We perform spectroscopy on the interval where the thick attenuator is inserted.\n",
    "\n",
    "\n",
    "## Important note on systematic error\n",
    "- Systematic error is important to add to RHESSI data so that the minimizer has some wiggle room."
   ]
  },
  {
   "cell_type": "code",
   "execution_count": null,
   "id": "dd38051f",
   "metadata": {},
   "outputs": [],
   "source": [
    "from sunkit_spex.fitting_legacy import fitter\n",
    "from sunkit_spex.extern import rhessi\n",
    "\n",
    "import astropy.time as atime\n",
    "import matplotlib.pyplot as plt\n",
    "import numpy as np\n",
    "\n",
    "%matplotlib inline\n",
    "%config InlineBackend.figure_format = 'retina'"
   ]
  },
  {
   "cell_type": "markdown",
   "id": "0992312f-16db-4a07-97f5-d8c55b2e9d92",
   "metadata": {},
   "source": [
    "### Notice the warning about attenuator changes!"
   ]
  },
  {
   "cell_type": "code",
   "execution_count": null,
   "id": "5798daa8-2be9-4d2d-8104-6db6c838f10a",
   "metadata": {},
   "outputs": [],
   "source": [
    "spec_fn = 'rhessi-data/rhessi-2011-jul-stixbins-spec.fits'\n",
    "srm_fn = spec_fn.replace('spec', 'srm')\n",
    "rl = rhessi.RhessiLoader(spectrum_fn=spec_fn, srm_fn=srm_fn)"
   ]
  },
  {
   "cell_type": "markdown",
   "id": "2e25473d-4fc3-4e23-a145-e3247bb65839",
   "metadata": {},
   "source": [
    "### Notice there is no warning when the fit interval doesn't cover an attenuator change!"
   ]
  },
  {
   "cell_type": "code",
   "execution_count": null,
   "id": "165cf812-c0cb-4af4-afcb-17b04d40e6dd",
   "metadata": {},
   "outputs": [],
   "source": [
    "rl.update_event_times(atime.Time('2011-07-30T02:08:20'), atime.Time('2011-07-30T02:10:20'))\n",
    "end_background_time = '2011-07-30T01:56:00'\n",
    "start_background_time = '2011-07-30T01:54:00'\n",
    "rl.update_background_times(atime.Time(start_background_time), atime.Time(end_background_time))"
   ]
  },
  {
   "cell_type": "code",
   "execution_count": null,
   "id": "525e8bdf",
   "metadata": {},
   "outputs": [],
   "source": [
    "plt.figure()\n",
    "rl.lightcurve(energy_ranges=[[4, 10], [10, 30], [30, 100]])"
   ]
  },
  {
   "cell_type": "markdown",
   "id": "2e352848-f7d2-4983-9110-9dd7acaf97d3",
   "metadata": {},
   "source": [
    "### Add systematic error before passing to the fitter object"
   ]
  },
  {
   "cell_type": "code",
   "execution_count": null,
   "id": "64a0ef8f-1053-4596-96f3-e18804ff4c39",
   "metadata": {},
   "outputs": [],
   "source": [
    "# Uniform 10%\n",
    "rl.systematic_error = 0.1"
   ]
  },
  {
   "cell_type": "code",
   "execution_count": null,
   "id": "62829585",
   "metadata": {},
   "outputs": [],
   "source": [
    "ss = fitter.Fitter(rl)\n",
    "ss.energy_fitting_range = [5, 70]"
   ]
  },
  {
   "cell_type": "code",
   "execution_count": null,
   "id": "857eca2b",
   "metadata": {},
   "outputs": [],
   "source": [
    "plt.figure(layout='constrained')\n",
    "axs, *_ = ss.plot()\n",
    "_ = axs[0].set(xscale='log')"
   ]
  },
  {
   "cell_type": "markdown",
   "id": "a24fe60e-683d-48d1-bd94-858f2fd073b3",
   "metadata": {},
   "source": [
    "### Fit the spectrum with a double thick target electron power law"
   ]
  },
  {
   "cell_type": "code",
   "execution_count": null,
   "id": "7b9452d4",
   "metadata": {},
   "outputs": [],
   "source": [
    "def double_thick(electron_flux, low_index, break_energy, up_index, low_cutoff, up_cutoff, energies=None):\n",
    "    from sunkit_spex.emission import bremsstrahlung_thick_target\n",
    "    mids = np.mean(energies, axis=1)\n",
    "    flux = bremsstrahlung_thick_target(\n",
    "        photon_energies=mids,\n",
    "        p=low_index,\n",
    "        eebrk=break_energy,\n",
    "        q=up_index,\n",
    "        eelow=low_cutoff,\n",
    "        eehigh=up_cutoff,\n",
    "    )\n",
    "    \n",
    "    # scale to good units\n",
    "    return 1e35 * electron_flux * flux"
   ]
  },
  {
   "cell_type": "code",
   "execution_count": null,
   "id": "c3ef0b1d",
   "metadata": {},
   "outputs": [],
   "source": [
    "ss.add_photon_model(double_thick, overwrite=True)"
   ]
  },
  {
   "cell_type": "code",
   "execution_count": null,
   "id": "a1925f7e",
   "metadata": {},
   "outputs": [],
   "source": [
    "ss.loglikelihood = 'chi2'\n",
    "ss.model = 'f_vth + double_thick'"
   ]
  },
  {
   "cell_type": "code",
   "execution_count": null,
   "id": "c25d805f",
   "metadata": {},
   "outputs": [],
   "source": [
    "th_params = [\n",
    "    'T1_spectrum1',\n",
    "    'EM1_spectrum1',\n",
    "]\n",
    "nth_params = [\n",
    "    'electron_flux1_spectrum1',\n",
    "    'low_index1_spectrum1',\n",
    "    'up_index1_spectrum1',\n",
    "    'break_energy1_spectrum1',\n",
    "    'low_cutoff1_spectrum1',\n",
    "    'up_cutoff1_spectrum1',\n",
    "]"
   ]
  },
  {
   "cell_type": "code",
   "execution_count": null,
   "id": "c835ae2a",
   "metadata": {},
   "outputs": [],
   "source": [
    "ss.params['T1_spectrum1'] = ['free', 20, (5, 100)]\n",
    "ss.params['EM1_spectrum1'] = ['free', 5000, (500, 100000)]\n",
    "\n",
    "ss.params['electron_flux1_spectrum1'] = ['free', 10, (1, 50)]\n",
    "ss.params['low_index1_spectrum1'] = ['free', 5, (1, 20)]\n",
    "ss.params['up_index1_spectrum1'] = ['free', 5, (1, 20)]\n",
    "\n",
    "ss.params['break_energy1_spectrum1'] = ['free', 40, (40, 100)]\n",
    "ss.params['low_cutoff1_spectrum1'] = ['free', 20, (5, 39)]\n",
    "ss.params['up_cutoff1_spectrum1'] = ['frozen', 500, (5, 1000)]"
   ]
  },
  {
   "cell_type": "markdown",
   "id": "4f1a07aa-2b84-4d4d-8e2d-4e5d8afdb679",
   "metadata": {},
   "source": [
    "### Only thermal params vary first"
   ]
  },
  {
   "cell_type": "code",
   "execution_count": null,
   "id": "2b666a0d",
   "metadata": {},
   "outputs": [],
   "source": [
    "for p in th_params:\n",
    "    ss.params[p] = 'free'\n",
    "for p in nth_params:\n",
    "    ss.params[p] = 'frozen'"
   ]
  },
  {
   "cell_type": "code",
   "execution_count": null,
   "id": "2709d606",
   "metadata": {},
   "outputs": [],
   "source": [
    "_ = ss.fit()"
   ]
  },
  {
   "cell_type": "markdown",
   "id": "48cdb86a-8ecf-4086-a284-bc251d0dbd43",
   "metadata": {},
   "source": [
    "### Only nonthermal params vary now"
   ]
  },
  {
   "cell_type": "code",
   "execution_count": null,
   "id": "5d09de3b",
   "metadata": {},
   "outputs": [],
   "source": [
    "for p in th_params:\n",
    "    ss.params[p] = 'frozen'\n",
    "for p in nth_params:\n",
    "    ss.params[p] = 'free'"
   ]
  },
  {
   "cell_type": "code",
   "execution_count": null,
   "id": "5761670d",
   "metadata": {},
   "outputs": [],
   "source": [
    "_ = ss.fit()"
   ]
  },
  {
   "cell_type": "markdown",
   "id": "8c7f4577-ab55-4c51-94ad-3ddf2e059353",
   "metadata": {},
   "source": [
    "### All params are free to vary"
   ]
  },
  {
   "cell_type": "code",
   "execution_count": null,
   "id": "1e07d626",
   "metadata": {},
   "outputs": [],
   "source": [
    "for p in th_params + nth_params:\n",
    "    ss.params[p] = 'free'"
   ]
  },
  {
   "cell_type": "code",
   "execution_count": null,
   "id": "11a56fb4",
   "metadata": {},
   "outputs": [],
   "source": [
    "_ = ss.fit()"
   ]
  },
  {
   "cell_type": "code",
   "execution_count": null,
   "id": "35235b80",
   "metadata": {},
   "outputs": [],
   "source": [
    "plt.figure(layout='constrained')\n",
    "ss.plot()\n",
    "plt.gca().set(xscale='log')\n",
    "None"
   ]
  },
  {
   "cell_type": "markdown",
   "id": "e0864527",
   "metadata": {},
   "source": [
    "### Now you can run MCMC if you want"
   ]
  },
  {
   "cell_type": "code",
   "execution_count": null,
   "id": "03d49783-22f5-49b3-beb5-5af23c325993",
   "metadata": {},
   "outputs": [],
   "source": [
    "# ss.run_mcmc()"
   ]
  }
 ],
 "metadata": {
  "kernelspec": {
   "display_name": "Python 3 (ipykernel)",
   "language": "python",
   "name": "python3"
  },
  "language_info": {
   "codemirror_mode": {
    "name": "ipython",
    "version": 3
   },
   "file_extension": ".py",
   "mimetype": "text/x-python",
   "name": "python",
   "nbconvert_exporter": "python",
   "pygments_lexer": "ipython3",
   "version": "3.12.1"
  }
 },
 "nbformat": 4,
 "nbformat_minor": 5
}
