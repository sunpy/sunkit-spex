{
 "cells": [
  {
   "cell_type": "markdown",
   "metadata": {
    "pycharm": {
     "name": "#%% md\n"
    }
   },
   "source": [
    "# Example of Fitting RHESSI Spectra"
   ]
  },
  {
   "cell_type": "markdown",
   "metadata": {
    "pycharm": {
     "name": "#%% md\n"
    }
   },
   "source": [
    "This notebook provides a quick overlook of the fitting code in sunkit-spex and some real examples of fitting RHESSI spectra that can be compared to published works.\n",
    "\n",
    "This Notebook has been run on my Macbook (processor: Intel i5-7360U @ 2.3 GHz).\n",
    "\n",
    "**For a more explained demonstration of the general fitting process and capabilities see the NuSTAR fitting example.**"
   ]
  },
  {
   "cell_type": "code",
   "execution_count": null,
   "metadata": {
    "pycharm": {
     "name": "#%%\n"
    }
   },
   "outputs": [],
   "source": [
    "import time\n",
    "import numpy as np\n",
    "import matplotlib.pyplot as plt\n",
    "import warnings\n",
    "warnings.filterwarnings(\"ignore\", category=RuntimeWarning) #\n",
    "warnings.filterwarnings(\"ignore\", category=np.VisibleDeprecationWarning) "
   ]
  },
  {
   "cell_type": "code",
   "execution_count": null,
   "metadata": {
    "scrolled": false,
    "pycharm": {
     "name": "#%%\n"
    }
   },
   "outputs": [],
   "source": [
    "from sunkit_spex.sunxspex_fitting.fitter import Fitter"
   ]
  },
  {
   "cell_type": "code",
   "execution_count": null,
   "metadata": {
    "pycharm": {
     "name": "#%%\n"
    }
   },
   "outputs": [],
   "source": [
    "from IPython.core.display import display, HTML\n",
    "display(HTML('<style>.container{width:100% !important;}</style>'))"
   ]
  },
  {
   "cell_type": "markdown",
   "metadata": {
    "pycharm": {
     "name": "#%% md\n"
    }
   },
   "source": [
    "## Set up some plotting numbers"
   ]
  },
  {
   "cell_type": "code",
   "execution_count": null,
   "metadata": {
    "pycharm": {
     "name": "#%%\n"
    }
   },
   "outputs": [],
   "source": [
    "time_profile_size = (9,6)\n",
    "spec_plot_size = (16,12)\n",
    "tol = 1e-20\n",
    "spec_font_size = 18\n",
    "default_text = 10\n",
    "xlims, ylims = [3,100], [5e-4,1e4]"
   ]
  },
  {
   "cell_type": "markdown",
   "metadata": {
    "pycharm": {
     "name": "#%% md\n"
    }
   },
   "source": [
    "# Let's fit a realistic example\n",
    "\n",
    "Try fitting the spectra presented in [Fletcher *et al.* 2007](https://iopscience.iop.org/article/10.1086/510446). This M1.2 flare occurred on 2002 October 5."
   ]
  },
  {
   "cell_type": "markdown",
   "metadata": {
    "pycharm": {
     "name": "#%% md\n"
    }
   },
   "source": [
    "First, load in the data..."
   ]
  },
  {
   "cell_type": "code",
   "execution_count": null,
   "metadata": {
    "pycharm": {
     "name": "#%%\n"
    }
   },
   "outputs": [],
   "source": [
    "rhess_spec = Fitter(pha_file=\"../data/rhessi/20021005_103800_spec.fits\", srm_file=\"../data/rhessi/20021005_103800_srm.fits\")"
   ]
  },
  {
   "cell_type": "markdown",
   "metadata": {
    "pycharm": {
     "name": "#%% md\n"
    }
   },
   "source": [
    "To see what we have, we can plot the time profile. The whole file time is taken as the event time as default (indicated by purple shaded region).\n",
    "\n",
    "We do this by accessing the RHESSI spectral loader in the `ress_spec.loaded_spec_data` dictionary. Since the RHESSI spectrum is the only one loaded it is under the `\"spectrum1\"` entry.\n",
    "\n",
    "Default energy range plotted is all energies but the user can define an energy rangem or ranges. Ranges are inclusive at the bounds and here we see the 5$-$10 keV, 10$-$30 keV, and 25$-$50 keV ranges."
   ]
  },
  {
   "cell_type": "code",
   "execution_count": null,
   "metadata": {
    "pycharm": {
     "name": "#%%\n"
    }
   },
   "outputs": [],
   "source": [
    "plt.rcParams['font.size'] = spec_font_size\n",
    "plt.figure(figsize=time_profile_size)\n",
    "\n",
    "# the line that actually plots\n",
    "rhess_spec.data.loaded_spec_data['spectrum1'].lightcurve(energy_ranges=[[5,10], [10,30], [25,50]])\n",
    "\n",
    "plt.show()\n",
    "plt.rcParams['font.size'] = default_text"
   ]
  },
  {
   "cell_type": "markdown",
   "metadata": {
    "pycharm": {
     "name": "#%% md\n"
    }
   },
   "source": [
    "Since the default event data is assumed to be the full time, we might want to change this. We also define a background time too and plot again."
   ]
  },
  {
   "cell_type": "code",
   "execution_count": null,
   "metadata": {
    "pycharm": {
     "name": "#%%\n"
    }
   },
   "outputs": [],
   "source": [
    "# background time. Both need to be set, if one is None (default) then no background will be calculated or will be removed\n",
    "rhess_spec.data.loaded_spec_data['spectrum1'].start_background_time = \"2002-10-05T10:38:32\"\n",
    "rhess_spec.data.loaded_spec_data['spectrum1'].end_background_time = \"2002-10-05T10:40:32\"\n",
    "\n",
    "# event time\n",
    "rhess_spec.data.loaded_spec_data['spectrum1'].start_event_time = \"2002-10-05T10:41:20\"\n",
    "rhess_spec.data.loaded_spec_data['spectrum1'].end_event_time = \"2002-10-05T10:42:24\"\n",
    "\n",
    "# plot again\n",
    "plt.rcParams['font.size'] = spec_font_size\n",
    "plt.figure(figsize=time_profile_size)\n",
    "rhess_spec.data.loaded_spec_data['spectrum1'].lightcurve(energy_ranges=[[5,10], [10,30], [25,50]])\n",
    "plt.show()\n",
    "plt.rcParams['font.size'] = default_text"
   ]
  },
  {
   "cell_type": "markdown",
   "metadata": {
    "pycharm": {
     "name": "#%% md\n"
    }
   },
   "source": [
    "We can also see the X-ray evolution via a spectrogram."
   ]
  },
  {
   "cell_type": "code",
   "execution_count": null,
   "metadata": {
    "pycharm": {
     "name": "#%%\n"
    }
   },
   "outputs": [],
   "source": [
    "# plot spectrogram\n",
    "plt.rcParams['font.size'] = spec_font_size\n",
    "plt.figure(figsize=(15,10))\n",
    "rhess_spec.data.loaded_spec_data['spectrum1'].spectrogram()\n",
    "plt.show()\n",
    "plt.rcParams['font.size'] = default_text"
   ]
  },
  {
   "cell_type": "markdown",
   "metadata": {
    "pycharm": {
     "name": "#%% md\n"
    }
   },
   "source": [
    "An alternative to set the event and background times like above is by using the `select_time` method. E.g.,\n",
    "\n",
    "```python\n",
    "ress_spec.loaded_spec_data[\"spectrum1\"].select_time(start=\"2002-10-05T10:38:32\", end=\"2002-10-05T10:40:32\", background=True)\n",
    "\n",
    "ress_spec.loaded_spec_data[\"spectrum1\"].select_time(start=\"2002-10-05T10:41:20\", end=\"2002-10-05T10:42:24\")\n",
    "```\n",
    "Both and end and a start time needs to be defined for the background, whereas the event time is assumed to commence/finish at the first/final data time if the start/end time is not given."
   ]
  },
  {
   "cell_type": "markdown",
   "metadata": {
    "pycharm": {
     "name": "#%% md\n"
    }
   },
   "source": [
    "Now let's get going with a model and explicitly stating a fit statistic"
   ]
  },
  {
   "cell_type": "code",
   "execution_count": null,
   "metadata": {
    "pycharm": {
     "name": "#%%\n"
    }
   },
   "outputs": [],
   "source": [
    "rhess_spec.model = \"(f_vth+thick_fn)\"\n",
    "rhess_spec.loglikelihood = \"cstat\""
   ]
  },
  {
   "cell_type": "markdown",
   "metadata": {
    "pycharm": {
     "name": "#%% md\n"
    }
   },
   "source": [
    "See what parameters we have to play with:"
   ]
  },
  {
   "cell_type": "code",
   "execution_count": null,
   "metadata": {
    "pycharm": {
     "name": "#%%\n"
    }
   },
   "outputs": [],
   "source": [
    "rhess_spec.show_params"
   ]
  },
  {
   "cell_type": "markdown",
   "metadata": {
    "pycharm": {
     "name": "#%% md\n"
    }
   },
   "source": [
    "Looking at the spectrum, define sensible numbers for starting values (maybe some trial and error here).\n",
    "\n",
    "For this sepctrum, we will fit the thermal and non-thermal model over different energy ranges separately then both over the full range.\n",
    "\n",
    "We fit the thermal model from 6$-$15 keV and fix the non-thermal model parameters."
   ]
  },
  {
   "cell_type": "code",
   "execution_count": null,
   "metadata": {
    "pycharm": {
     "name": "#%%\n"
    }
   },
   "outputs": [],
   "source": [
    "# define energy fitting range\n",
    "rhess_spec.energy_fitting_range = [6,15]\n",
    "\n",
    "# sort model parameters\n",
    "rhess_spec.params[\"T1_spectrum1\"] = {\"Value\":50, \"Bounds\":(15, 99)}\n",
    "rhess_spec.params[\"EM1_spectrum1\"] = {\"Value\":2e1, \"Bounds\":(1e0, 1e4)}\n",
    "rhess_spec.params[\"total_eflux1_spectrum1\"] = {\"Status\":\"fix\", \"Value\":0.9, \"Bounds\":(1e-1, 1e1)}\n",
    "rhess_spec.params[\"index1_spectrum1\"] = {\"Status\":\"fix\", \"Value\":6, \"Bounds\":(3, 1e1)}\n",
    "rhess_spec.params[\"e_c1_spectrum1\"] = {\"Status\":\"fix\", \"Value\":2e1, \"Bounds\":(1e1, 1e2)}"
   ]
  },
  {
   "cell_type": "markdown",
   "metadata": {
    "pycharm": {
     "name": "#%% md\n"
    }
   },
   "source": [
    "Now perform the fit."
   ]
  },
  {
   "cell_type": "code",
   "execution_count": null,
   "metadata": {
    "pycharm": {
     "name": "#%%\n"
    }
   },
   "outputs": [],
   "source": [
    "rhess_spec_fit = rhess_spec.fit(tol=tol)"
   ]
  },
  {
   "cell_type": "markdown",
   "metadata": {
    "pycharm": {
     "name": "#%% md\n"
    }
   },
   "source": [
    "Fix thermal parameters and free non-thermal parameters and fit over 15$-$45 keV."
   ]
  },
  {
   "cell_type": "code",
   "execution_count": null,
   "metadata": {
    "pycharm": {
     "name": "#%%\n"
    }
   },
   "outputs": [],
   "source": [
    "# define energy fitting range\n",
    "rhess_spec.energy_fitting_range = [15,45]\n",
    "\n",
    "# sort model parameters\n",
    "rhess_spec.params[\"T1_spectrum1\"] = \"fix\"\n",
    "rhess_spec.params[\"EM1_spectrum1\"] = \"fix\"\n",
    "rhess_spec.params[\"total_eflux1_spectrum1\"] = \"free\"\n",
    "rhess_spec.params[\"index1_spectrum1\"] = \"free\"\n",
    "rhess_spec.params[\"e_c1_spectrum1\"] = \"free\"\n",
    "\n",
    "# fit\n",
    "rhess_spec_fit = rhess_spec.fit(tol=tol)"
   ]
  },
  {
   "cell_type": "markdown",
   "metadata": {
    "pycharm": {
     "name": "#%% md\n"
    }
   },
   "source": [
    "Free all parameters and fit over 6$-$45 keV."
   ]
  },
  {
   "cell_type": "code",
   "execution_count": null,
   "metadata": {
    "pycharm": {
     "name": "#%%\n"
    }
   },
   "outputs": [],
   "source": [
    "# define energy fitting range\n",
    "rhess_spec.energy_fitting_range = [6,45]\n",
    "\n",
    "# sort model parameters\n",
    "rhess_spec.params[\"T1_spectrum1\"] = \"free\"\n",
    "rhess_spec.params[\"EM1_spectrum1\"] = \"free\"\n",
    "rhess_spec.params[\"total_eflux1_spectrum1\"] = \"free\"\n",
    "rhess_spec.params[\"index1_spectrum1\"] = \"free\"\n",
    "rhess_spec.params[\"e_c1_spectrum1\"] = \"free\"\n",
    "\n",
    "# fit\n",
    "rhess_spec_fit = rhess_spec.fit(tol=tol)"
   ]
  },
  {
   "cell_type": "markdown",
   "metadata": {
    "pycharm": {
     "name": "#%% md\n"
    }
   },
   "source": [
    "Let's plot the result. Since a background has been set it will be displayed in grey behind all other models and data."
   ]
  },
  {
   "cell_type": "code",
   "execution_count": null,
   "metadata": {
    "pycharm": {
     "name": "#%%\n"
    }
   },
   "outputs": [],
   "source": [
    "plt.rcParams['font.size'] = spec_font_size\n",
    "plt.figure(figsize=spec_plot_size)\n",
    "\n",
    "# the line that actually plots\n",
    "axes, res_axes = rhess_spec.plot()\n",
    "\n",
    "# make plot nicer\n",
    "for a in axes:\n",
    "    a.set_xlim(xlims)\n",
    "    a.set_ylim(ylims)\n",
    "    a.set_xscale(\"log\")\n",
    "plt.show()\n",
    "plt.rcParams['font.size'] = default_text"
   ]
  },
  {
   "cell_type": "markdown",
   "metadata": {
    "pycharm": {
     "name": "#%% md\n"
    }
   },
   "source": [
    "## How is the background included when fitting?"
   ]
  },
  {
   "cell_type": "markdown",
   "metadata": {
    "pycharm": {
     "name": "#%% md\n"
    }
   },
   "source": [
    "By default the (time scaled) background is added to the model then compared to the event data (i.e., fitting the event data with background+model). This is the recommended approach, especially since we're dealing with Poisson statistics.\n",
    "\n",
    "However, this has been dificult in the past in software like OSPEX and so fitting usually been done by subtracting the background from the event time and fitting the model to the result (i.e., fitting the event-background with the model). To replicate this method we make use of the `data2data_minus_background` setter; we set this to True."
   ]
  },
  {
   "cell_type": "code",
   "execution_count": null,
   "metadata": {
    "pycharm": {
     "name": "#%%\n"
    }
   },
   "outputs": [],
   "source": [
    "rhess_spec.data.loaded_spec_data['spectrum1'].data2data_minus_background = True"
   ]
  },
  {
   "cell_type": "markdown",
   "metadata": {
    "pycharm": {
     "name": "#%% md\n"
    }
   },
   "source": [
    "The data being fitted then becomes event-background and a dictionary key is set to make sure that the background is not included in the fitting process. Fitting continues as normal as though there is not background."
   ]
  },
  {
   "cell_type": "markdown",
   "metadata": {
    "pycharm": {
     "name": "#%% md\n"
    }
   },
   "source": [
    "We then reset the parameter starting values, perform the fit, and plot again."
   ]
  },
  {
   "cell_type": "code",
   "execution_count": null,
   "metadata": {
    "pycharm": {
     "name": "#%%\n"
    }
   },
   "outputs": [],
   "source": [
    "# define energy fitting range\n",
    "rhess_spec.energy_fitting_range = [6,15]\n",
    "\n",
    "# sort model parameters\n",
    "rhess_spec.params[\"T1_spectrum1\"] = {\"Value\":50, \"Bounds\":(15, 99)}#22\n",
    "rhess_spec.params[\"EM1_spectrum1\"] = {\"Value\":2e1, \"Bounds\":(1e0, 1e2)}#20\n",
    "rhess_spec.params[\"total_eflux1_spectrum1\"] = {\"Status\":\"fix\", \"Value\":0.9, \"Bounds\":(1e-1, 1e1)}\n",
    "rhess_spec.params[\"index1_spectrum1\"] = {\"Status\":\"fix\", \"Value\":6, \"Bounds\":(3, 1e1)}\n",
    "rhess_spec.params[\"e_c1_spectrum1\"] = {\"Status\":\"fix\", \"Value\":2e1, \"Bounds\":(1e1, 1e2)}\n",
    "\n",
    "# fit\n",
    "rhess_spec.fit(tol=tol)\n",
    "\n",
    "\n",
    "# define energy fitting range\n",
    "rhess_spec.energy_fitting_range = [15,45]\n",
    "\n",
    "# sort model parameters\n",
    "rhess_spec.params[\"T1_spectrum1\"] = \"fix\"\n",
    "rhess_spec.params[\"EM1_spectrum1\"] = \"fix\"\n",
    "rhess_spec.params[\"total_eflux1_spectrum1\"] = \"free\"\n",
    "rhess_spec.params[\"index1_spectrum1\"] = \"free\"\n",
    "rhess_spec.params[\"e_c1_spectrum1\"] = \"free\"\n",
    "\n",
    "# fit\n",
    "rhess_spec.fit(tol=tol)\n",
    "\n",
    "\n",
    "# define energy fitting range\n",
    "rhess_spec.energy_fitting_range = [6,45]\n",
    "\n",
    "# sort model parameters\n",
    "rhess_spec.params[\"T1_spectrum1\"] = \"free\"\n",
    "rhess_spec.params[\"EM1_spectrum1\"] = \"free\"\n",
    "rhess_spec.params[\"total_eflux1_spectrum1\"] = \"free\"\n",
    "rhess_spec.params[\"index1_spectrum1\"] = \"free\"\n",
    "rhess_spec.params[\"e_c1_spectrum1\"] = \"free\"\n",
    "\n",
    "# fit\n",
    "rhess_spec.fit(tol=tol)\n",
    "\n",
    "\n",
    "# start plot\n",
    "plt.rcParams['font.size'] = spec_font_size\n",
    "plt.figure(figsize=spec_plot_size)\n",
    "\n",
    "# the line that actually plots\n",
    "axes, res_axes = rhess_spec.plot()\n",
    "\n",
    "# make plot nicer\n",
    "for a in axes:\n",
    "    a.set_xlim(xlims)\n",
    "    a.set_ylim(ylims)\n",
    "    a.set_xscale(\"log\")\n",
    "plt.show()\n",
    "plt.rcParams['font.size'] = default_text"
   ]
  },
  {
   "cell_type": "markdown",
   "metadata": {
    "pycharm": {
     "name": "#%% md\n"
    }
   },
   "source": [
    "As we can see, there is a \"Counts=Evt-BG\" tag added in the top left corner of the plot along with the BG grey label to indicate that the counts being fitted are calculated from the background subtracted event data.."
   ]
  },
  {
   "cell_type": "markdown",
   "metadata": {
    "pycharm": {
     "name": "#%% md\n"
    }
   },
   "source": [
    "If the user wishes to undo this and wants to return to using the model+background fitting the event method then set `data2data_minus_background` back to False like so..."
   ]
  },
  {
   "cell_type": "code",
   "execution_count": null,
   "metadata": {
    "pycharm": {
     "name": "#%%\n"
    }
   },
   "outputs": [],
   "source": [
    "rhess_spec.data.loaded_spec_data['spectrum1'].data2data_minus_background = False"
   ]
  },
  {
   "cell_type": "markdown",
   "metadata": {
    "pycharm": {
     "name": "#%% md\n"
    }
   },
   "source": [
    "Any change to the background time and the `data2data_minus_background` setter will be set back to False. Therefore, if the user changes the background times at all and still wants the event-background method then the `data2data_minus_background` setter must be set to True again."
   ]
  },
  {
   "cell_type": "markdown",
   "metadata": {
    "pycharm": {
     "name": "#%% md\n"
    }
   },
   "source": [
    "## Running an MCMC"
   ]
  },
  {
   "cell_type": "markdown",
   "metadata": {
    "pycharm": {
     "name": "#%% md\n"
    }
   },
   "source": [
    "Run the MCMC."
   ]
  },
  {
   "cell_type": "code",
   "execution_count": null,
   "metadata": {
    "pycharm": {
     "name": "#%%\n"
    }
   },
   "outputs": [],
   "source": [
    "rhess_spec_mcmc = rhess_spec.run_mcmc()"
   ]
  },
  {
   "cell_type": "markdown",
   "metadata": {
    "pycharm": {
     "name": "#%% md\n"
    }
   },
   "source": [
    "Look at the detailed MCMC results."
   ]
  },
  {
   "cell_type": "code",
   "execution_count": null,
   "metadata": {
    "pycharm": {
     "name": "#%%\n"
    }
   },
   "outputs": [],
   "source": [
    "# burn the run in phase\n",
    "rhess_spec.burn_mcmc = 250\n",
    "\n",
    "# look if the log probability chain has settled and decide if the number of samples burned was appropriate\n",
    "plt.figure()\n",
    "rhess_spec.plot_log_prob_chain()\n",
    "plt.ylim([-80,-60])\n",
    "plt.show()\n",
    "\n",
    "# produce a corner plot\n",
    "corner_plot_ress_spec = rhess_spec.corner_mcmc()"
   ]
  },
  {
   "cell_type": "markdown",
   "metadata": {
    "pycharm": {
     "name": "#%% md\n"
    }
   },
   "source": [
    "Plot final spectral results."
   ]
  },
  {
   "cell_type": "code",
   "execution_count": null,
   "metadata": {
    "pycharm": {
     "name": "#%%\n"
    }
   },
   "outputs": [],
   "source": [
    "# start plot\n",
    "plt.rcParams['font.size'] = spec_font_size\n",
    "plt.figure(figsize=spec_plot_size)\n",
    "\n",
    "# the line that actually plots\n",
    "axes, res_axes = rhess_spec.plot()\n",
    "\n",
    "# make plot nicer\n",
    "for a in axes:\n",
    "    a.set_xlim(xlims)\n",
    "    a.set_ylim(ylims)\n",
    "    a.set_xscale(\"log\")\n",
    "plt.show()\n",
    "plt.rcParams['font.size'] = default_text"
   ]
  },
  {
   "cell_type": "markdown",
   "metadata": {
    "pycharm": {
     "name": "#%% md\n"
    }
   },
   "source": [
    "## Save out session"
   ]
  },
  {
   "cell_type": "code",
   "execution_count": null,
   "metadata": {
    "pycharm": {
     "name": "#%%\n"
    }
   },
   "outputs": [],
   "source": [
    "save_filename = \"../savedFits/sunxspexRhessiSpectralFitting.pickle\"\n",
    "rhess_spec.save(save_filename)"
   ]
  },
  {
   "cell_type": "markdown",
   "metadata": {
    "pycharm": {
     "name": "#%% md\n"
    }
   },
   "source": [
    "## Loading session back in"
   ]
  },
  {
   "cell_type": "markdown",
   "metadata": {
    "pycharm": {
     "name": "#%% md\n"
    }
   },
   "source": [
    "The session can be loaded back in using the following code as an example,\n",
    "\n",
    "```python\n",
    "from sunkit_spex.sunxspex_fitting.fitter import load\n",
    "\n",
    "rhessi_reloaded = load(save_filename)\n",
    "```"
   ]
  },
  {
   "cell_type": "markdown",
   "metadata": {
    "pycharm": {
     "name": "#%% md\n"
    }
   },
   "source": [
    "## Comparisons"
   ]
  },
  {
   "cell_type": "markdown",
   "metadata": {
    "pycharm": {
     "name": "#%% md\n"
    }
   },
   "source": [
    "| Model Parameter                  | OSPEX (Flecther et al. 2007)*  | Recent OSPEX Fit (from Iain Hannah)| This Work (Minimize Soln, evt-bg)| This Work (Minimize Soln)       | This Work (MCMC)                        |\n",
    "| :---                             |    :----:                      |     :----:                         |                         :----:   |                         :----:  |                                  ----:  |\n",
    "| Temperature [MK]                 | 24.13                          | 22.45                              | 22.7$\\pm$0.1                     | 22.9$\\pm$0.1                    | 22.71$^{+0.29}_{-0.34}$                 |\n",
    "| Emission Measure [cm$^{-3}$]     | 1.6$\\times$10$^{47}$           | 2.0$\\times$10$^{47}$               | 1.92$\\pm$0.05$\\times$10$^{47}$   | 1.90$\\pm$0.04$\\times$10$^{47}$  | 1.83$^{+0.09}_{-0.08}\\times$10$^{47}$   |\n",
    "| Electron Flux [e$^{-}$ s$^{-1}$] |   *                            | 9.8$\\times$10$^{34}$               | 8.8$\\pm$0.2$\\times$10$^{34}$     | 8.5$\\pm$0.2$\\times$10$^{34}$    | 8.5$^{+1.1}_{-1.2}\\times$10$^{34}$      |\n",
    "| Index                            |   *                            | 5.77                               | 5.70$\\pm$0.05                    | 5.71$\\pm$0.05                   | 5.65$^{+0.06}_{-0.04}$                  |\n",
    "| Low Energy Cut-off [keV]         |   *                            | 19.44                              | 19.8$\\pm$0.1                     | 19.9$\\pm$0.1                    | 19.8$^{+0.6}_{-0.5}$                    |\n",
    "\n",
    "$^{*}$ Fletcher *et al.* 2007's spectrum is fit with a broken power-law model approximating the thick target model."
   ]
  },
  {
   "cell_type": "markdown",
   "metadata": {
    "pycharm": {
     "name": "#%% md\n"
    }
   },
   "source": [
    "***"
   ]
  },
  {
   "cell_type": "markdown",
   "metadata": {
    "pycharm": {
     "name": "#%% md\n"
    }
   },
   "source": [
    "***"
   ]
  }
 ],
 "metadata": {
  "kernelspec": {
   "display_name": "Python 3 (ipykernel)",
   "language": "python",
   "name": "python3"
  },
  "language_info": {
   "codemirror_mode": {
    "name": "ipython",
    "version": 3
   },
   "file_extension": ".py",
   "mimetype": "text/x-python",
   "name": "python",
   "nbconvert_exporter": "python",
   "pygments_lexer": "ipython3",
   "version": "3.8.6"
  }
 },
 "nbformat": 4,
 "nbformat_minor": 4
}
