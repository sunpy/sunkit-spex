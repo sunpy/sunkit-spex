{
 "cells": [
  {
   "cell_type": "markdown",
   "id": "7951fa05",
   "metadata": {},
   "source": [
    "# STIX spectroscopy example\n",
    "## Candidate flare: 2022 April 20, M1"
   ]
  },
  {
   "cell_type": "code",
   "execution_count": null,
   "id": "2a72da45",
   "metadata": {},
   "outputs": [],
   "source": [
    "import matplotlib.pyplot as plt\n",
    "%matplotlib qt\n",
    "import wget\n",
    "import os\n",
    "\n",
    "from sunxspex.sunxspex_fitting import fitter\n",
    "from sunxspex.sunxspex_fitting import instruments as instr"
   ]
  },
  {
   "cell_type": "markdown",
   "id": "029ce834",
   "metadata": {},
   "source": [
    "## Here's an example fit\n",
    "![fit](example-fit.png)"
   ]
  },
  {
   "cell_type": "markdown",
   "id": "ce184fba",
   "metadata": {},
   "source": [
    "## Download files"
   ]
  },
  {
   "cell_type": "code",
   "execution_count": null,
   "id": "e6b3473e",
   "metadata": {},
   "outputs": [],
   "source": [
    "# Download the even fits file\n",
    "ident = '2204198941'\n",
    "url = f'https://datacenter.stix.i4ds.net/download/fits/bsd/{ident}'\n",
    "fn = wget.download(url)\n",
    "\n",
    "os.rename(fn, ident + '.fits')\n",
    "dat_fn = ident + '.fits'"
   ]
  },
  {
   "cell_type": "code",
   "execution_count": null,
   "id": "804a92a0",
   "metadata": {},
   "outputs": [],
   "source": [
    "# Download a corresponding SRM (precalculated using OSPEX)\n",
    "url = 'https://drive.google.com/uc?export=download&id=1OJBld0uzNSBdtK5P1vhA2nccGfNtXAc_'\n",
    "srm_fn = wget.download(url)"
   ]
  },
  {
   "cell_type": "markdown",
   "id": "51e8af7f",
   "metadata": {},
   "source": [
    "## Load in the data files, select SRM type and time base (UTC or spacecraft)"
   ]
  },
  {
   "cell_type": "code",
   "execution_count": null,
   "id": "93b42db9",
   "metadata": {
    "scrolled": true
   },
   "outputs": [],
   "source": [
    "stix_load = instr.StixLoader(\n",
    "    data_file=dat_fn,\n",
    "    srm_file=srm_fn,\n",
    "    srm_type='unattenuated',\n",
    "    time_base='utc'\n",
    ")"
   ]
  },
  {
   "cell_type": "markdown",
   "id": "dcd47ba8",
   "metadata": {},
   "source": [
    "## Pick fitting ranges and check that they make sense\n",
    "### Also: add on systematic error _after_ picking fitting ranges."
   ]
  },
  {
   "cell_type": "code",
   "execution_count": null,
   "id": "d049f30f",
   "metadata": {},
   "outputs": [],
   "source": [
    "stix_load.start_event_time = '2022-04-20T01:07:00'\n",
    "stix_load.end_event_time = '2022-04-20T01:13:00'\n",
    "\n",
    "\n",
    "stix_load.start_background_time = '2022-04-19T22:57:00'\n",
    "stix_load.end_background_time = '2022-04-19T23:12:00'\n",
    "\n",
    "# must occur after setting times otherwise results are bogus\n",
    "stix_load.add_systematic_error(0.05)"
   ]
  },
  {
   "cell_type": "markdown",
   "id": "38dce9ba",
   "metadata": {},
   "source": [
    "## Give the data to Sunxspex and fit it\n",
    "### In this case we can just give decent starting guesses and end up with a fit that works. We don't have to fit thermal/nonthermal separately."
   ]
  },
  {
   "cell_type": "code",
   "execution_count": null,
   "id": "5bb04f90",
   "metadata": {},
   "outputs": [],
   "source": [
    "ss = fitter.SunXspex(stix_load)"
   ]
  },
  {
   "cell_type": "code",
   "execution_count": null,
   "id": "817c6ceb",
   "metadata": {},
   "outputs": [],
   "source": [
    "ss.loglikelihood = 'chi2'\n",
    "ss.model = 'f_vth + thick_fn'"
   ]
  },
  {
   "cell_type": "code",
   "execution_count": null,
   "id": "8074e97a",
   "metadata": {},
   "outputs": [],
   "source": [
    "tp = 'T1_spectrum1'\n",
    "emp = 'EM1_spectrum1'\n",
    "thermal_params = [tp, emp]\n",
    "\n",
    "efp = 'total_eflux1_spectrum1'\n",
    "ip = 'index1_spectrum1'\n",
    "ecp = 'e_c1_spectrum1'\n",
    "nonthermal_params = [efp, ip, ecp]\n",
    "\n",
    "ss.params[tp] = [20, (5, 50)]\n",
    "ss.params[emp] = [1000, (0, 1e5)]\n",
    "\n",
    "ss.params[efp] = [10, (0, 100)]\n",
    "ss.params[ip] = [6, (3, 10)]\n",
    "ss.params[ecp] = [10, (5, 20)]"
   ]
  },
  {
   "cell_type": "code",
   "execution_count": null,
   "id": "6cadc6e6",
   "metadata": {},
   "outputs": [],
   "source": [
    "for p in (thermal_params + nonthermal_params):\n",
    "    ss.params[p] = 'free'"
   ]
  },
  {
   "cell_type": "code",
   "execution_count": null,
   "id": "1c9d463e",
   "metadata": {},
   "outputs": [],
   "source": [
    "ss.energy_fitting_range = [0, 60]\n",
    "ss.fit()"
   ]
  },
  {
   "cell_type": "code",
   "execution_count": null,
   "id": "e9856dd2",
   "metadata": {},
   "outputs": [],
   "source": [
    "axs, *_ = ss.plot()\n",
    "axs[0].set(xscale='log')\n",
    "plt.show()"
   ]
  },
  {
   "cell_type": "code",
   "execution_count": null,
   "id": "06f794af",
   "metadata": {},
   "outputs": [],
   "source": [
    "ss.run_mcmc(walker_spread='mag_order')"
   ]
  },
  {
   "cell_type": "code",
   "execution_count": null,
   "id": "270e230b",
   "metadata": {},
   "outputs": [],
   "source": [
    "plt.figure()\n",
    "ss.burn_mcmc = 130\n",
    "ss.plot_log_prob_chain()"
   ]
  },
  {
   "cell_type": "code",
   "execution_count": null,
   "id": "bad9a4c3",
   "metadata": {},
   "outputs": [],
   "source": [
    "plt.figure()\n",
    "ss.corner_mcmc()"
   ]
  },
  {
   "cell_type": "code",
   "execution_count": null,
   "id": "e623474d",
   "metadata": {},
   "outputs": [],
   "source": [
    "plt.figure(layout='tight', figsize=(10, 6))\n",
    "axs, *_ = ss.plot()\n",
    "axs[0].set(xscale='log', title='Example fit')\n",
    "plt.show()"
   ]
  }
 ],
 "metadata": {
  "kernelspec": {
   "display_name": "Python 3 (ipykernel)",
   "language": "python",
   "name": "python3"
  },
  "language_info": {
   "codemirror_mode": {
    "name": "ipython",
    "version": 3
   },
   "file_extension": ".py",
   "mimetype": "text/x-python",
   "name": "python",
   "nbconvert_exporter": "python",
   "pygments_lexer": "ipython3",
   "version": "3.11.4"
  }
 },
 "nbformat": 4,
 "nbformat_minor": 5
}
