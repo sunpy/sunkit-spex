{
 "cells": [
  {
   "cell_type": "markdown",
   "metadata": {},
   "source": [
    "# Example of Fitting NuSTAR Spectra"
   ]
  },
  {
   "cell_type": "markdown",
   "metadata": {},
   "source": [
    "This notebook provides a quick overlook of the fitting code in SunXspex and some real examples of fitting NuSTAR spectra with comparisons to published works.\n",
    "\n",
    "This Notebook has been run on my Macbook (processor: Intel i5-7360U @ 2.3 GHz)."
   ]
  },
  {
   "cell_type": "code",
   "execution_count": 1,
   "metadata": {},
   "outputs": [],
   "source": [
    "import time\n",
    "import numpy as np\n",
    "import matplotlib.pyplot as plt\n",
    "import warnings\n",
    "warnings.filterwarnings(\"ignore\", category=RuntimeWarning) \n",
    "warnings.filterwarnings(\"ignore\", category=np.VisibleDeprecationWarning) "
   ]
  },
  {
   "cell_type": "code",
   "execution_count": 2,
   "metadata": {
    "scrolled": false
   },
   "outputs": [],
   "source": [
    "from sunxspex.sunxspex_fitting.fitter import SunXspex"
   ]
  },
  {
   "cell_type": "code",
   "execution_count": 3,
   "metadata": {},
   "outputs": [
    {
     "name": "stderr",
     "output_type": "stream",
     "text": [
      "/var/folders/r1/6cz6bl3156s18tp0wqggp6mc0000gn/T/ipykernel_42035/3805086136.py:1: DeprecationWarning: Importing display from IPython.core.display is deprecated since IPython 7.14, please import from IPython display\n",
      "  from IPython.core.display import display, HTML\n"
     ]
    },
    {
     "data": {
      "text/html": [
       "<style>.container{width:100% !important;}</style>"
      ],
      "text/plain": [
       "<IPython.core.display.HTML object>"
      ]
     },
     "metadata": {},
     "output_type": "display_data"
    }
   ],
   "source": [
    "from IPython.core.display import display, HTML\n",
    "display(HTML('<style>.container{width:100% !important;}</style>'))"
   ]
  },
  {
   "cell_type": "markdown",
   "metadata": {},
   "source": [
    "## Set up some plotting numbers"
   ]
  },
  {
   "cell_type": "code",
   "execution_count": null,
   "metadata": {},
   "outputs": [],
   "source": [
    "spec_single_plot_size = (8,10)\n",
    "spec_plot_size = (25,10)\n",
    "spec_font_size = 18\n",
    "default_font_size = 10\n",
    "x_limits, y_limits = [1.6,8.5], [1e-1,1e3]"
   ]
  },
  {
   "cell_type": "markdown",
   "metadata": {},
   "source": [
    "# Load in one spectrum and fit it with one model"
   ]
  },
  {
   "cell_type": "code",
   "execution_count": null,
   "metadata": {},
   "outputs": [],
   "source": [
    "# First, load in your data files, here we load in 1 spectrum\n",
    "_dir = \"../data/nustar/m3_time2628/\"\n",
    "spec = SunXspex(pha_file=[_dir+'nu80414202001A06_chu23_S_cl_grade0_sr.pha'])\n",
    "                \n",
    "# All the data can be accessed via spec.loaded_spec_data\n",
    "                \n",
    "# Next you can define a model, here we go for a single isothermal model\n",
    "spec.model = \"f_vth\""
   ]
  },
  {
   "cell_type": "markdown",
   "metadata": {},
   "source": [
    "And all data can be accessed via `spec.loaded_spec_data`."
   ]
  },
  {
   "cell_type": "code",
   "execution_count": null,
   "metadata": {},
   "outputs": [],
   "source": [
    "print(spec.params)"
   ]
  },
  {
   "cell_type": "code",
   "execution_count": null,
   "metadata": {},
   "outputs": [],
   "source": [
    "# Set your count energy fitting range. Here we choose 2.5--8.1 keV\n",
    "spec.energy_fitting_range = [2.5,8.1]"
   ]
  },
  {
   "cell_type": "markdown",
   "metadata": {},
   "source": [
    "To set the initial value and boundary of your parameters we can do the following:"
   ]
  },
  {
   "cell_type": "code",
   "execution_count": null,
   "metadata": {},
   "outputs": [],
   "source": [
    "spec.params[\"T1_spectrum1\"] = {\"Value\":4, \"Bounds\":(2.5, 8)} # units MK\n",
    "spec.params[\"EM1_spectrum1\"] = {\"Value\":0.3, \"Bounds\":(1e-1, 8e-1)} # units 1e46 cm^-3"
   ]
  },
  {
   "cell_type": "markdown",
   "metadata": {},
   "source": [
    "Setting `spec.params[\"param_spec\"] = string` will set the Status, `spec.params[\"param_spec\"] = int or float` will set the Value, `spec.params[\"param_spec\"] = tuple` will set the Bounds.\n",
    "\n",
    "I.e., `spec.params[\"T1_spectrum1\"] = {\"Value\":3.05, \"Bounds\":(2.5, 6)}` is the same as doing `spec.params[\"T1_spectrum1\"]=3.05` and then `spec.params[\"T1_spectrum1\"]=(2.5, 6)`."
   ]
  },
  {
   "cell_type": "code",
   "execution_count": null,
   "metadata": {},
   "outputs": [],
   "source": [
    "print(spec.params)"
   ]
  },
  {
   "cell_type": "markdown",
   "metadata": {},
   "source": [
    "Once data has been loaded and a model set then the data can be fit with:"
   ]
  },
  {
   "cell_type": "markdown",
   "metadata": {},
   "source": [
    "Any kwargs passed to fit will be sent to Scipy's minimize, e.g., tol=1e-6 for setting a tolerance for the fit."
   ]
  },
  {
   "cell_type": "code",
   "execution_count": null,
   "metadata": {},
   "outputs": [],
   "source": [
    "%%time\n",
    "\n",
    "minimised_params = spec.fit()"
   ]
  },
  {
   "cell_type": "markdown",
   "metadata": {},
   "source": [
    "The spec.params will be updated with the best fit values and errors (if obtained) updated too."
   ]
  },
  {
   "cell_type": "code",
   "execution_count": null,
   "metadata": {},
   "outputs": [],
   "source": [
    "print(spec.params)"
   ]
  },
  {
   "cell_type": "markdown",
   "metadata": {},
   "source": [
    "Plot the result with the `plot` method:"
   ]
  },
  {
   "cell_type": "code",
   "execution_count": null,
   "metadata": {},
   "outputs": [],
   "source": [
    "plt.rcParams['font.size'] = spec_font_size\n",
    "plt.figure(figsize=spec_single_plot_size)\n",
    "\n",
    "# the only line needed to plot the result\n",
    "axes, res_axes = spec.plot()\n",
    "\n",
    "for a in axes:\n",
    "    a.set_xlim(x_limits)\n",
    "    a.set_ylim(y_limits)\n",
    "plt.show()\n",
    "plt.rcParams['font.size'] = default_font_size"
   ]
  },
  {
   "cell_type": "markdown",
   "metadata": {},
   "source": [
    "## The data loader class"
   ]
  },
  {
   "cell_type": "markdown",
   "metadata": {},
   "source": [
    "The data loader class (LoadSpec in data_loader.py) makes use of instrument specific loaders. Each instrument loader's job is to essentially create the following dictionary for each loaded spectrum, found with the attribute `_loaded_spec_data` in the instrument class which makes up the loader class's `loaded_spec_data` attribute. E.g., with NuSTAR:\n",
    "```python\n",
    "nust_loader._loaded_spec_data = {\"photon_channel_bins\":channel_bins, \n",
    "                                 \"photon_channel_mids\":np.mean(channel_bins, axis=1), \n",
    "                                 \"photon_channel_binning\":channel_binning, \n",
    "                                 \"count_channel_bins\":channel_bins, \n",
    "                                 \"count_channel_mids\":np.mean(channel_bins, axis=1), \n",
    "                                 \"count_channel_binning\":channel_binning, \n",
    "                                 \"counts\":counts, \n",
    "                                 \"count_error\":count_error, \n",
    "                                 \"count_rate\":count_rate, \n",
    "                                 \"count_rate_error\":count_rate_error, \n",
    "                                 \"effective_exposure\":eff_exp,\n",
    "                                 \"srm\":srm,\n",
    "                                 \"extras\":{\"pha.file\":f_pha,\n",
    "                                           \"arf.file\":f_arf,\n",
    "                                           \"arf.e_lo\":e_lo_arf,\n",
    "                                           \"arf.e_hi\":e_hi_arf,\n",
    "                                           \"arf.effective_area\":eff_area,\n",
    "                                           \"rmf.file\":f_rmf,\n",
    "                                           \"rmf.e_lo\":e_lo_rmf,\n",
    "                                           \"rmf.e_hi\":e_hi_rmf,\n",
    "                                           \"rmf.ngrp\":ngrp,\n",
    "                                           \"rmf.fchan\":fchan,\n",
    "                                           \"rmf.nchan\":nchan,\n",
    "                                           \"rmf.matrix\":matrix,\n",
    "                                           \"rmf.redistribution_matrix\":redist_m} \n",
    "                                }\n",
    "```\n",
    "such that,\n",
    "```python\n",
    "self.loaded_spec_data = {\"spectrum1\":inst_loader, ...}\n",
    "```"
   ]
  },
  {
   "cell_type": "markdown",
   "metadata": {},
   "source": [
    "### Multiple ways to set the fitting range"
   ]
  },
  {
   "cell_type": "markdown",
   "metadata": {},
   "source": [
    "Fit the energy range while missing bins:"
   ]
  },
  {
   "cell_type": "code",
   "execution_count": null,
   "metadata": {},
   "outputs": [],
   "source": [
    "spec.energy_fitting_range = [[2.5,4], [4.5,8.1]]\n",
    "# This only will fit the counts from 2.5--4 keV and 4.5--8.1 keV and is applied to all spectra loaded"
   ]
  },
  {
   "cell_type": "markdown",
   "metadata": {},
   "source": [
    "### Rebin the data (not just for plotting)"
   ]
  },
  {
   "cell_type": "markdown",
   "metadata": {},
   "source": [
    "Rebin all the count data being fitted to have a minimum of 4 counts in a bin, any counts left over will not be included and the user will be told."
   ]
  },
  {
   "cell_type": "code",
   "execution_count": null,
   "metadata": {},
   "outputs": [],
   "source": [
    "spec.rebin = 4\n",
    "# or equivalently\n",
    "spec.rebin = {\"all\":4}\n",
    "# or equivalently if just one spectrum is loaded\n",
    "spec.rebin = {\"spectrum1\":4}"
   ]
  },
  {
   "cell_type": "markdown",
   "metadata": {},
   "source": [
    "### Undo the rebinning of the data"
   ]
  },
  {
   "cell_type": "markdown",
   "metadata": {},
   "source": [
    "To revert back to native binning for all spectra:"
   ]
  },
  {
   "cell_type": "code",
   "execution_count": null,
   "metadata": {},
   "outputs": [],
   "source": [
    "# spec.undo_rebin \n",
    "# or equivalently for one spectrum\n",
    "spec.undo_rebin = \"spectrum1\"\n",
    "# or (indicate the spectrum with just its number)\n",
    "spec.undo_rebin = 1\n",
    "# or explicitly state the rebinning should be reverted to all spectra\n",
    "spec.undo_rebin = \"all\""
   ]
  },
  {
   "cell_type": "markdown",
   "metadata": {},
   "source": [
    "### Save what you have"
   ]
  },
  {
   "cell_type": "markdown",
   "metadata": {},
   "source": [
    "To save the fitting class to a file called 'test.pickle'."
   ]
  },
  {
   "cell_type": "code",
   "execution_count": null,
   "metadata": {},
   "outputs": [],
   "source": [
    "spec.save(\"../savedFits/test.pickle\")"
   ]
  },
  {
   "cell_type": "markdown",
   "metadata": {},
   "source": [
    "Load it back in and continue analysis:"
   ]
  },
  {
   "cell_type": "code",
   "execution_count": null,
   "metadata": {},
   "outputs": [],
   "source": [
    "# To load a saved session back in \n",
    "from sunxspex.sunxspex_fitting.fitter import load\n",
    "new_spec = load(\"../savedFits/test.pickle\")\n",
    "\n",
    "print(new_spec.params)\n",
    "\n",
    "# run fit again since the energy range being fitted over has been changed after the last fit\n",
    "new_spec.fit(tol=1e-6) # Scipy minimize tolerance of 1e-6"
   ]
  },
  {
   "cell_type": "markdown",
   "metadata": {},
   "source": [
    "Plot the data and rebin it **just for plotting**, fit was in natural binning"
   ]
  },
  {
   "cell_type": "code",
   "execution_count": null,
   "metadata": {},
   "outputs": [],
   "source": [
    "# rebin=10 means the count bins were combined so that all bins had at least 10 counts in them or were ignored\n",
    "plt.rcParams['font.size'] = spec_font_size\n",
    "plt.figure(figsize=spec_single_plot_size)\n",
    "axes, res_axes = new_spec.plot(rebin=10)\n",
    "for a in axes:\n",
    "    a.set_xlim(x_limits)\n",
    "    a.set_ylim(y_limits)\n",
    "plt.show()\n",
    "plt.rcParams['font.size'] = default_font_size"
   ]
  },
  {
   "cell_type": "markdown",
   "metadata": {},
   "source": [
    "# Easily run an MCMC on your data with your model"
   ]
  },
  {
   "cell_type": "code",
   "execution_count": null,
   "metadata": {},
   "outputs": [],
   "source": [
    "mcmc_result = spec.run_mcmc()"
   ]
  },
  {
   "cell_type": "markdown",
   "metadata": {},
   "source": [
    "To add more MCMC runs when running the it again instead of overwriting, set ```append_runs=True```."
   ]
  },
  {
   "cell_type": "code",
   "execution_count": null,
   "metadata": {},
   "outputs": [],
   "source": [
    "mcmc_result = spec.run_mcmc(steps_per_walker=200, append_runs=True)"
   ]
  },
  {
   "cell_type": "markdown",
   "metadata": {},
   "source": [
    "MCMC runs are easily burned and are always burned from the original sampling. E.g., burning 50 samples twice still only discards 50 samples, to discard 100 the user needs to just discard 100."
   ]
  },
  {
   "cell_type": "code",
   "execution_count": null,
   "metadata": {},
   "outputs": [],
   "source": [
    "spec.burn_mcmc = 100"
   ]
  },
  {
   "cell_type": "markdown",
   "metadata": {},
   "source": [
    "Plot the log-probability chains"
   ]
  },
  {
   "cell_type": "code",
   "execution_count": null,
   "metadata": {},
   "outputs": [],
   "source": [
    "plt.figure()\n",
    "spec.plot_log_prob_chain()\n",
    "plt.ylim([-45,-10])\n",
    "plt.show()"
   ]
  },
  {
   "cell_type": "markdown",
   "metadata": {},
   "source": [
    "Plot the corner plot from the MCMC run (just send the data to corner.py)"
   ]
  },
  {
   "cell_type": "code",
   "execution_count": null,
   "metadata": {},
   "outputs": [],
   "source": [
    "corner_plot = spec.corner_mcmc()"
   ]
  },
  {
   "cell_type": "code",
   "execution_count": null,
   "metadata": {},
   "outputs": [],
   "source": [
    "plt.rcParams['font.size'] = spec_font_size\n",
    "plt.figure(figsize=spec_single_plot_size)\n",
    "axes, res_axes = spec.plot()\n",
    "for a in axes:\n",
    "    a.set_xlim(x_limits)\n",
    "    a.set_ylim(y_limits)\n",
    "plt.show()\n",
    "plt.rcParams['font.size'] = default_font_size"
   ]
  },
  {
   "cell_type": "markdown",
   "metadata": {},
   "source": [
    "**Note** that the log-likelihood displayed on the spectral plots show the the maximum log-likelihood found in the MCMC run, not the log-likelihood of the maximum a posteriori (MAP) fit plotted.\n",
    "\n",
    "The log-likelihoods of the median and confidence ranges can be found on the corner plot at the minute and the parameter values that produce these can be found with the `mcmc_table` attribute."
   ]
  },
  {
   "cell_type": "code",
   "execution_count": null,
   "metadata": {},
   "outputs": [],
   "source": [
    "spec.mcmc_table"
   ]
  },
  {
   "cell_type": "markdown",
   "metadata": {},
   "source": [
    "An alternative to plotting a number of random MCMC samples as faded lines being the MAP the user can plot a colour map showing where all run models (that are not burned) accumulate counts. This will obviously take longer."
   ]
  },
  {
   "cell_type": "code",
   "execution_count": null,
   "metadata": {},
   "outputs": [],
   "source": [
    "plt.rcParams['font.size'] = spec_font_size\n",
    "plt.figure(figsize=spec_single_plot_size)\n",
    "axes, res_axes = spec.plot(hex_grid=True)\n",
    "for a in axes:\n",
    "    a.set_xlim(x_limits)\n",
    "    a.set_ylim(y_limits)\n",
    "plt.show()\n",
    "plt.rcParams['font.size'] = default_font_size"
   ]
  },
  {
   "cell_type": "markdown",
   "metadata": {},
   "source": [
    "# Might want to fit multiple models and NuSTAR has 2 telescopes so..."
   ]
  },
  {
   "cell_type": "markdown",
   "metadata": {},
   "source": [
    "## Fit 2 spectra simultaneously with two thermal models"
   ]
  },
  {
   "cell_type": "markdown",
   "metadata": {},
   "source": [
    "Model parameters are tied to spectrum 1's parameters by default."
   ]
  },
  {
   "cell_type": "code",
   "execution_count": null,
   "metadata": {},
   "outputs": [],
   "source": [
    "%%time\n",
    "# load in your data files, here we load in 2 spectra\n",
    "_dir = \"../data/nustar/m10_1616_1620/\"\n",
    "spec = SunXspex(pha_file=[_dir+'nu80415202001A06_chu13_N_cl_grade0_sr.pha', \n",
    "                          _dir+'nu80415202001B06_chu13_N_cl_grade0_sr.pha'])\n",
    "                \n",
    "# Next you can define a model, here we go for a 2 component isothermal model\n",
    "# C parameter accounts for systematic offset between two different telescopes\n",
    "spec.model = \"C*(f_vth + f_vth)\"\n",
    "\n",
    "# Set your count energy fitting range. Here we choose 2.5--8.1 keV\n",
    "spec.energy_fitting_range = [2.5,8.1]\n",
    "                \n",
    "# Freeze parameters\n",
    "# spec.params[\"C_spectrum1\"] = \"frozen\" is equivalent\n",
    "spec.params[\"C_spectrum1\"] = {\"Status\":\"frozen\"}\n",
    "\n",
    "# To set the initial value and boundary of your parameters we can do the following.\n",
    "spec.params[\"T1_spectrum1\"] = {\"Value\":3.05, \"Bounds\":(2.5, 6)}\n",
    "spec.params[\"EM1_spectrum1\"] = {\"Value\":1.7, \"Bounds\":(0.5, 3.5)}     \n",
    "spec.params[\"T2_spectrum1\"] = {\"Value\":6.6, \"Bounds\":(4, 10)}                \n",
    "spec.params[\"EM2_spectrum1\"] = {\"Value\":0.004, \"Bounds\":(1e-4, 2e-1)}        \n",
    "\n",
    "# free the constant (was tied to C_spectrum1) to account for systematic offset between NuSTAR FPMs\n",
    "spec.params[\"C_spectrum2\"] = {\"Status\":\"free\", \"Bounds\":(0.5, 2)}\n",
    "                \n",
    "print(spec.params)"
   ]
  },
  {
   "cell_type": "code",
   "execution_count": null,
   "metadata": {},
   "outputs": [],
   "source": [
    "# can also display parameter table as an astropy table\n",
    "print(spec.show_params)"
   ]
  },
  {
   "cell_type": "markdown",
   "metadata": {},
   "source": [
    "Fit and plot"
   ]
  },
  {
   "cell_type": "code",
   "execution_count": null,
   "metadata": {},
   "outputs": [],
   "source": [
    "minimised_params = spec.fit()\n",
    "\n",
    "plt.rcParams['font.size'] = spec_font_size\n",
    "plt.figure(figsize=spec_plot_size)\n",
    "axes, res_axes = spec.plot(rebin=5)\n",
    "for a in axes:\n",
    "    a.set_xlim(x_limits)\n",
    "    a.set_ylim(y_limits)\n",
    "plt.show()\n",
    "plt.rcParams['font.size'] = default_font_size"
   ]
  },
  {
   "cell_type": "code",
   "execution_count": null,
   "metadata": {},
   "outputs": [],
   "source": [
    "spec.data._group_cts"
   ]
  },
  {
   "cell_type": "markdown",
   "metadata": {},
   "source": [
    "Compare to XSPEC fits of the same spectra (microflare 10, pre-flare, from [cooper *et al.* 2021](https://academic.oup.com/mnras/article/507/3/3936/6354806)):"
   ]
  },
  {
   "cell_type": "markdown",
   "metadata": {},
   "source": [
    "| Model Parameter                | XSPEC (Cooper et al. 2021)            | This Work                       |\n",
    "| :---                           |    :----:                             |                            ---: |\n",
    "| Temperature 1 [MK]             | 3.05$^{+0.04}_{-0.35}$                | 3.26$\\pm$0.01                   |\n",
    "| Emission Measure 1 [cm$^{-3}$] | 1.70$^{+1.99}_{-0.08}\\times$10$^{47}$ | 1.18$\\pm$0.01$\\times$10$^{46}$  |\n",
    "| Temperature 2 [MK]             | 6.60$^{+0.20}_{-0.61}$                | 6.92$\\pm$0.04                   |\n",
    "| Emission Measure 2 [cm$^{-3}$] | 3.8$^{+4.0}_{-0.7}\\times$10$^{43}$    | 3.77$\\pm$0.05$\\times$10$^{43}$  |"
   ]
  },
  {
   "cell_type": "markdown",
   "metadata": {},
   "source": [
    "Although these values are slightly different (almost or are within error margins), it is important to note that XSPEC and SunXspex work from different atomic databases. We also note that for a similar isothermal fit the temperature can drop/rise if the emission measure rises/drops and so fitting not just one but two of these models allows for these to vary more. We do see that this work (for this microflare time) produces slightly higher temperatures but correspondingly lower emission measures. \n",
    "\n",
    "The errors in this code also work under a Gaussian and independent assumption and so are likely underestimating the true error on each parameter."
   ]
  },
  {
   "cell_type": "markdown",
   "metadata": {},
   "source": [
    "### A Note On Parameter Handling"
   ]
  },
  {
   "cell_type": "markdown",
   "metadata": {},
   "source": [
    "**Setting spec.params[\"param_spec\"] = string will set the Status, spec.params[\"param_spec\"] = int or float will set the Value, spec.params[\"param_spec\"] = tuple will set the Bounds.** E.g.,\n",
    "```python\n",
    "spec.params[\"T1_spectrum1\"] = {\"Value\":3.05, \"Bounds\":(2.5, 6)} \n",
    "```\n",
    "is the same as doing \n",
    "```python\n",
    "spec.params[\"T1_spectrum1\"] = 3.05 \n",
    "spec.params[\"T1_spectrum1\"] = (2.5, 6)\n",
    "```\n",
    "or \n",
    "```python\n",
    "spec.params[\"T1_spectrum1\"] = [3.05, (2.5, 6)]\n",
    "```\n",
    "\n",
    "***\n",
    "\n",
    "**To tie one parameter to another** we can either set that parameter to the one we want to tie it to or use [\"tie\", \"tied\", \"bind\", \"tether\", \"join\", \"joined\", \"in_a_relationship_with\"] with _param_to_tie_to. E.g.,\n",
    "```python\n",
    "spec.params[\"EM1_spectrum2\"] = spec.params[\"EM1_spectrum1\"]\n",
    "spec.params[\"EM1_spectrum2\"] = \"JoIn_EM1_spectrum1\"\n",
    "spec.params[\"EM1_spectrum2\"] = {\"Status\":\"bind_EM1_spectrum1\"}\n",
    "```\n",
    "\n",
    "**To stop a parameter from varying** we can set its Status to [\"frozen\", \"freeze\", \"chill\", \"fix\", \"fixed\", \"secure\", \"stick\", \"glue\", \"preserve\", \"cannot_move\", \"cant_move\", \"canny_move\", \"married\"]. E.g.,\n",
    "```python\n",
    "spec.params[\"C_spectrum1\"] = \"fix\" \n",
    "spec.params[\"C_spectrum1\"] = {\"Status\":\"frozen\"}\n",
    "```\n",
    "\n",
    "**To allow a parameter to vary** after being fixed simply set its Status to any of these [\"free\", \"thaw\", \"loose\", \"unrestrained\", \"release\", \"released\", \"can_move\", \"single\"]. E.g.,\n",
    "```python\n",
    "spec.params[\"C_spectrum1\"] = \"free\" \n",
    "spec.params[\"C_spectrum1\"] = {\"Status\":\"thaw\"}\n",
    "```"
   ]
  },
  {
   "cell_type": "markdown",
   "metadata": {},
   "source": [
    "### Other (equivalent) ways to define the same model:"
   ]
  },
  {
   "cell_type": "markdown",
   "metadata": {},
   "source": [
    "When defining a model in a functional form, ensure that the energies input is a keyword with default None. E.g., f(...,energies=None).\n",
    "\n",
    "This same form is used when adding a user component (or sub-) model to be used. "
   ]
  },
  {
   "cell_type": "code",
   "execution_count": null,
   "metadata": {},
   "outputs": [],
   "source": [
    "model_2therm = lambda T1, EM1, T2, EM2, C, energies=None: C*(f_vth(T1, EM1, energies=energies) + f_vth(T2, EM2, energies=energies))\n",
    "                \n",
    "def model_2therm(T1, EM1, T2, EM2, C, energies=None):\n",
    "    return C*(f_vth(T1, EM1, energies=energies) + f_vth(T2, EM2, energies=energies))\n",
    "                \n",
    "model_2therm = \"C*(f_vth + f_vth)\"\n",
    "\n",
    "spec.model = model_2therm"
   ]
  },
  {
   "cell_type": "markdown",
   "metadata": {},
   "source": [
    "As stated, if the user wants to redefine the model and parameter tables then instead of setting `spec.model` the user can set `spec.update_model`.\n",
    "\n",
    "If a model if defined via a string (e.g., \"C*(f_vth + f_vth)\") then the component models will be plotted in different colours once plotted. These other methods will only allow the total resultant model to be plotted but allow for more complex models to be created by the user. \n",
    "\n",
    "***\n",
    "\n",
    "To ensure normal behaviour by all the code, make sure the function is self-contained; i.e., it can be run from its source code in a different directory. Any packages used that are not defined in the fitter module will need to be included in the function if the user wants to be able to save out and load in the fitting class and have full functionality (anything that includes pickle will not like this; e.g., parallelisation, etc.). Warnings will inform the user if their function is not self-contained and information given to help make it so.\n",
    "\n",
    "\n",
    "Obviously if a package is needed that is imported outside the scope of the model function (which, when loaded back in will not be seen), or if the function is too complicated in some way, the same model can renewed in the new session via `renew_model` for any fitting to take place (this will not reset the parameter/rparameter tables).\n",
    "\n",
    "***\n",
    "\n",
    "If the user wants to define any sub-models (and use like `f_vth` above) then they can add these with the `add_photon_model()` function (see below)."
   ]
  },
  {
   "cell_type": "markdown",
   "metadata": {},
   "source": [
    "### Set different fitting ranges for each spectrum"
   ]
  },
  {
   "cell_type": "code",
   "execution_count": null,
   "metadata": {},
   "outputs": [],
   "source": [
    "# To fit the energy range while missing bins:\n",
    "spec.energy_fitting_range = [[2.5,4], [4.5,8.1]]\n",
    "# This only will fit the counts from 2.5--4 keV and 4.5--8.1 keV and is applied to all spectra loaded\n",
    "\n",
    "# To vary the fitting range per spectrum, say if we have two spectra loaded:\n",
    "spec.energy_fitting_range = {\"spectrum1\":[[2.5,4], [4.5,8.1]], \"spectrum2\":[[2.5,8.1]]}\n",
    "\n",
    "\n",
    "# then fit and plot again...\n",
    "minimised_params = spec.fit()\n",
    "plt.rcParams['font.size'] = spec_font_size\n",
    "plt.figure(figsize=spec_plot_size)\n",
    "axes, res_axes = spec.plot(rebin=12)\n",
    "for a in axes:\n",
    "    a.set_xlim(x_limits)\n",
    "    a.set_ylim(y_limits)\n",
    "plt.show()\n",
    "plt.rcParams['font.size'] = default_font_size"
   ]
  },
  {
   "cell_type": "markdown",
   "metadata": {},
   "source": [
    "# Add user defined sub-model"
   ]
  },
  {
   "cell_type": "markdown",
   "metadata": {},
   "source": [
    "Need to add function to the correct namespace for the fitter to see it and include the function name and parameters in `defined_photon_models` dictionary. This is done using the `add_photon_model()` function."
   ]
  },
  {
   "cell_type": "markdown",
   "metadata": {},
   "source": [
    "`defined_photon_models` dict is what the SunXspex fitting uses to know what functions it can use to build with"
   ]
  },
  {
   "cell_type": "markdown",
   "metadata": {},
   "source": [
    "See what models are defined.\n",
    "\n",
    "At the minute this is just the already defined module models `{'f_vth': ['T', 'EM'], 'thick_fn': ['total_eflux', 'index', 'e_c'], ...}`."
   ]
  },
  {
   "cell_type": "code",
   "execution_count": null,
   "metadata": {},
   "outputs": [],
   "source": [
    "print(\"Defined models:\\n\",spec.defined_photon_models)"
   ]
  },
  {
   "cell_type": "markdown",
   "metadata": {},
   "source": [
    "Define your sub-model in the same way you would define a total model (`f(*parameters,energies=None)`). \n",
    "\n",
    "Model spectrum in units of photons s^-1 cm^-2 keV^-1 here (dimensions to make `model_spectrum#spectral_response` consistent with `count_spectrum`).\n",
    "\n",
    "Parameter names cannot be any already defined in `defined_photon_models`."
   ]
  },
  {
   "cell_type": "code",
   "execution_count": null,
   "metadata": {},
   "outputs": [],
   "source": [
    "def gauss(a, b, c, energies=None):\n",
    "    # energies is given as energy bins, e.g., [[2.5,2.6], [2.6,2.7], [2.7,2.8], ...], so...\n",
    "    mid_x = np.mean(energies, axis=1) \n",
    "    return a * np.exp(-((mid_x-b)**2/(2*c**2)))"
   ]
  },
  {
   "cell_type": "markdown",
   "metadata": {},
   "source": [
    "Essentially this is adding your model to the namespace that the fitting process uses to see what models are available to use:"
   ]
  },
  {
   "cell_type": "code",
   "execution_count": null,
   "metadata": {},
   "outputs": [],
   "source": [
    "spec.add_photon_model(gauss)"
   ]
  },
  {
   "cell_type": "markdown",
   "metadata": {},
   "source": [
    "Now defined_photon_models is `{'f_vth': ['T', 'EM'], 'thick_fn': ['total_eflux', 'index', 'e_c'], ..., 'gauss': ['a', 'b', 'c']}` and can use the gauss function:"
   ]
  },
  {
   "cell_type": "code",
   "execution_count": null,
   "metadata": {},
   "outputs": [],
   "source": [
    "print(\"Defined models, user\\'s now included':\\n\",spec.defined_photon_models)"
   ]
  },
  {
   "cell_type": "markdown",
   "metadata": {},
   "source": [
    "Now can use the user defined gauss model with already defined module models:"
   ]
  },
  {
   "cell_type": "code",
   "execution_count": null,
   "metadata": {},
   "outputs": [],
   "source": [
    "# E.g. (use .update_model since the last one was \"C*(f_vth + f_vth)\" and still exists for spec object)\n",
    "spec.update_model = \"f_vth+gauss\"\n",
    "\n",
    "# spec.params.param_name -> [T1_spectrum1,EM1_spectrum1,a1_spectrum1,b1_spectrum1,c1_spectrum1]\n",
    "print(\"Parameters\\n\",spec.params)"
   ]
  },
  {
   "cell_type": "markdown",
   "metadata": {},
   "source": [
    "#### Can now use gauss photon model in the fitting, either by itself or in a greater, overall model defined as a named function, lambda function, or string"
   ]
  },
  {
   "cell_type": "code",
   "execution_count": null,
   "metadata": {},
   "outputs": [],
   "source": [
    "# sort parameters\n",
    "spec.params[\"T1_spectrum1\"] = {\"Value\":3.05, \"Bounds\":(2.5, 6)}\n",
    "spec.params[\"EM1_spectrum1\"] = {\"Value\":1.7, \"Bounds\":(0.5, 3.5)} \n",
    "\n",
    "# then fit and plot again...\n",
    "minimised_params = spec.fit()\n",
    "\n",
    "plt.rcParams['font.size'] = spec_font_size\n",
    "plt.figure(figsize=spec_plot_size)\n",
    "axes, res_axes = spec.plot()\n",
    "for a in axes:\n",
    "    a.set_xlim(x_limits)\n",
    "    a.set_ylim(y_limits)\n",
    "plt.show()\n",
    "plt.rcParams['font.size'] = default_font_size"
   ]
  },
  {
   "cell_type": "markdown",
   "metadata": {},
   "source": [
    "If the user's model function requires complicated variables/constants/etc., say large array loaded from a file, then this will not be seen if the session is save and loaded back in another time. To avoid this see the `add_var` function which works in a similar way to `add_photon_model` but for variables to be seen when pickling.\n",
    "\n",
    "In additon to `add_photon_model` and `add_var` also having an `overwrite` input they also come with methods to remove any user added models or variables, such as `del_photon_model` and `del_var` which take the model/variable name as a string, respectively."
   ]
  },
  {
   "cell_type": "markdown",
   "metadata": {},
   "source": [
    "# Can alter the gain parameters"
   ]
  },
  {
   "cell_type": "markdown",
   "metadata": {},
   "source": [
    "Gain parameters can be tweaked in the same way model parameters can.\n",
    "\n",
    "The difference is that gain parameters all have specific starting values (slope=1, offset=0) and are frozen by default."
   ]
  },
  {
   "cell_type": "code",
   "execution_count": null,
   "metadata": {},
   "outputs": [],
   "source": [
    "print(spec.rParams)"
   ]
  },
  {
   "cell_type": "code",
   "execution_count": null,
   "metadata": {},
   "outputs": [],
   "source": [
    "print(spec.show_rParams)"
   ]
  },
  {
   "cell_type": "markdown",
   "metadata": {},
   "source": [
    "# Let's fit a more realistic example\n",
    "\n",
    "Try fitting the spectra presented in [Glesener *et al.* 2020](https://iopscience.iop.org/article/10.3847/2041-8213/ab7341). The spectrum presented shows clear evidence of non-thermal emission in an A5.7 microflare."
   ]
  },
  {
   "cell_type": "markdown",
   "metadata": {},
   "source": [
    "## Let's recreate Figure 4 (left) where NuSTAR FPMB is fitted with a thermal+cold thick target model."
   ]
  },
  {
   "cell_type": "code",
   "execution_count": null,
   "metadata": {},
   "outputs": [],
   "source": [
    "# set up plotting info stuff\n",
    "gles_xlims, gles_ylims = [2,12], [1e1,1e4]"
   ]
  },
  {
   "cell_type": "code",
   "execution_count": null,
   "metadata": {},
   "outputs": [],
   "source": [
    "%%time\n",
    "# First, load in your data files, here we load in 2 spectra\n",
    "_dir = \"../data/nustar/Glesener2020/\"\n",
    "# in the files I have, the ARF and RMF file have different names to the PHA files so cannot use the PHA file name to help find the others so...\n",
    "spec = SunXspex(pha_file=_dir+'nu20312001001B06_cl_grade0_sr_grp.pha',\n",
    "                arf_file=_dir+'nu20312001001B06_cl_grade0_sr.arf',\n",
    "                rmf_file=_dir+'nu20312001001B06_cl_grade0_sr.rmf')\n",
    "                \n",
    "# define model, here we go for a single isothermal model + cold thick model\n",
    "spec.model = \"f_vth + thick_fn\"\n",
    "\n",
    "# define fitting range\n",
    "spec.energy_fitting_range = [2.8,10.5]\n",
    "\n",
    "# sort temperature param from f_vth\n",
    "spec.params[\"T1_spectrum1\"] = {\"Value\":10.3, \"Bounds\":(1.1, 15)}\n",
    "# emission measure param from f_vth\n",
    "spec.params[\"EM1_spectrum1\"] = {\"Value\":0.5, \"Bounds\":(1e-2, 1e1)}\n",
    "# electron flux param from thick_fn\n",
    "spec.params[\"total_eflux1_spectrum1\"] = {\"Value\":2.1, \"Bounds\":(1e-3, 10)} # units 1e35 e^-/s\n",
    "# electron index param from thick_fn\n",
    "spec.params[\"index1_spectrum1\"] = {\"Value\":6.2, \"Bounds\":(3, 10)}\n",
    "# electron low energy cut-off param from thick_fn\n",
    "spec.params[\"e_c1_spectrum1\"] = {\"Value\":6.2, \"Bounds\":(1, 12)} # units keV\n",
    "# constant for systematic offset between FPMs, found to be about 1.1\n",
    "# from Gles. 2020 which had a gain correction fixed at 0.95\n",
    "spec.rParams[\"gain_slope_spectrum1\"] = {\"Status\":\"fixed\", \"Value\":0.95}\n",
    "\n",
    "# fit the model to the spectrum\n",
    "spec.fit(tol=1e-8)\n",
    "\n",
    "# plot the result\n",
    "plt.rcParams['font.size'] = spec_font_size\n",
    "plt.figure(figsize=spec_single_plot_size)\n",
    "axes, res_axes = spec.plot()\n",
    "for a in axes:\n",
    "    a.set_xlim(gles_xlims)\n",
    "    a.set_ylim(gles_ylims)\n",
    "plt.show()\n",
    "plt.rcParams['font.size'] = default_font_size"
   ]
  },
  {
   "cell_type": "markdown",
   "metadata": {},
   "source": [
    "### Let's recreate Figure 3(c) where both NuSTAR FPMs are fitted with a thermal+cold thick target model simultaneously."
   ]
  },
  {
   "cell_type": "code",
   "execution_count": null,
   "metadata": {},
   "outputs": [],
   "source": [
    "%%time\n",
    "# First, load in your data files, here we load in 2 spectra\n",
    "_dir = \"../data/nustar/Glesener2020/\"\n",
    "# in the files I have, the ARF and RMF file have different names to the PHA files so cannot use the PHA file name to help find the others so...\n",
    "spec = SunXspex(pha_file=[_dir+'nu20312001001A06_cl_grade0_sr_grp.pha',\n",
    "                          _dir+'nu20312001001B06_cl_grade0_sr_grp.pha'],\n",
    "                arf_file=[_dir+'nu20312001001A06_cl_grade0_sr.arf',\n",
    "                          _dir+'nu20312001001B06_cl_grade0_sr.arf'],\n",
    "                rmf_file=[_dir+'nu20312001001A06_cl_grade0_sr.rmf',\n",
    "                          _dir+'nu20312001001B06_cl_grade0_sr.rmf'])\n",
    "                \n",
    "# define model, here we go for a single isothermal model + cold thick model\n",
    "spec.model = \"C*(f_vth + thick_fn)\"\n",
    "\n",
    "# define fitting range\n",
    "spec.energy_fitting_range = [2.8,10.5]\n",
    "\n",
    "# sort temperature param from f_vth\n",
    "spec.params[\"T1_spectrum1\"] = {\"Value\":10.3, \"Bounds\":(1.1, 15)}\n",
    "# emission measure param from f_vth\n",
    "spec.params[\"EM1_spectrum1\"] = {\"Value\":0.5, \"Bounds\":(1e-2, 1e1)}\n",
    "# electron flux param from thick_fn\n",
    "spec.params[\"total_eflux1_spectrum1\"] = {\"Value\":2.1, \"Bounds\":(1e-3, 10)} # units 1e35 e^-/s\n",
    "# electron index param from thick_fn\n",
    "spec.params[\"index1_spectrum1\"] = {\"Value\":6.2, \"Bounds\":(3, 10)}\n",
    "# electron low energy cut-off param from thick_fn\n",
    "spec.params[\"e_c1_spectrum1\"] = {\"Value\":6.2, \"Bounds\":(1, 12)} # units keV\n",
    "# constant for systematic offset between FPMs, found to be about 1.1\n",
    "spec.params[\"C_spectrum1\"] = \"frozen\"\n",
    "spec.params[\"C_spectrum2\"] = {\"Status\":\"fixed\", \"Value\":1.1}\n",
    "# from Gles. 2020 which had a gain correction fixed at 0.95\n",
    "spec.rParams[\"gain_slope_spectrum1\"] = {\"Status\":\"fixed\", \"Value\":0.95}\n",
    "spec.rParams[\"gain_slope_spectrum2\"] = spec.rParams[\"gain_slope_spectrum1\"]\n",
    "\n",
    "# fit the model to the spectrum\n",
    "spec.fit(tol=1e-8)\n",
    "\n",
    "# plot the result\n",
    "plt.rcParams['font.size'] = spec_font_size\n",
    "plt.figure(figsize=spec_plot_size)\n",
    "axes, res_axes = spec.plot()\n",
    "for a in axes:\n",
    "    a.set_xlim(gles_xlims)\n",
    "    a.set_ylim(gles_ylims)\n",
    "plt.show()\n",
    "plt.rcParams['font.size'] = default_font_size"
   ]
  },
  {
   "cell_type": "markdown",
   "metadata": {},
   "source": [
    "For the thermal and cold thick target total model we compare:"
   ]
  },
  {
   "cell_type": "markdown",
   "metadata": {},
   "source": [
    "| Model Parameter                  | OSPEX (Glesener et al. 2020, just FPMB)       |This Work (just FPMB)           | This Work (FPMA&B)                |\n",
    "| :---                             |    :----:                                     |     :----:                     |                              ---: |\n",
    "| Temperature [MK]                 | 10.3$^{+0.7}_{-0.7}$                          | 10.12$\\pm$0.10                 | 9.77$\\pm$0.06                     |\n",
    "| Emission Measure [cm$^{-3}$]     | 5.0$^{+1.3}_{-1.3}\\times$10$^{45}$            | 4.86$\\pm$0.01$\\times$10$^{45}$ | 4.66$\\pm$0.05$\\times$10$^{45}$    |\n",
    "| Electron Flux [e$^{-}$ s$^{-1}$] | 2.1$^{+1.2}_{-1.2}\\times$10$^{35}$            | 2.17$\\pm$0.06$\\times$10$^{35}$ | 2.25$\\pm$0.02$\\times$10$^{35}$    |\n",
    "| Index                            | 6.2$^{+0.6}_{-0.6}$                           | 5.83$\\pm$0.09                  | 6.09$\\pm$0.05                     |\n",
    "| Low Energy Cut-off [keV]         | 6.2$^{+0.9}_{-0.9}$                           | 6.66$\\pm$0.05                  | 6.52$\\pm$0.05                     |"
   ]
  },
  {
   "cell_type": "markdown",
   "metadata": {},
   "source": [
    "## Now let's recreate Figure 4 (right) where NuSTAR FPMB is fitted with a warm thick target model."
   ]
  },
  {
   "cell_type": "markdown",
   "metadata": {},
   "source": [
    "### The warm thick target model helps to constrain the non-thermal emission with observed values (e.g., loop length, etc) and ties it to the thermal emission parameters."
   ]
  },
  {
   "cell_type": "code",
   "execution_count": null,
   "metadata": {},
   "outputs": [],
   "source": [
    "%%time\n",
    "# First, load in your data files, here we load in 1 spectrum\n",
    "_dir = \"../data/nustar/Glesener2020/\"\n",
    "spec = SunXspex(pha_file=_dir+'nu20312001001B06_cl_grade0_sr_grp.pha',\n",
    "                arf_file=_dir+'nu20312001001B06_cl_grade0_sr.arf',\n",
    "                rmf_file=_dir+'nu20312001001B06_cl_grade0_sr.rmf')\n",
    "                \n",
    "# define model, here we go for a single isothermal model + cold thick model\n",
    "spec.model = \"thick_warm\"\n",
    "\n",
    "# define fitting range\n",
    "spec.energy_fitting_range = [2.8,10.5]\n",
    "\n",
    "## Note that similar parameters in the warm thick target and cold thick target models have slightly different names\n",
    "# electron flux param\n",
    "spec.params[\"tot_eflux1_spectrum1\"] = {\"Value\":2, \"Bounds\":(1e-2, 10)}\n",
    "# electron index param\n",
    "spec.params[\"indx1_spectrum1\"] = {\"Value\":6, \"Bounds\":(3, 10)}\n",
    "# electron low energy cut-off param \n",
    "spec.params[\"ec1_spectrum1\"] = {\"Value\":7, \"Bounds\":(3, 12)}\n",
    "# loop plasma temperature param \n",
    "spec.params[\"loop_temp1_spectrum1\"] = {\"Value\":10, \"Bounds\":(5, 15)}\n",
    "# plasma number density param \n",
    "spec.params[\"plasma_d1_spectrum1\"] = {\"Value\":1, \"Bounds\":(1e-2, 1e1)} # units 1e10 cm^-3\n",
    "# loop length param \n",
    "spec.params[\"length1_spectrum1\"] = {\"Status\":\"fixed\", \"Value\":15} # units Mm\n",
    "# from Gles. 2020 which had a gain correction fixed at 0.95\n",
    "spec.rParams[\"gain_slope_spectrum1\"] = {\"Status\":\"fixed\", \"Value\":0.95}\n",
    "\n",
    "# fit the model to the spectrum\n",
    "spec.fit(tol=1e-10)\n",
    "\n",
    "# plot the result\n",
    "plt.rcParams['font.size'] = spec_font_size\n",
    "plt.figure(figsize=spec_single_plot_size)\n",
    "axes, res_axes = spec.plot()\n",
    "for a in axes:\n",
    "    a.set_xlim(gles_xlims)\n",
    "    a.set_ylim(gles_ylims)\n",
    "plt.show()\n",
    "plt.rcParams['font.size'] = default_font_size"
   ]
  },
  {
   "cell_type": "markdown",
   "metadata": {},
   "source": [
    "#### Here we can now fit the warm thick target model to both FPMs simultaneously"
   ]
  },
  {
   "cell_type": "code",
   "execution_count": null,
   "metadata": {},
   "outputs": [],
   "source": [
    "%%time\n",
    "# First, load in your data files, here we load in 2 spectra\n",
    "_dir = \"../data/nustar/Glesener2020/\"\n",
    "spec = SunXspex(pha_file=[_dir+'nu20312001001A06_cl_grade0_sr_grp.pha',\n",
    "                          _dir+'nu20312001001B06_cl_grade0_sr_grp.pha'],\n",
    "                arf_file=[_dir+'nu20312001001A06_cl_grade0_sr.arf',\n",
    "                          _dir+'nu20312001001B06_cl_grade0_sr.arf'],\n",
    "                rmf_file=[_dir+'nu20312001001A06_cl_grade0_sr.rmf',\n",
    "                          _dir+'nu20312001001B06_cl_grade0_sr.rmf'])\n",
    "                \n",
    "# define model, here we go for a single isothermal model + cold thick model\n",
    "spec.model = \"C*thick_warm\"\n",
    "\n",
    "# define fitting range\n",
    "spec.energy_fitting_range = [2.8,10.5]\n",
    "\n",
    "## Note that similar parameters in the warm thick target and cold thick target models have slightly different names\n",
    "# electron flux param\n",
    "spec.params[\"tot_eflux1_spectrum1\"] = {\"Value\":2, \"Bounds\":(1e-3, 10)}\n",
    "# electron index param\n",
    "spec.params[\"indx1_spectrum1\"] = {\"Value\":6, \"Bounds\":(3, 10)}\n",
    "# electron low energy cut-off param \n",
    "spec.params[\"ec1_spectrum1\"] = {\"Value\":7, \"Bounds\":(1, 12)}\n",
    "# loop plasma temperature param \n",
    "spec.params[\"loop_temp1_spectrum1\"] = {\"Value\":10, \"Bounds\":(1.1, 15)}\n",
    "# plasma number density param \n",
    "spec.params[\"plasma_d1_spectrum1\"] = {\"Value\":1, \"Bounds\":(1e-2, 1e1)}\n",
    "# loop length param \n",
    "spec.params[\"length1_spectrum1\"] = {\"Status\":\"fixed\", \"Value\":15}\n",
    "# constant for systematic offset between FPMs, found to be about 1.1\n",
    "spec.params[\"C_spectrum1\"] = \"frozen\"\n",
    "spec.params[\"C_spectrum2\"] = {\"Status\":\"fixed\", \"Value\":1.1}\n",
    "# from Gles. 2020 which had a gain correction fixed at 0.95\n",
    "spec.rParams[\"gain_slope_spectrum1\"] = {\"Status\":\"fixed\", \"Value\":0.95}\n",
    "spec.rParams[\"gain_slope_spectrum2\"] = spec.rParams[\"gain_slope_spectrum1\"]\n",
    "\n",
    "# fit the model to the spectrum\n",
    "spec.fit(tol=1e-5)\n",
    "\n",
    "# plot the result\n",
    "plt.rcParams['font.size'] = spec_font_size\n",
    "plt.figure(figsize=spec_plot_size)\n",
    "axes, res_axes = spec.plot()\n",
    "for a in axes:\n",
    "    a.set_xlim(gles_xlims)\n",
    "    a.set_ylim(gles_ylims)\n",
    "plt.show()\n",
    "plt.rcParams['font.size'] = default_font_size"
   ]
  },
  {
   "cell_type": "markdown",
   "metadata": {},
   "source": [
    "For the warm thick target total model"
   ]
  },
  {
   "cell_type": "markdown",
   "metadata": {},
   "source": [
    "| Model Parameter                  | OSPEX (Glesener et al. 2020, just FPMB) |This Work (just FPMB)            | This Work (FPMA&B)              |\n",
    "| :---                             |    :----:                               |     :----:                      |                            ---: |\n",
    "| Temperature [MK]                 | 10.2$^{+0.7}_{-0.7}$                    | 11.34$\\pm$0.24                  | 11.27$\\pm$0.39                  |\n",
    "| Plasma Density [cm$^{-3}$]       | 6.0$^{+2.0}_{-2.0}\\times$10$^{9}$       | 4.86$\\pm$0.03$\\times$10$^{9}$   | 4.71$\\pm$0.14$\\times$10$^{9}$   |\n",
    "| Electron Flux [e$^{-}$ s$^{-1}$] | 1.8$^{+0.8}_{-0.8}\\times$10$^{35}$      | 2.06$\\pm$0.02$\\times$10$^{35}$  | 2.04$\\pm$0.05$\\times$10$^{35}$  |\n",
    "| Index                            | 6.3$^{+0.7}_{-0.7}$                     | 7.09$\\pm$0.04                   | 7.02$\\pm$0.26                   |\n",
    "| Low Energy Cut-off [keV]         | 6.5$^{+0.9}_{-0.9}$                     | 7.00$\\pm$0.04                   | 6.66$\\pm$0.25                   |"
   ]
  },
  {
   "cell_type": "markdown",
   "metadata": {},
   "source": [
    "All parameter values appear to be within error margins (or extrememly close). This is more impresive when the errors calculated in this work for the minimised values assumes the parameter's have a Gaussian and independent posterior distribution (which is clearly not the case) and so these errors are likely to be larger; to be investigated with an MCMC."
   ]
  },
  {
   "cell_type": "markdown",
   "metadata": {},
   "source": [
    "The simultaneous fit of FPMA&B with the cold thick target model and the warm thick model is not able to be performed in OSPEX."
   ]
  },
  {
   "cell_type": "markdown",
   "metadata": {
    "scrolled": true
   },
   "source": [
    "# An example of fitting multiple spectra simultaneously with 2 models where each model is allowed to vary at different times"
   ]
  },
  {
   "cell_type": "markdown",
   "metadata": {},
   "source": [
    "We also allow the gain slope response parameter to vary."
   ]
  },
  {
   "cell_type": "markdown",
   "metadata": {},
   "source": [
    "This spectrum corresponds to the may1618 microflare in [Duncan *et al.* 2021](https://iopscience.iop.org/article/10.3847/1538-4357/abca3d)."
   ]
  },
  {
   "cell_type": "code",
   "execution_count": 4,
   "metadata": {},
   "outputs": [],
   "source": [
    "# set up plotting info stuff\n",
    "dunc_xlims, dunc_ylims = [2.5,11], [1e0,4e4]"
   ]
  },
  {
   "cell_type": "code",
   "execution_count": null,
   "metadata": {},
   "outputs": [
    {
     "name": "stdout",
     "output_type": "stream",
     "text": [
      "Automatic pdb calling has been turned ON\n"
     ]
    },
    {
     "ename": "UnboundLocalError",
     "evalue": "local variable 'redist_m' referenced before assignment",
     "output_type": "error",
     "traceback": [
      "\u001b[0;31m---------------------------------------------------------------------------\u001b[0m",
      "\u001b[0;31mUnboundLocalError\u001b[0m                         Traceback (most recent call last)",
      "Input \u001b[0;32mIn [5]\u001b[0m, in \u001b[0;36m<cell line: 4>\u001b[0;34m()\u001b[0m\n\u001b[1;32m      2\u001b[0m \u001b[38;5;66;03m# First, load in your data files, here we load in 2 spectra\u001b[39;00m\n\u001b[1;32m      3\u001b[0m _dir \u001b[38;5;241m=\u001b[39m \u001b[38;5;124m\"\u001b[39m\u001b[38;5;124m../data/nustar/Duncan2021/\u001b[39m\u001b[38;5;124m\"\u001b[39m\n\u001b[0;32m----> 4\u001b[0m spec \u001b[38;5;241m=\u001b[39m \u001b[43mSunXspex\u001b[49m\u001b[43m(\u001b[49m\u001b[43mpha_file\u001b[49m\u001b[38;5;241;43m=\u001b[39;49m\u001b[43m[\u001b[49m\u001b[43m_dir\u001b[49m\u001b[38;5;241;43m+\u001b[39;49m\u001b[38;5;124;43m'\u001b[39;49m\u001b[38;5;124;43mnu80410201001A06_1618_p_chu2_N_sr.pha\u001b[39;49m\u001b[38;5;124;43m'\u001b[39;49m\u001b[43m,\u001b[49m\n\u001b[1;32m      5\u001b[0m \u001b[43m                          \u001b[49m\u001b[43m_dir\u001b[49m\u001b[38;5;241;43m+\u001b[39;49m\u001b[38;5;124;43m'\u001b[39;49m\u001b[38;5;124;43mnu80410201001B06_1618_p_chu2_N_sr.pha\u001b[39;49m\u001b[38;5;124;43m'\u001b[39;49m\u001b[43m]\u001b[49m\u001b[43m)\u001b[49m\n\u001b[1;32m      7\u001b[0m \u001b[38;5;66;03m# define model, here we go for 2 isothermal models\u001b[39;00m\n\u001b[1;32m      8\u001b[0m spec\u001b[38;5;241m.\u001b[39mmodel \u001b[38;5;241m=\u001b[39m \u001b[38;5;124m\"\u001b[39m\u001b[38;5;124mC*(f_vth + f_vth)\u001b[39m\u001b[38;5;124m\"\u001b[39m\n",
      "File \u001b[0;32m~/Projects/sunxspex/sunxspex/sunxspex_fitting/fitter.py:401\u001b[0m, in \u001b[0;36mSunXspex.__init__\u001b[0;34m(self, pha_file, arf_file, rmf_file, srm_file, srm_custom, custom_channel_bins, custom_photon_bins, *args, **kwargs)\u001b[0m\n\u001b[1;32m    399\u001b[0m \u001b[38;5;28mself\u001b[39m\u001b[38;5;241m.\u001b[39mdynamic_vars \u001b[38;5;241m=\u001b[39m {}\n\u001b[1;32m    400\u001b[0m \u001b[38;5;28mself\u001b[39m\u001b[38;5;241m.\u001b[39mdefined_photon_models \u001b[38;5;241m=\u001b[39m {\u001b[38;5;241m*\u001b[39m\u001b[38;5;241m*\u001b[39mdefined_photon_models}\n\u001b[0;32m--> 401\u001b[0m \u001b[38;5;28mself\u001b[39m\u001b[38;5;241m.\u001b[39mdata \u001b[38;5;241m=\u001b[39m \u001b[43mLoadSpec\u001b[49m\u001b[43m(\u001b[49m\u001b[38;5;241;43m*\u001b[39;49m\u001b[43margs\u001b[49m\u001b[43m,\u001b[49m\u001b[43m \u001b[49m\u001b[43mpha_file\u001b[49m\u001b[38;5;241;43m=\u001b[39;49m\u001b[43mpha_file\u001b[49m\u001b[43m,\u001b[49m\u001b[43m \u001b[49m\u001b[43marf_file\u001b[49m\u001b[38;5;241;43m=\u001b[39;49m\u001b[43marf_file\u001b[49m\u001b[43m,\u001b[49m\u001b[43m \u001b[49m\u001b[43mrmf_file\u001b[49m\u001b[38;5;241;43m=\u001b[39;49m\u001b[43mrmf_file\u001b[49m\u001b[43m,\u001b[49m\u001b[43m \u001b[49m\u001b[43msrm_file\u001b[49m\u001b[38;5;241;43m=\u001b[39;49m\u001b[43msrm_file\u001b[49m\u001b[43m,\u001b[49m\u001b[43m \u001b[49m\u001b[43msrm_custom\u001b[49m\u001b[38;5;241;43m=\u001b[39;49m\u001b[43msrm_custom\u001b[49m\u001b[43m,\u001b[49m\n\u001b[1;32m    402\u001b[0m \u001b[43m                     \u001b[49m\u001b[43mcustom_channel_bins\u001b[49m\u001b[38;5;241;43m=\u001b[39;49m\u001b[43mcustom_channel_bins\u001b[49m\u001b[43m,\u001b[49m\u001b[43m \u001b[49m\u001b[43mcustom_photon_bins\u001b[49m\u001b[38;5;241;43m=\u001b[39;49m\u001b[43mcustom_photon_bins\u001b[49m\u001b[43m,\u001b[49m\u001b[43m \u001b[49m\u001b[38;5;241;43m*\u001b[39;49m\u001b[38;5;241;43m*\u001b[39;49m\u001b[43mkwargs\u001b[49m\u001b[43m)\u001b[49m\n\u001b[1;32m    404\u001b[0m \u001b[38;5;28mself\u001b[39m\u001b[38;5;241m.\u001b[39m_construction_string_sunxspex \u001b[38;5;241m=\u001b[39m \u001b[38;5;124mf\u001b[39m\u001b[38;5;124m\"\u001b[39m\u001b[38;5;124mSunXspex(\u001b[39m\u001b[38;5;132;01m{\u001b[39;00margs\u001b[38;5;132;01m}\u001b[39;00m\u001b[38;5;124m,pha_file=\u001b[39m\u001b[38;5;132;01m{\u001b[39;00mpha_file\u001b[38;5;132;01m}\u001b[39;00m\u001b[38;5;124m,arf_file=\u001b[39m\u001b[38;5;132;01m{\u001b[39;00marf_file\u001b[38;5;132;01m}\u001b[39;00m\u001b[38;5;124m,rmf_file=\u001b[39m\u001b[38;5;132;01m{\u001b[39;00mrmf_file\u001b[38;5;132;01m}\u001b[39;00m\u001b[38;5;124m,srm_file=\u001b[39m\u001b[38;5;132;01m{\u001b[39;00msrm_file\u001b[38;5;132;01m}\u001b[39;00m\u001b[38;5;124m,srm_custom=\u001b[39m\u001b[38;5;132;01m{\u001b[39;00msrm_custom\u001b[38;5;132;01m}\u001b[39;00m\u001b[38;5;124m,custom_channel_bins=\u001b[39m\u001b[38;5;132;01m{\u001b[39;00mcustom_channel_bins\u001b[38;5;132;01m}\u001b[39;00m\u001b[38;5;124m,custom_photon_bins=\u001b[39m\u001b[38;5;132;01m{\u001b[39;00mcustom_photon_bins\u001b[38;5;132;01m}\u001b[39;00m\u001b[38;5;124m,**\u001b[39m\u001b[38;5;132;01m{\u001b[39;00mkwargs\u001b[38;5;132;01m}\u001b[39;00m\u001b[38;5;124m)\u001b[39m\u001b[38;5;124m\"\u001b[39m\n\u001b[1;32m    406\u001b[0m \u001b[38;5;28mself\u001b[39m\u001b[38;5;241m.\u001b[39mloglikelihood \u001b[38;5;241m=\u001b[39m \u001b[38;5;124m\"\u001b[39m\u001b[38;5;124mcstat\u001b[39m\u001b[38;5;124m\"\u001b[39m\n",
      "File \u001b[0;32m~/Projects/sunxspex/sunxspex/sunxspex_fitting/data_loader.py:149\u001b[0m, in \u001b[0;36mLoadSpec.__init__\u001b[0;34m(self, pha_file, arf_file, rmf_file, srm_file, srm_custom, custom_channel_bins, *args, **kwargs)\u001b[0m\n\u001b[1;32m    147\u001b[0m \u001b[38;5;28;01melse\u001b[39;00m:\n\u001b[1;32m    148\u001b[0m     file_indx \u001b[38;5;241m=\u001b[39m s\u001b[38;5;241m-\u001b[39mnum_of_custom\n\u001b[0;32m--> 149\u001b[0m     \u001b[38;5;28mself\u001b[39m\u001b[38;5;241m.\u001b[39mloaded_spec_data[\u001b[38;5;124mf\u001b[39m\u001b[38;5;124m\"\u001b[39m\u001b[38;5;124mspectrum\u001b[39m\u001b[38;5;132;01m{\u001b[39;00ms\u001b[38;5;241m+\u001b[39m\u001b[38;5;241m1\u001b[39m\u001b[38;5;132;01m}\u001b[39;00m\u001b[38;5;124m\"\u001b[39m] \u001b[38;5;241m=\u001b[39m \u001b[38;5;28;43mself\u001b[39;49m\u001b[38;5;241;43m.\u001b[39;49m\u001b[43minstrument_loaders\u001b[49m\u001b[43m[\u001b[49m\u001b[43minstruments\u001b[49m\u001b[43m[\u001b[49m\u001b[43ms\u001b[49m\u001b[43m]\u001b[49m\u001b[43m]\u001b[49m\u001b[43m(\u001b[49m\u001b[43mpha_file\u001b[49m\u001b[43m[\u001b[49m\u001b[43mfile_indx\u001b[49m\u001b[43m]\u001b[49m\u001b[43m,\u001b[49m\n\u001b[1;32m    150\u001b[0m \u001b[43m                                                                                      \u001b[49m\u001b[43marf_file\u001b[49m\u001b[38;5;241;43m=\u001b[39;49m\u001b[43marf_file\u001b[49m\u001b[43m[\u001b[49m\u001b[43mfile_indx\u001b[49m\u001b[43m]\u001b[49m\u001b[43m,\u001b[49m\n\u001b[1;32m    151\u001b[0m \u001b[43m                                                                                      \u001b[49m\u001b[43mrmf_file\u001b[49m\u001b[38;5;241;43m=\u001b[39;49m\u001b[43mrmf_file\u001b[49m\u001b[43m[\u001b[49m\u001b[43mfile_indx\u001b[49m\u001b[43m]\u001b[49m\u001b[43m,\u001b[49m\n\u001b[1;32m    152\u001b[0m \u001b[43m                                                                                      \u001b[49m\u001b[43msrm_file\u001b[49m\u001b[38;5;241;43m=\u001b[39;49m\u001b[43msrm_file\u001b[49m\u001b[43m[\u001b[49m\u001b[43mfile_indx\u001b[49m\u001b[43m]\u001b[49m\u001b[43m,\u001b[49m\n\u001b[1;32m    153\u001b[0m \u001b[43m                                                                                      \u001b[49m\u001b[43msrm_custom\u001b[49m\u001b[38;5;241;43m=\u001b[39;49m\u001b[43msrm_custom\u001b[49m\u001b[43m[\u001b[49m\u001b[43mfile_indx\u001b[49m\u001b[43m]\u001b[49m\u001b[43m,\u001b[49m\n\u001b[1;32m    154\u001b[0m \u001b[43m                                                                                      \u001b[49m\u001b[43mcustom_channel_bins\u001b[49m\u001b[38;5;241;43m=\u001b[39;49m\u001b[43mcustom_channel_bins\u001b[49m\u001b[43m[\u001b[49m\u001b[43mfile_indx\u001b[49m\u001b[43m]\u001b[49m\u001b[43m,\u001b[49m\n\u001b[1;32m    155\u001b[0m \u001b[43m                                                                                      \u001b[49m\u001b[38;5;241;43m*\u001b[39;49m\u001b[38;5;241;43m*\u001b[39;49m\u001b[43mkwargs\u001b[49m\u001b[43m)\u001b[49m\n\u001b[1;32m    156\u001b[0m     \u001b[38;5;28mself\u001b[39m\u001b[38;5;241m.\u001b[39minstruments[\u001b[38;5;124mf\u001b[39m\u001b[38;5;124m\"\u001b[39m\u001b[38;5;124mspectrum\u001b[39m\u001b[38;5;132;01m{\u001b[39;00ms\u001b[38;5;241m+\u001b[39m\u001b[38;5;241m1\u001b[39m\u001b[38;5;132;01m}\u001b[39;00m\u001b[38;5;124m\"\u001b[39m] \u001b[38;5;241m=\u001b[39m instruments[s]\n",
      "File \u001b[0;32m~/Projects/sunxspex/sunxspex/sunxspex_fitting/instruments.py:239\u001b[0m, in \u001b[0;36mNustarLoader.__init__\u001b[0;34m(self, pha_file, arf_file, rmf_file, srm_custom, custom_channel_bins, custom_photon_bins, **kwargs)\u001b[0m\n\u001b[1;32m    236\u001b[0m \u001b[38;5;124;03m\"\"\"Construct a string to show how the class was constructed (`_construction_string`) and set the `_loaded_spec_data` dictionary attribute.\"\"\"\u001b[39;00m\n\u001b[1;32m    238\u001b[0m \u001b[38;5;28mself\u001b[39m\u001b[38;5;241m.\u001b[39m_construction_string \u001b[38;5;241m=\u001b[39m \u001b[38;5;124mf\u001b[39m\u001b[38;5;124m\"\u001b[39m\u001b[38;5;124mNustarLoader(pha_file=\u001b[39m\u001b[38;5;132;01m{\u001b[39;00mpha_file\u001b[38;5;132;01m}\u001b[39;00m\u001b[38;5;124m,arf_file=\u001b[39m\u001b[38;5;132;01m{\u001b[39;00marf_file\u001b[38;5;132;01m}\u001b[39;00m\u001b[38;5;124m,rmf_file=\u001b[39m\u001b[38;5;132;01m{\u001b[39;00mrmf_file\u001b[38;5;132;01m}\u001b[39;00m\u001b[38;5;124m,srm_custom=\u001b[39m\u001b[38;5;132;01m{\u001b[39;00msrm_custom\u001b[38;5;132;01m}\u001b[39;00m\u001b[38;5;124m,custom_channel_bins=\u001b[39m\u001b[38;5;132;01m{\u001b[39;00mcustom_channel_bins\u001b[38;5;132;01m}\u001b[39;00m\u001b[38;5;124m,custom_photon_bins=\u001b[39m\u001b[38;5;132;01m{\u001b[39;00mcustom_photon_bins\u001b[38;5;132;01m}\u001b[39;00m\u001b[38;5;124m,**\u001b[39m\u001b[38;5;132;01m{\u001b[39;00mkwargs\u001b[38;5;132;01m}\u001b[39;00m\u001b[38;5;124m)\u001b[39m\u001b[38;5;124m\"\u001b[39m\n\u001b[0;32m--> 239\u001b[0m \u001b[38;5;28mself\u001b[39m\u001b[38;5;241m.\u001b[39m_loaded_spec_data \u001b[38;5;241m=\u001b[39m \u001b[38;5;28;43mself\u001b[39;49m\u001b[38;5;241;43m.\u001b[39;49m\u001b[43m_load1spec\u001b[49m\u001b[43m(\u001b[49m\u001b[43mpha_file\u001b[49m\u001b[43m,\u001b[49m\u001b[43m \u001b[49m\u001b[43mf_arf\u001b[49m\u001b[38;5;241;43m=\u001b[39;49m\u001b[43marf_file\u001b[49m\u001b[43m,\u001b[49m\u001b[43m \u001b[49m\u001b[43mf_rmf\u001b[49m\u001b[38;5;241;43m=\u001b[39;49m\u001b[43mrmf_file\u001b[49m\u001b[43m,\u001b[49m\u001b[43m \u001b[49m\u001b[43msrm\u001b[49m\u001b[38;5;241;43m=\u001b[39;49m\u001b[43msrm_custom\u001b[49m\u001b[43m,\u001b[49m\u001b[43m \u001b[49m\u001b[43mchannel_bins\u001b[49m\u001b[38;5;241;43m=\u001b[39;49m\u001b[43mcustom_channel_bins\u001b[49m\u001b[43m,\u001b[49m\u001b[43m \u001b[49m\u001b[43mphoton_bins\u001b[49m\u001b[38;5;241;43m=\u001b[39;49m\u001b[43mcustom_photon_bins\u001b[49m\u001b[43m)\u001b[49m\n",
      "File \u001b[0;32m~/Projects/sunxspex/sunxspex/sunxspex_fitting/instruments.py:310\u001b[0m, in \u001b[0;36mNustarLoader._load1spec\u001b[0;34m(self, f_pha, f_arf, f_rmf, srm, channel_bins, photon_bins)\u001b[0m\n\u001b[1;32m    307\u001b[0m     \u001b[38;5;28;01mif\u001b[39;00m os_path\u001b[38;5;241m.\u001b[39misfile(f_rmf):\n\u001b[1;32m    308\u001b[0m         e_lo_rmf, e_hi_rmf, ngrp, fchan, nchan, matrix, redist_m \u001b[38;5;241m=\u001b[39m \u001b[38;5;28mself\u001b[39m\u001b[38;5;241m.\u001b[39m_load_rmf(f_rmf)\n\u001b[0;32m--> 310\u001b[0m     srm \u001b[38;5;241m=\u001b[39m nu_spec\u001b[38;5;241m.\u001b[39mmake_srm(rmf_matrix\u001b[38;5;241m=\u001b[39m\u001b[43mredist_m\u001b[49m, arf_array\u001b[38;5;241m=\u001b[39meff_area)\n\u001b[1;32m    311\u001b[0m \u001b[38;5;28;01melse\u001b[39;00m:\n\u001b[1;32m    312\u001b[0m     e_lo_arf, e_hi_arf, eff_area \u001b[38;5;241m=\u001b[39m \u001b[38;5;28;01mNone\u001b[39;00m, \u001b[38;5;28;01mNone\u001b[39;00m, \u001b[38;5;28;01mNone\u001b[39;00m\n",
      "\u001b[0;31mUnboundLocalError\u001b[0m: local variable 'redist_m' referenced before assignment"
     ]
    },
    {
     "name": "stdout",
     "output_type": "stream",
     "text": [
      "> \u001b[0;32m/Users/shane/Projects/sunxspex/sunxspex/sunxspex_fitting/instruments.py\u001b[0m(310)\u001b[0;36m_load1spec\u001b[0;34m()\u001b[0m\n",
      "\u001b[0;32m    308 \u001b[0;31m                \u001b[0me_lo_rmf\u001b[0m\u001b[0;34m,\u001b[0m \u001b[0me_hi_rmf\u001b[0m\u001b[0;34m,\u001b[0m \u001b[0mngrp\u001b[0m\u001b[0;34m,\u001b[0m \u001b[0mfchan\u001b[0m\u001b[0;34m,\u001b[0m \u001b[0mnchan\u001b[0m\u001b[0;34m,\u001b[0m \u001b[0mmatrix\u001b[0m\u001b[0;34m,\u001b[0m \u001b[0mredist_m\u001b[0m \u001b[0;34m=\u001b[0m \u001b[0mself\u001b[0m\u001b[0;34m.\u001b[0m\u001b[0m_load_rmf\u001b[0m\u001b[0;34m(\u001b[0m\u001b[0mf_rmf\u001b[0m\u001b[0;34m)\u001b[0m\u001b[0;34m\u001b[0m\u001b[0;34m\u001b[0m\u001b[0m\n",
      "\u001b[0m\u001b[0;32m    309 \u001b[0;31m\u001b[0;34m\u001b[0m\u001b[0m\n",
      "\u001b[0m\u001b[0;32m--> 310 \u001b[0;31m            \u001b[0msrm\u001b[0m \u001b[0;34m=\u001b[0m \u001b[0mnu_spec\u001b[0m\u001b[0;34m.\u001b[0m\u001b[0mmake_srm\u001b[0m\u001b[0;34m(\u001b[0m\u001b[0mrmf_matrix\u001b[0m\u001b[0;34m=\u001b[0m\u001b[0mredist_m\u001b[0m\u001b[0;34m,\u001b[0m \u001b[0marf_array\u001b[0m\u001b[0;34m=\u001b[0m\u001b[0meff_area\u001b[0m\u001b[0;34m)\u001b[0m\u001b[0;34m\u001b[0m\u001b[0;34m\u001b[0m\u001b[0m\n",
      "\u001b[0m\u001b[0;32m    311 \u001b[0;31m        \u001b[0;32melse\u001b[0m\u001b[0;34m:\u001b[0m\u001b[0;34m\u001b[0m\u001b[0;34m\u001b[0m\u001b[0m\n",
      "\u001b[0m\u001b[0;32m    312 \u001b[0;31m            \u001b[0me_lo_arf\u001b[0m\u001b[0;34m,\u001b[0m \u001b[0me_hi_arf\u001b[0m\u001b[0;34m,\u001b[0m \u001b[0meff_area\u001b[0m \u001b[0;34m=\u001b[0m \u001b[0;32mNone\u001b[0m\u001b[0;34m,\u001b[0m \u001b[0;32mNone\u001b[0m\u001b[0;34m,\u001b[0m \u001b[0;32mNone\u001b[0m\u001b[0;34m\u001b[0m\u001b[0;34m\u001b[0m\u001b[0m\n",
      "\u001b[0m\n",
      "ipdb> u\n",
      "> \u001b[0;32m/Users/shane/Projects/sunxspex/sunxspex/sunxspex_fitting/instruments.py\u001b[0m(239)\u001b[0;36m__init__\u001b[0;34m()\u001b[0m\n",
      "\u001b[0;32m    237 \u001b[0;31m\u001b[0;34m\u001b[0m\u001b[0m\n",
      "\u001b[0m\u001b[0;32m    238 \u001b[0;31m        \u001b[0mself\u001b[0m\u001b[0;34m.\u001b[0m\u001b[0m_construction_string\u001b[0m \u001b[0;34m=\u001b[0m \u001b[0;34mf\"NustarLoader(pha_file={pha_file},arf_file={arf_file},rmf_file={rmf_file},srm_custom={srm_custom},custom_channel_bins={custom_channel_bins},custom_photon_bins={custom_photon_bins},**{kwargs})\"\u001b[0m\u001b[0;34m\u001b[0m\u001b[0;34m\u001b[0m\u001b[0m\n",
      "\u001b[0m\u001b[0;32m--> 239 \u001b[0;31m        \u001b[0mself\u001b[0m\u001b[0;34m.\u001b[0m\u001b[0m_loaded_spec_data\u001b[0m \u001b[0;34m=\u001b[0m \u001b[0mself\u001b[0m\u001b[0;34m.\u001b[0m\u001b[0m_load1spec\u001b[0m\u001b[0;34m(\u001b[0m\u001b[0mpha_file\u001b[0m\u001b[0;34m,\u001b[0m \u001b[0mf_arf\u001b[0m\u001b[0;34m=\u001b[0m\u001b[0marf_file\u001b[0m\u001b[0;34m,\u001b[0m \u001b[0mf_rmf\u001b[0m\u001b[0;34m=\u001b[0m\u001b[0mrmf_file\u001b[0m\u001b[0;34m,\u001b[0m \u001b[0msrm\u001b[0m\u001b[0;34m=\u001b[0m\u001b[0msrm_custom\u001b[0m\u001b[0;34m,\u001b[0m \u001b[0mchannel_bins\u001b[0m\u001b[0;34m=\u001b[0m\u001b[0mcustom_channel_bins\u001b[0m\u001b[0;34m,\u001b[0m \u001b[0mphoton_bins\u001b[0m\u001b[0;34m=\u001b[0m\u001b[0mcustom_photon_bins\u001b[0m\u001b[0;34m)\u001b[0m\u001b[0;34m\u001b[0m\u001b[0;34m\u001b[0m\u001b[0m\n",
      "\u001b[0m\u001b[0;32m    240 \u001b[0;31m\u001b[0;34m\u001b[0m\u001b[0m\n",
      "\u001b[0m\u001b[0;32m    241 \u001b[0;31m    \u001b[0;32mdef\u001b[0m \u001b[0m_load1spec\u001b[0m\u001b[0;34m(\u001b[0m\u001b[0mself\u001b[0m\u001b[0;34m,\u001b[0m \u001b[0mf_pha\u001b[0m\u001b[0;34m,\u001b[0m \u001b[0mf_arf\u001b[0m\u001b[0;34m=\u001b[0m\u001b[0;32mNone\u001b[0m\u001b[0;34m,\u001b[0m \u001b[0mf_rmf\u001b[0m\u001b[0;34m=\u001b[0m\u001b[0;32mNone\u001b[0m\u001b[0;34m,\u001b[0m \u001b[0msrm\u001b[0m\u001b[0;34m=\u001b[0m\u001b[0;32mNone\u001b[0m\u001b[0;34m,\u001b[0m \u001b[0mchannel_bins\u001b[0m\u001b[0;34m=\u001b[0m\u001b[0;32mNone\u001b[0m\u001b[0;34m,\u001b[0m \u001b[0mphoton_bins\u001b[0m\u001b[0;34m=\u001b[0m\u001b[0;32mNone\u001b[0m\u001b[0;34m)\u001b[0m\u001b[0;34m:\u001b[0m\u001b[0;34m\u001b[0m\u001b[0;34m\u001b[0m\u001b[0m\n",
      "\u001b[0m\n",
      "ipdb> ll\n",
      "\u001b[1;32m    235 \u001b[0m    \u001b[0;32mdef\u001b[0m \u001b[0m__init__\u001b[0m\u001b[0;34m(\u001b[0m\u001b[0mself\u001b[0m\u001b[0;34m,\u001b[0m \u001b[0mpha_file\u001b[0m\u001b[0;34m,\u001b[0m \u001b[0marf_file\u001b[0m\u001b[0;34m=\u001b[0m\u001b[0;32mNone\u001b[0m\u001b[0;34m,\u001b[0m \u001b[0mrmf_file\u001b[0m\u001b[0;34m=\u001b[0m\u001b[0;32mNone\u001b[0m\u001b[0;34m,\u001b[0m \u001b[0msrm_custom\u001b[0m\u001b[0;34m=\u001b[0m\u001b[0;32mNone\u001b[0m\u001b[0;34m,\u001b[0m \u001b[0mcustom_channel_bins\u001b[0m\u001b[0;34m=\u001b[0m\u001b[0;32mNone\u001b[0m\u001b[0;34m,\u001b[0m \u001b[0mcustom_photon_bins\u001b[0m\u001b[0;34m=\u001b[0m\u001b[0;32mNone\u001b[0m\u001b[0;34m,\u001b[0m \u001b[0;34m**\u001b[0m\u001b[0mkwargs\u001b[0m\u001b[0;34m)\u001b[0m\u001b[0;34m:\u001b[0m\u001b[0;34m\u001b[0m\u001b[0;34m\u001b[0m\u001b[0m\n",
      "\u001b[1;32m    236 \u001b[0m        \u001b[0;34m\"\"\"Construct a string to show how the class was constructed (`_construction_string`) and set the `_loaded_spec_data` dictionary attribute.\"\"\"\u001b[0m\u001b[0;34m\u001b[0m\u001b[0;34m\u001b[0m\u001b[0m\n",
      "\u001b[1;32m    237 \u001b[0m\u001b[0;34m\u001b[0m\u001b[0m\n",
      "\u001b[1;32m    238 \u001b[0m        \u001b[0mself\u001b[0m\u001b[0;34m.\u001b[0m\u001b[0m_construction_string\u001b[0m \u001b[0;34m=\u001b[0m \u001b[0;34mf\"NustarLoader(pha_file={pha_file},arf_file={arf_file},rmf_file={rmf_file},srm_custom={srm_custom},custom_channel_bins={custom_channel_bins},custom_photon_bins={custom_photon_bins},**{kwargs})\"\u001b[0m\u001b[0;34m\u001b[0m\u001b[0;34m\u001b[0m\u001b[0m\n",
      "\u001b[0;32m--> 239 \u001b[0;31m        \u001b[0mself\u001b[0m\u001b[0;34m.\u001b[0m\u001b[0m_loaded_spec_data\u001b[0m \u001b[0;34m=\u001b[0m \u001b[0mself\u001b[0m\u001b[0;34m.\u001b[0m\u001b[0m_load1spec\u001b[0m\u001b[0;34m(\u001b[0m\u001b[0mpha_file\u001b[0m\u001b[0;34m,\u001b[0m \u001b[0mf_arf\u001b[0m\u001b[0;34m=\u001b[0m\u001b[0marf_file\u001b[0m\u001b[0;34m,\u001b[0m \u001b[0mf_rmf\u001b[0m\u001b[0;34m=\u001b[0m\u001b[0mrmf_file\u001b[0m\u001b[0;34m,\u001b[0m \u001b[0msrm\u001b[0m\u001b[0;34m=\u001b[0m\u001b[0msrm_custom\u001b[0m\u001b[0;34m,\u001b[0m \u001b[0mchannel_bins\u001b[0m\u001b[0;34m=\u001b[0m\u001b[0mcustom_channel_bins\u001b[0m\u001b[0;34m,\u001b[0m \u001b[0mphoton_bins\u001b[0m\u001b[0;34m=\u001b[0m\u001b[0mcustom_photon_bins\u001b[0m\u001b[0;34m)\u001b[0m\u001b[0;34m\u001b[0m\u001b[0;34m\u001b[0m\u001b[0m\n",
      "\u001b[0m\u001b[1;32m    240 \u001b[0m\u001b[0;34m\u001b[0m\u001b[0m\n",
      "\n",
      "ipdb> f_arf\n",
      "*** NameError: name 'f_arf' is not defined\n",
      "ipdb> arf_file\n",
      "ipdb> rmf_file\n",
      "ipdb> srm_ srm_custom\n",
      "*** SyntaxError: invalid syntax\n",
      "ipdb> srm_custom\n",
      "ipdb> arf_file\n",
      "ipdb> pha_file\n",
      "'../data/nustar/Duncan2021/nu80410201001A06_1618_p_chu2_N_sr.pha'\n",
      "ipdb> rmf_file\n",
      "ipdb> ll\n",
      "\u001b[1;32m    235 \u001b[0m    \u001b[0;32mdef\u001b[0m \u001b[0m__init__\u001b[0m\u001b[0;34m(\u001b[0m\u001b[0mself\u001b[0m\u001b[0;34m,\u001b[0m \u001b[0mpha_file\u001b[0m\u001b[0;34m,\u001b[0m \u001b[0marf_file\u001b[0m\u001b[0;34m=\u001b[0m\u001b[0;32mNone\u001b[0m\u001b[0;34m,\u001b[0m \u001b[0mrmf_file\u001b[0m\u001b[0;34m=\u001b[0m\u001b[0;32mNone\u001b[0m\u001b[0;34m,\u001b[0m \u001b[0msrm_custom\u001b[0m\u001b[0;34m=\u001b[0m\u001b[0;32mNone\u001b[0m\u001b[0;34m,\u001b[0m \u001b[0mcustom_channel_bins\u001b[0m\u001b[0;34m=\u001b[0m\u001b[0;32mNone\u001b[0m\u001b[0;34m,\u001b[0m \u001b[0mcustom_photon_bins\u001b[0m\u001b[0;34m=\u001b[0m\u001b[0;32mNone\u001b[0m\u001b[0;34m,\u001b[0m \u001b[0;34m**\u001b[0m\u001b[0mkwargs\u001b[0m\u001b[0;34m)\u001b[0m\u001b[0;34m:\u001b[0m\u001b[0;34m\u001b[0m\u001b[0;34m\u001b[0m\u001b[0m\n",
      "\u001b[1;32m    236 \u001b[0m        \u001b[0;34m\"\"\"Construct a string to show how the class was constructed (`_construction_string`) and set the `_loaded_spec_data` dictionary attribute.\"\"\"\u001b[0m\u001b[0;34m\u001b[0m\u001b[0;34m\u001b[0m\u001b[0m\n",
      "\u001b[1;32m    237 \u001b[0m\u001b[0;34m\u001b[0m\u001b[0m\n",
      "\u001b[1;32m    238 \u001b[0m        \u001b[0mself\u001b[0m\u001b[0;34m.\u001b[0m\u001b[0m_construction_string\u001b[0m \u001b[0;34m=\u001b[0m \u001b[0;34mf\"NustarLoader(pha_file={pha_file},arf_file={arf_file},rmf_file={rmf_file},srm_custom={srm_custom},custom_channel_bins={custom_channel_bins},custom_photon_bins={custom_photon_bins},**{kwargs})\"\u001b[0m\u001b[0;34m\u001b[0m\u001b[0;34m\u001b[0m\u001b[0m\n",
      "\u001b[0;32m--> 239 \u001b[0;31m        \u001b[0mself\u001b[0m\u001b[0;34m.\u001b[0m\u001b[0m_loaded_spec_data\u001b[0m \u001b[0;34m=\u001b[0m \u001b[0mself\u001b[0m\u001b[0;34m.\u001b[0m\u001b[0m_load1spec\u001b[0m\u001b[0;34m(\u001b[0m\u001b[0mpha_file\u001b[0m\u001b[0;34m,\u001b[0m \u001b[0mf_arf\u001b[0m\u001b[0;34m=\u001b[0m\u001b[0marf_file\u001b[0m\u001b[0;34m,\u001b[0m \u001b[0mf_rmf\u001b[0m\u001b[0;34m=\u001b[0m\u001b[0mrmf_file\u001b[0m\u001b[0;34m,\u001b[0m \u001b[0msrm\u001b[0m\u001b[0;34m=\u001b[0m\u001b[0msrm_custom\u001b[0m\u001b[0;34m,\u001b[0m \u001b[0mchannel_bins\u001b[0m\u001b[0;34m=\u001b[0m\u001b[0mcustom_channel_bins\u001b[0m\u001b[0;34m,\u001b[0m \u001b[0mphoton_bins\u001b[0m\u001b[0;34m=\u001b[0m\u001b[0mcustom_photon_bins\u001b[0m\u001b[0;34m)\u001b[0m\u001b[0;34m\u001b[0m\u001b[0;34m\u001b[0m\u001b[0m\n",
      "\u001b[0m\u001b[1;32m    240 \u001b[0m\u001b[0;34m\u001b[0m\u001b[0m\n",
      "\n",
      "ipdb> d\n",
      "> \u001b[0;32m/Users/shane/Projects/sunxspex/sunxspex/sunxspex_fitting/instruments.py\u001b[0m(310)\u001b[0;36m_load1spec\u001b[0;34m()\u001b[0m\n",
      "\u001b[0;32m    308 \u001b[0;31m                \u001b[0me_lo_rmf\u001b[0m\u001b[0;34m,\u001b[0m \u001b[0me_hi_rmf\u001b[0m\u001b[0;34m,\u001b[0m \u001b[0mngrp\u001b[0m\u001b[0;34m,\u001b[0m \u001b[0mfchan\u001b[0m\u001b[0;34m,\u001b[0m \u001b[0mnchan\u001b[0m\u001b[0;34m,\u001b[0m \u001b[0mmatrix\u001b[0m\u001b[0;34m,\u001b[0m \u001b[0mredist_m\u001b[0m \u001b[0;34m=\u001b[0m \u001b[0mself\u001b[0m\u001b[0;34m.\u001b[0m\u001b[0m_load_rmf\u001b[0m\u001b[0;34m(\u001b[0m\u001b[0mf_rmf\u001b[0m\u001b[0;34m)\u001b[0m\u001b[0;34m\u001b[0m\u001b[0;34m\u001b[0m\u001b[0m\n",
      "\u001b[0m\u001b[0;32m    309 \u001b[0;31m\u001b[0;34m\u001b[0m\u001b[0m\n",
      "\u001b[0m\u001b[0;32m--> 310 \u001b[0;31m            \u001b[0msrm\u001b[0m \u001b[0;34m=\u001b[0m \u001b[0mnu_spec\u001b[0m\u001b[0;34m.\u001b[0m\u001b[0mmake_srm\u001b[0m\u001b[0;34m(\u001b[0m\u001b[0mrmf_matrix\u001b[0m\u001b[0;34m=\u001b[0m\u001b[0mredist_m\u001b[0m\u001b[0;34m,\u001b[0m \u001b[0marf_array\u001b[0m\u001b[0;34m=\u001b[0m\u001b[0meff_area\u001b[0m\u001b[0;34m)\u001b[0m\u001b[0;34m\u001b[0m\u001b[0;34m\u001b[0m\u001b[0m\n",
      "\u001b[0m\u001b[0;32m    311 \u001b[0;31m        \u001b[0;32melse\u001b[0m\u001b[0;34m:\u001b[0m\u001b[0;34m\u001b[0m\u001b[0;34m\u001b[0m\u001b[0m\n",
      "\u001b[0m\u001b[0;32m    312 \u001b[0;31m            \u001b[0me_lo_arf\u001b[0m\u001b[0;34m,\u001b[0m \u001b[0me_hi_arf\u001b[0m\u001b[0;34m,\u001b[0m \u001b[0meff_area\u001b[0m \u001b[0;34m=\u001b[0m \u001b[0;32mNone\u001b[0m\u001b[0;34m,\u001b[0m \u001b[0;32mNone\u001b[0m\u001b[0;34m,\u001b[0m \u001b[0;32mNone\u001b[0m\u001b[0;34m\u001b[0m\u001b[0;34m\u001b[0m\u001b[0m\n",
      "\u001b[0m\n",
      "ipdb> ll\n",
      "\u001b[1;32m    241 \u001b[0m    \u001b[0;32mdef\u001b[0m \u001b[0m_load1spec\u001b[0m\u001b[0;34m(\u001b[0m\u001b[0mself\u001b[0m\u001b[0;34m,\u001b[0m \u001b[0mf_pha\u001b[0m\u001b[0;34m,\u001b[0m \u001b[0mf_arf\u001b[0m\u001b[0;34m=\u001b[0m\u001b[0;32mNone\u001b[0m\u001b[0;34m,\u001b[0m \u001b[0mf_rmf\u001b[0m\u001b[0;34m=\u001b[0m\u001b[0;32mNone\u001b[0m\u001b[0;34m,\u001b[0m \u001b[0msrm\u001b[0m\u001b[0;34m=\u001b[0m\u001b[0;32mNone\u001b[0m\u001b[0;34m,\u001b[0m \u001b[0mchannel_bins\u001b[0m\u001b[0;34m=\u001b[0m\u001b[0;32mNone\u001b[0m\u001b[0;34m,\u001b[0m \u001b[0mphoton_bins\u001b[0m\u001b[0;34m=\u001b[0m\u001b[0;32mNone\u001b[0m\u001b[0;34m)\u001b[0m\u001b[0;34m:\u001b[0m\u001b[0;34m\u001b[0m\u001b[0;34m\u001b[0m\u001b[0m\n",
      "\u001b[1;32m    242 \u001b[0m        \"\"\" Loads all the information in for a given spectrum.\n",
      "\u001b[1;32m    243 \u001b[0m\u001b[0;34m\u001b[0m\u001b[0m\n",
      "\u001b[1;32m    244 \u001b[0m        \u001b[0mParameters\u001b[0m\u001b[0;34m\u001b[0m\u001b[0;34m\u001b[0m\u001b[0m\n",
      "\u001b[1;32m    245 \u001b[0m        \u001b[0;34m-\u001b[0m\u001b[0;34m-\u001b[0m\u001b[0;34m-\u001b[0m\u001b[0;34m-\u001b[0m\u001b[0;34m-\u001b[0m\u001b[0;34m-\u001b[0m\u001b[0;34m-\u001b[0m\u001b[0;34m-\u001b[0m\u001b[0;34m-\u001b[0m\u001b[0;34m-\u001b[0m\u001b[0;34m\u001b[0m\u001b[0;34m\u001b[0m\u001b[0m\n",
      "\u001b[1;32m    246 \u001b[0m        \u001b[0mf_pha\u001b[0m\u001b[0;34m,\u001b[0m \u001b[0mf_arf\u001b[0m\u001b[0;34m,\u001b[0m \u001b[0mf_rmf\u001b[0m \u001b[0;34m:\u001b[0m \u001b[0mstring\u001b[0m\u001b[0;34m\u001b[0m\u001b[0;34m\u001b[0m\u001b[0m\n",
      "\u001b[1;32m    247 \u001b[0m                \u001b[0mFilenames\u001b[0m \u001b[0;32mfor\u001b[0m \u001b[0mthe\u001b[0m \u001b[0mrelevant\u001b[0m \u001b[0mspectral\u001b[0m \u001b[0mfiles\u001b[0m\u001b[0;34m.\u001b[0m \u001b[0mIf\u001b[0m \u001b[0mf_arf\u001b[0m\u001b[0;34m,\u001b[0m \u001b[0mf_rmf\u001b[0m \u001b[0mare\u001b[0m \u001b[0;32mNone\u001b[0m \u001b[0mit\u001b[0m \u001b[0;32mis\u001b[0m \u001b[0massumed\u001b[0m\u001b[0;34m\u001b[0m\u001b[0;34m\u001b[0m\u001b[0m\n",
      "\u001b[1;32m    248 \u001b[0m                \u001b[0mthat\u001b[0m \u001b[0mthese\u001b[0m \u001b[0mare\u001b[0m \u001b[0;32min\u001b[0m \u001b[0mthe\u001b[0m \u001b[0msame\u001b[0m \u001b[0mdirectory\u001b[0m \u001b[0;32mwith\u001b[0m \u001b[0msame\u001b[0m \u001b[0mfilename\u001b[0m \u001b[0;32mas\u001b[0m \u001b[0mthe\u001b[0m \u001b[0mPHA\u001b[0m \u001b[0mfile\u001b[0m \u001b[0mbut\u001b[0m \u001b[0;32mwith\u001b[0m\u001b[0;34m\u001b[0m\u001b[0;34m\u001b[0m\u001b[0m\n",
      "\u001b[1;32m    249 \u001b[0m                \u001b[0mextensions\u001b[0m \u001b[0;34m'.arf'\u001b[0m \u001b[0;32mand\u001b[0m \u001b[0;34m'.rmf'\u001b[0m\u001b[0;34m,\u001b[0m \u001b[0mrespectively\u001b[0m\u001b[0;34m.\u001b[0m\u001b[0;34m\u001b[0m\u001b[0;34m\u001b[0m\u001b[0m\n",
      "\u001b[1;32m    250 \u001b[0m                \u001b[0mDefault\u001b[0m \u001b[0mof\u001b[0m \u001b[0mf_arf\u001b[0m\u001b[0;34m,\u001b[0m \u001b[0mf_rmf\u001b[0m\u001b[0;34m:\u001b[0m \u001b[0;32mNone\u001b[0m\u001b[0;34m\u001b[0m\u001b[0;34m\u001b[0m\u001b[0m\n",
      "\u001b[1;32m    251 \u001b[0m\u001b[0;34m\u001b[0m\u001b[0m\n",
      "\u001b[1;32m    252 \u001b[0m        \u001b[0msrm\u001b[0m \u001b[0;34m:\u001b[0m \u001b[0;36m2\u001b[0m\u001b[0md\u001b[0m \u001b[0marray\u001b[0m\u001b[0;34m\u001b[0m\u001b[0;34m\u001b[0m\u001b[0m\n",
      "\u001b[1;32m    253 \u001b[0m                \u001b[0mUser\u001b[0m \u001b[0mdefined\u001b[0m \u001b[0mspectral\u001b[0m \u001b[0mresponse\u001b[0m \u001b[0mmatrix\u001b[0m\u001b[0;34m.\u001b[0m \u001b[0mThis\u001b[0m \u001b[0;32mis\u001b[0m \u001b[0maccepted\u001b[0m \u001b[0mover\u001b[0m \u001b[0mthe\u001b[0m \u001b[0mSRM\u001b[0m \u001b[0mcreated\u001b[0m \u001b[0;32mfrom\u001b[0m \u001b[0many\u001b[0m\u001b[0;34m\u001b[0m\u001b[0;34m\u001b[0m\u001b[0m\n",
      "\u001b[1;32m    254 \u001b[0m                \u001b[0mARF\u001b[0m \u001b[0;32mand\u001b[0m \u001b[0mRMF\u001b[0m \u001b[0mfiles\u001b[0m \u001b[0mgiven\u001b[0m\u001b[0;34m.\u001b[0m\u001b[0;34m\u001b[0m\u001b[0;34m\u001b[0m\u001b[0m\n",
      "\u001b[1;32m    255 \u001b[0m                \u001b[0mDefault\u001b[0m\u001b[0;34m:\u001b[0m \u001b[0;32mNone\u001b[0m\u001b[0;34m\u001b[0m\u001b[0;34m\u001b[0m\u001b[0m\n",
      "\u001b[1;32m    256 \u001b[0m\u001b[0;34m\u001b[0m\u001b[0m\n",
      "\u001b[1;32m    257 \u001b[0m        \u001b[0mphoton_bins\u001b[0m\u001b[0;34m,\u001b[0m \u001b[0mchannel_bins\u001b[0m\u001b[0;34m:\u001b[0m \u001b[0;36m2\u001b[0m\u001b[0md\u001b[0m \u001b[0marray\u001b[0m\u001b[0;34m\u001b[0m\u001b[0;34m\u001b[0m\u001b[0m\n",
      "\u001b[1;32m    258 \u001b[0m                \u001b[0mUser\u001b[0m \u001b[0mdefined\u001b[0m \u001b[0mchannel\u001b[0m \u001b[0mbins\u001b[0m \u001b[0;32mfor\u001b[0m \u001b[0mthe\u001b[0m \u001b[0mrows\u001b[0m \u001b[0;32mand\u001b[0m \u001b[0mcolumns\u001b[0m \u001b[0mof\u001b[0m \u001b[0mthe\u001b[0m \u001b[0mSRM\u001b[0m \u001b[0mmatrix\u001b[0m\u001b[0;34m.\u001b[0m\u001b[0;34m\u001b[0m\u001b[0;34m\u001b[0m\u001b[0m\n",
      "\u001b[1;32m    259 \u001b[0m                \u001b[0mE\u001b[0m\u001b[0;34m.\u001b[0m\u001b[0mg\u001b[0m\u001b[0;34m.\u001b[0m\u001b[0;34m,\u001b[0m \u001b[0mcustom_channel_bins\u001b[0m\u001b[0;34m=\u001b[0m\u001b[0;34m[\u001b[0m\u001b[0;34m[\u001b[0m\u001b[0;36m1\u001b[0m\u001b[0;34m,\u001b[0m\u001b[0;36m1.5\u001b[0m\u001b[0;34m]\u001b[0m\u001b[0;34m,\u001b[0m\u001b[0;34m[\u001b[0m\u001b[0;36m1.5\u001b[0m\u001b[0;34m,\u001b[0m\u001b[0;36m2\u001b[0m\u001b[0;34m]\u001b[0m\u001b[0;34m,\u001b[0m\u001b[0;34m...\u001b[0m\u001b[0;34m]\u001b[0m\u001b[0;34m\u001b[0m\u001b[0;34m\u001b[0m\u001b[0m\n",
      "\u001b[1;32m    260 \u001b[0m                \u001b[0mDefault\u001b[0m\u001b[0;34m:\u001b[0m \u001b[0;32mNone\u001b[0m\u001b[0;34m\u001b[0m\u001b[0;34m\u001b[0m\u001b[0m\n",
      "\u001b[1;32m    261 \u001b[0m\u001b[0;34m\u001b[0m\u001b[0m\n",
      "\u001b[1;32m    262 \u001b[0m        \u001b[0mReturns\u001b[0m\u001b[0;34m\u001b[0m\u001b[0;34m\u001b[0m\u001b[0m\n",
      "\u001b[1;32m    263 \u001b[0m        \u001b[0;34m-\u001b[0m\u001b[0;34m-\u001b[0m\u001b[0;34m-\u001b[0m\u001b[0;34m-\u001b[0m\u001b[0;34m-\u001b[0m\u001b[0;34m-\u001b[0m\u001b[0;34m-\u001b[0m\u001b[0;34m\u001b[0m\u001b[0;34m\u001b[0m\u001b[0m\n",
      "\u001b[1;32m    264 \u001b[0m        Dictionary of the loaded in spectral information in the form {\"photon_channel_bins\":channel_bins,\n",
      "\u001b[1;32m    265 \u001b[0m                                                                      \u001b[0;34m\"photon_channel_mids\"\u001b[0m\u001b[0;34m:\u001b[0m\u001b[0mnp\u001b[0m\u001b[0;34m.\u001b[0m\u001b[0mmean\u001b[0m\u001b[0;34m(\u001b[0m\u001b[0mchannel_bins\u001b[0m\u001b[0;34m,\u001b[0m \u001b[0maxis\u001b[0m\u001b[0;34m=\u001b[0m\u001b[0;36m1\u001b[0m\u001b[0;34m)\u001b[0m\u001b[0;34m,\u001b[0m\u001b[0;34m\u001b[0m\u001b[0;34m\u001b[0m\u001b[0m\n",
      "\u001b[1;32m    266 \u001b[0m                                                                      \u001b[0;34m\"photon_channel_binning\"\u001b[0m\u001b[0;34m:\u001b[0m\u001b[0mchannel_binning\u001b[0m\u001b[0;34m,\u001b[0m\u001b[0;34m\u001b[0m\u001b[0;34m\u001b[0m\u001b[0m\n",
      "\u001b[1;32m    267 \u001b[0m                                                                      \u001b[0;34m\"count_channel_bins\"\u001b[0m\u001b[0;34m:\u001b[0m\u001b[0mchannel_bins\u001b[0m\u001b[0;34m,\u001b[0m\u001b[0;34m\u001b[0m\u001b[0;34m\u001b[0m\u001b[0m\n",
      "\u001b[1;32m    268 \u001b[0m                                                                      \u001b[0;34m\"count_channel_mids\"\u001b[0m\u001b[0;34m:\u001b[0m\u001b[0mnp\u001b[0m\u001b[0;34m.\u001b[0m\u001b[0mmean\u001b[0m\u001b[0;34m(\u001b[0m\u001b[0mchannel_bins\u001b[0m\u001b[0;34m,\u001b[0m \u001b[0maxis\u001b[0m\u001b[0;34m=\u001b[0m\u001b[0;36m1\u001b[0m\u001b[0;34m)\u001b[0m\u001b[0;34m,\u001b[0m\u001b[0;34m\u001b[0m\u001b[0;34m\u001b[0m\u001b[0m\n",
      "\u001b[1;32m    269 \u001b[0m                                                                      \u001b[0;34m\"count_channel_binning\"\u001b[0m\u001b[0;34m:\u001b[0m\u001b[0mchannel_binning\u001b[0m\u001b[0;34m,\u001b[0m\u001b[0;34m\u001b[0m\u001b[0;34m\u001b[0m\u001b[0m\n",
      "\u001b[1;32m    270 \u001b[0m                                                                      \u001b[0;34m\"counts\"\u001b[0m\u001b[0;34m:\u001b[0m\u001b[0mcounts\u001b[0m\u001b[0;34m,\u001b[0m\u001b[0;34m\u001b[0m\u001b[0;34m\u001b[0m\u001b[0m\n",
      "\u001b[1;32m    271 \u001b[0m                                                                      \u001b[0;34m\"count_error\"\u001b[0m\u001b[0;34m:\u001b[0m\u001b[0mcount_error\u001b[0m\u001b[0;34m,\u001b[0m\u001b[0;34m\u001b[0m\u001b[0;34m\u001b[0m\u001b[0m\n",
      "\u001b[1;32m    272 \u001b[0m                                                                      \u001b[0;34m\"count_rate\"\u001b[0m\u001b[0;34m:\u001b[0m\u001b[0mcount_rate\u001b[0m\u001b[0;34m,\u001b[0m\u001b[0;34m\u001b[0m\u001b[0;34m\u001b[0m\u001b[0m\n",
      "\u001b[1;32m    273 \u001b[0m                                                                      \u001b[0;34m\"count_rate_error\"\u001b[0m\u001b[0;34m:\u001b[0m\u001b[0mcount_rate_error\u001b[0m\u001b[0;34m,\u001b[0m\u001b[0;34m\u001b[0m\u001b[0;34m\u001b[0m\u001b[0m\n",
      "\u001b[1;32m    274 \u001b[0m                                                                      \u001b[0;34m\"effective_exposure\"\u001b[0m\u001b[0;34m:\u001b[0m\u001b[0meff_exp\u001b[0m\u001b[0;34m,\u001b[0m\u001b[0;34m\u001b[0m\u001b[0;34m\u001b[0m\u001b[0m\n",
      "\u001b[1;32m    275 \u001b[0m                                                                      \u001b[0;34m\"srm\"\u001b[0m\u001b[0;34m:\u001b[0m\u001b[0msrm\u001b[0m\u001b[0;34m,\u001b[0m\u001b[0;34m\u001b[0m\u001b[0;34m\u001b[0m\u001b[0m\n",
      "\u001b[1;32m    276 \u001b[0m                                                                      \"extras\":{\"pha.file\":f_pha,\n",
      "\u001b[1;32m    277 \u001b[0m                                                                                \u001b[0;34m\"arf.file\"\u001b[0m\u001b[0;34m:\u001b[0m\u001b[0mf_arf\u001b[0m\u001b[0;34m,\u001b[0m\u001b[0;34m\u001b[0m\u001b[0;34m\u001b[0m\u001b[0m\n",
      "\u001b[1;32m    278 \u001b[0m                                                                                \u001b[0;34m\"arf.e_lo\"\u001b[0m\u001b[0;34m:\u001b[0m\u001b[0me_lo_arf\u001b[0m\u001b[0;34m,\u001b[0m\u001b[0;34m\u001b[0m\u001b[0;34m\u001b[0m\u001b[0m\n",
      "\u001b[1;32m    279 \u001b[0m                                                                                \u001b[0;34m\"arf.e_hi\"\u001b[0m\u001b[0;34m:\u001b[0m\u001b[0me_hi_arf\u001b[0m\u001b[0;34m,\u001b[0m\u001b[0;34m\u001b[0m\u001b[0;34m\u001b[0m\u001b[0m\n",
      "\u001b[1;32m    280 \u001b[0m                                                                                \u001b[0;34m\"arf.effective_area\"\u001b[0m\u001b[0;34m:\u001b[0m\u001b[0meff_area\u001b[0m\u001b[0;34m,\u001b[0m\u001b[0;34m\u001b[0m\u001b[0;34m\u001b[0m\u001b[0m\n",
      "\u001b[1;32m    281 \u001b[0m                                                                                \u001b[0;34m\"rmf.file\"\u001b[0m\u001b[0;34m:\u001b[0m\u001b[0mf_rmf\u001b[0m\u001b[0;34m,\u001b[0m\u001b[0;34m\u001b[0m\u001b[0;34m\u001b[0m\u001b[0m\n",
      "\u001b[1;32m    282 \u001b[0m                                                                                \u001b[0;34m\"rmf.e_lo\"\u001b[0m\u001b[0;34m:\u001b[0m\u001b[0me_lo_rmf\u001b[0m\u001b[0;34m,\u001b[0m\u001b[0;34m\u001b[0m\u001b[0;34m\u001b[0m\u001b[0m\n",
      "\u001b[1;32m    283 \u001b[0m                                                                                \u001b[0;34m\"rmf.e_hi\"\u001b[0m\u001b[0;34m:\u001b[0m\u001b[0me_hi_rmf\u001b[0m\u001b[0;34m,\u001b[0m\u001b[0;34m\u001b[0m\u001b[0;34m\u001b[0m\u001b[0m\n",
      "\u001b[1;32m    284 \u001b[0m                                                                                \u001b[0;34m\"rmf.ngrp\"\u001b[0m\u001b[0;34m:\u001b[0m\u001b[0mngrp\u001b[0m\u001b[0;34m,\u001b[0m\u001b[0;34m\u001b[0m\u001b[0;34m\u001b[0m\u001b[0m\n",
      "\u001b[1;32m    285 \u001b[0m                                                                                \u001b[0;34m\"rmf.fchan\"\u001b[0m\u001b[0;34m:\u001b[0m\u001b[0mfchan\u001b[0m\u001b[0;34m,\u001b[0m\u001b[0;34m\u001b[0m\u001b[0;34m\u001b[0m\u001b[0m\n",
      "\u001b[1;32m    286 \u001b[0m                                                                                \u001b[0;34m\"rmf.nchan\"\u001b[0m\u001b[0;34m:\u001b[0m\u001b[0mnchan\u001b[0m\u001b[0;34m,\u001b[0m\u001b[0;34m\u001b[0m\u001b[0;34m\u001b[0m\u001b[0m\n",
      "\u001b[1;32m    287 \u001b[0m                                                                                \u001b[0;34m\"rmf.matrix\"\u001b[0m\u001b[0;34m:\u001b[0m\u001b[0mmatrix\u001b[0m\u001b[0;34m,\u001b[0m\u001b[0;34m\u001b[0m\u001b[0;34m\u001b[0m\u001b[0m\n",
      "\u001b[1;32m    288 \u001b[0m                                                                                \"rmf.redistribution_matrix\":redist_m}\n",
      "\u001b[1;32m    289 \u001b[0m                                                                     }.\n",
      "\u001b[1;32m    290 \u001b[0m        \"\"\"\n",
      "\u001b[1;32m    291 \u001b[0m\u001b[0;34m\u001b[0m\u001b[0m\n",
      "\u001b[1;32m    292 \u001b[0m        \u001b[0;31m# what files might be needed (for NuSTAR)\u001b[0m\u001b[0;34m\u001b[0m\u001b[0;34m\u001b[0m\u001b[0;34m\u001b[0m\u001b[0m\n",
      "\u001b[1;32m    293 \u001b[0m        \u001b[0mf_arf\u001b[0m \u001b[0;34m=\u001b[0m \u001b[0mf_pha\u001b[0m\u001b[0;34m[\u001b[0m\u001b[0;34m:\u001b[0m\u001b[0;34m-\u001b[0m\u001b[0;36m3\u001b[0m\u001b[0;34m]\u001b[0m\u001b[0;34m+\u001b[0m\u001b[0;34m\"arf\"\u001b[0m \u001b[0;32mif\u001b[0m \u001b[0mtype\u001b[0m\u001b[0;34m(\u001b[0m\u001b[0mf_arf\u001b[0m\u001b[0;34m)\u001b[0m \u001b[0;34m==\u001b[0m \u001b[0mtype\u001b[0m\u001b[0;34m(\u001b[0m\u001b[0;32mNone\u001b[0m\u001b[0;34m)\u001b[0m \u001b[0;32melse\u001b[0m \u001b[0mf_arf\u001b[0m\u001b[0;34m\u001b[0m\u001b[0;34m\u001b[0m\u001b[0m\n",
      "\u001b[1;32m    294 \u001b[0m        \u001b[0mf_rmf\u001b[0m \u001b[0;34m=\u001b[0m \u001b[0mf_pha\u001b[0m\u001b[0;34m[\u001b[0m\u001b[0;34m:\u001b[0m\u001b[0;34m-\u001b[0m\u001b[0;36m3\u001b[0m\u001b[0;34m]\u001b[0m\u001b[0;34m+\u001b[0m\u001b[0;34m\"rmf\"\u001b[0m \u001b[0;32mif\u001b[0m \u001b[0mtype\u001b[0m\u001b[0;34m(\u001b[0m\u001b[0mf_rmf\u001b[0m\u001b[0;34m)\u001b[0m \u001b[0;34m==\u001b[0m \u001b[0mtype\u001b[0m\u001b[0;34m(\u001b[0m\u001b[0;32mNone\u001b[0m\u001b[0;34m)\u001b[0m \u001b[0;32melse\u001b[0m \u001b[0mf_rmf\u001b[0m\u001b[0;34m\u001b[0m\u001b[0;34m\u001b[0m\u001b[0m\n",
      "\u001b[1;32m    295 \u001b[0m\u001b[0;34m\u001b[0m\u001b[0m\n",
      "\u001b[1;32m    296 \u001b[0m        \u001b[0;31m# need effective exposure and energy binning since likelihood works on counts, not count rates etc.\u001b[0m\u001b[0;34m\u001b[0m\u001b[0;34m\u001b[0m\u001b[0;34m\u001b[0m\u001b[0m\n",
      "\u001b[1;32m    297 \u001b[0m        \u001b[0m_\u001b[0m\u001b[0;34m,\u001b[0m \u001b[0mcounts\u001b[0m\u001b[0;34m,\u001b[0m \u001b[0meff_exp\u001b[0m \u001b[0;34m=\u001b[0m \u001b[0mio\u001b[0m\u001b[0;34m.\u001b[0m\u001b[0m_read_pha\u001b[0m\u001b[0;34m(\u001b[0m\u001b[0mf_pha\u001b[0m\u001b[0;34m)\u001b[0m\u001b[0;34m\u001b[0m\u001b[0;34m\u001b[0m\u001b[0m\n",
      "\u001b[1;32m    298 \u001b[0m\u001b[0;34m\u001b[0m\u001b[0m\n",
      "\u001b[1;32m    299 \u001b[0m        \u001b[0;31m# now calculate the SRM or use a custom one if given\u001b[0m\u001b[0;34m\u001b[0m\u001b[0;34m\u001b[0m\u001b[0;34m\u001b[0m\u001b[0m\n",
      "\u001b[1;32m    300 \u001b[0m        \u001b[0;32mif\u001b[0m \u001b[0msrm\u001b[0m \u001b[0;32mis\u001b[0m \u001b[0;32mNone\u001b[0m\u001b[0;34m:\u001b[0m\u001b[0;34m\u001b[0m\u001b[0;34m\u001b[0m\u001b[0m\n",
      "\u001b[1;32m    301 \u001b[0m\u001b[0;34m\u001b[0m\u001b[0m\n",
      "\u001b[1;32m    302 \u001b[0m            \u001b[0;31m# if there is an ARF file load it in\u001b[0m\u001b[0;34m\u001b[0m\u001b[0;34m\u001b[0m\u001b[0;34m\u001b[0m\u001b[0m\n",
      "\u001b[1;32m    303 \u001b[0m            \u001b[0;32mif\u001b[0m \u001b[0mos_path\u001b[0m\u001b[0;34m.\u001b[0m\u001b[0misfile\u001b[0m\u001b[0;34m(\u001b[0m\u001b[0mf_arf\u001b[0m\u001b[0;34m)\u001b[0m\u001b[0;34m:\u001b[0m\u001b[0;34m\u001b[0m\u001b[0;34m\u001b[0m\u001b[0m\n",
      "\u001b[1;32m    304 \u001b[0m                \u001b[0me_lo_arf\u001b[0m\u001b[0;34m,\u001b[0m \u001b[0me_hi_arf\u001b[0m\u001b[0;34m,\u001b[0m \u001b[0meff_area\u001b[0m \u001b[0;34m=\u001b[0m \u001b[0mio\u001b[0m\u001b[0;34m.\u001b[0m\u001b[0m_read_arf\u001b[0m\u001b[0;34m(\u001b[0m\u001b[0mf_arf\u001b[0m\u001b[0;34m)\u001b[0m\u001b[0;34m\u001b[0m\u001b[0;34m\u001b[0m\u001b[0m\n",
      "\u001b[1;32m    305 \u001b[0m\u001b[0;34m\u001b[0m\u001b[0m\n",
      "\u001b[1;32m    306 \u001b[0m            \u001b[0;31m# if there is an RMF file load it in and convert to a redistribution matrix\u001b[0m\u001b[0;34m\u001b[0m\u001b[0;34m\u001b[0m\u001b[0;34m\u001b[0m\u001b[0m\n",
      "\u001b[1;32m    307 \u001b[0m            \u001b[0;32mif\u001b[0m \u001b[0mos_path\u001b[0m\u001b[0;34m.\u001b[0m\u001b[0misfile\u001b[0m\u001b[0;34m(\u001b[0m\u001b[0mf_rmf\u001b[0m\u001b[0;34m)\u001b[0m\u001b[0;34m:\u001b[0m\u001b[0;34m\u001b[0m\u001b[0;34m\u001b[0m\u001b[0m\n",
      "\u001b[1;32m    308 \u001b[0m                \u001b[0me_lo_rmf\u001b[0m\u001b[0;34m,\u001b[0m \u001b[0me_hi_rmf\u001b[0m\u001b[0;34m,\u001b[0m \u001b[0mngrp\u001b[0m\u001b[0;34m,\u001b[0m \u001b[0mfchan\u001b[0m\u001b[0;34m,\u001b[0m \u001b[0mnchan\u001b[0m\u001b[0;34m,\u001b[0m \u001b[0mmatrix\u001b[0m\u001b[0;34m,\u001b[0m \u001b[0mredist_m\u001b[0m \u001b[0;34m=\u001b[0m \u001b[0mself\u001b[0m\u001b[0;34m.\u001b[0m\u001b[0m_load_rmf\u001b[0m\u001b[0;34m(\u001b[0m\u001b[0mf_rmf\u001b[0m\u001b[0;34m)\u001b[0m\u001b[0;34m\u001b[0m\u001b[0;34m\u001b[0m\u001b[0m\n",
      "\u001b[1;32m    309 \u001b[0m\u001b[0;34m\u001b[0m\u001b[0m\n",
      "\u001b[0;32m--> 310 \u001b[0;31m            \u001b[0msrm\u001b[0m \u001b[0;34m=\u001b[0m \u001b[0mnu_spec\u001b[0m\u001b[0;34m.\u001b[0m\u001b[0mmake_srm\u001b[0m\u001b[0;34m(\u001b[0m\u001b[0mrmf_matrix\u001b[0m\u001b[0;34m=\u001b[0m\u001b[0mredist_m\u001b[0m\u001b[0;34m,\u001b[0m \u001b[0marf_array\u001b[0m\u001b[0;34m=\u001b[0m\u001b[0meff_area\u001b[0m\u001b[0;34m)\u001b[0m\u001b[0;34m\u001b[0m\u001b[0;34m\u001b[0m\u001b[0m\n",
      "\u001b[0m\u001b[1;32m    311 \u001b[0m        \u001b[0;32melse\u001b[0m\u001b[0;34m:\u001b[0m\u001b[0;34m\u001b[0m\u001b[0;34m\u001b[0m\u001b[0m\n",
      "\u001b[1;32m    312 \u001b[0m            \u001b[0me_lo_arf\u001b[0m\u001b[0;34m,\u001b[0m \u001b[0me_hi_arf\u001b[0m\u001b[0;34m,\u001b[0m \u001b[0meff_area\u001b[0m \u001b[0;34m=\u001b[0m \u001b[0;32mNone\u001b[0m\u001b[0;34m,\u001b[0m \u001b[0;32mNone\u001b[0m\u001b[0;34m,\u001b[0m \u001b[0;32mNone\u001b[0m\u001b[0;34m\u001b[0m\u001b[0;34m\u001b[0m\u001b[0m\n",
      "\u001b[1;32m    313 \u001b[0m            \u001b[0me_lo_rmf\u001b[0m\u001b[0;34m,\u001b[0m \u001b[0me_hi_rmf\u001b[0m\u001b[0;34m,\u001b[0m \u001b[0mngrp\u001b[0m\u001b[0;34m,\u001b[0m \u001b[0mfchan\u001b[0m\u001b[0;34m,\u001b[0m \u001b[0mnchan\u001b[0m\u001b[0;34m,\u001b[0m \u001b[0mmatrix\u001b[0m\u001b[0;34m,\u001b[0m \u001b[0mredist_m\u001b[0m \u001b[0;34m=\u001b[0m \u001b[0;32mNone\u001b[0m\u001b[0;34m,\u001b[0m \u001b[0;32mNone\u001b[0m\u001b[0;34m,\u001b[0m \u001b[0;32mNone\u001b[0m\u001b[0;34m,\u001b[0m \u001b[0;32mNone\u001b[0m\u001b[0;34m,\u001b[0m \u001b[0;32mNone\u001b[0m\u001b[0;34m,\u001b[0m \u001b[0;32mNone\u001b[0m\u001b[0;34m,\u001b[0m \u001b[0;32mNone\u001b[0m\u001b[0;34m\u001b[0m\u001b[0;34m\u001b[0m\u001b[0m\n",
      "\u001b[1;32m    314 \u001b[0m\u001b[0;34m\u001b[0m\u001b[0m\n",
      "\u001b[1;32m    315 \u001b[0m        \u001b[0mchannel_bins\u001b[0m \u001b[0;34m=\u001b[0m \u001b[0mself\u001b[0m\u001b[0;34m.\u001b[0m\u001b[0m_calc_channel_bins\u001b[0m\u001b[0;34m(\u001b[0m\u001b[0me_lo_rmf\u001b[0m\u001b[0;34m,\u001b[0m \u001b[0me_hi_rmf\u001b[0m\u001b[0;34m)\u001b[0m \u001b[0;32mif\u001b[0m \u001b[0mtype\u001b[0m\u001b[0;34m(\u001b[0m\u001b[0mchannel_bins\u001b[0m\u001b[0;34m)\u001b[0m \u001b[0;34m==\u001b[0m \u001b[0mtype\u001b[0m\u001b[0;34m(\u001b[0m\u001b[0;32mNone\u001b[0m\u001b[0;34m)\u001b[0m \u001b[0;32melse\u001b[0m \u001b[0mchannel_bins\u001b[0m\u001b[0;34m\u001b[0m\u001b[0;34m\u001b[0m\u001b[0m\n",
      "\u001b[1;32m    316 \u001b[0m        \u001b[0mchannel_binning\u001b[0m \u001b[0;34m=\u001b[0m \u001b[0mnp\u001b[0m\u001b[0;34m.\u001b[0m\u001b[0mdiff\u001b[0m\u001b[0;34m(\u001b[0m\u001b[0mchannel_bins\u001b[0m\u001b[0;34m)\u001b[0m\u001b[0;34m.\u001b[0m\u001b[0mflatten\u001b[0m\u001b[0;34m(\u001b[0m\u001b[0;34m)\u001b[0m\u001b[0;34m\u001b[0m\u001b[0;34m\u001b[0m\u001b[0m\n",
      "\u001b[1;32m    317 \u001b[0m\u001b[0;34m\u001b[0m\u001b[0m\n",
      "\u001b[1;32m    318 \u001b[0m        \u001b[0mphot_channels\u001b[0m \u001b[0;34m=\u001b[0m \u001b[0mchannel_bins\u001b[0m \u001b[0;32mif\u001b[0m \u001b[0mtype\u001b[0m\u001b[0;34m(\u001b[0m\u001b[0mphoton_bins\u001b[0m\u001b[0;34m)\u001b[0m \u001b[0;34m==\u001b[0m \u001b[0mtype\u001b[0m\u001b[0;34m(\u001b[0m\u001b[0;32mNone\u001b[0m\u001b[0;34m)\u001b[0m \u001b[0;32melse\u001b[0m \u001b[0mphoton_bins\u001b[0m\u001b[0;34m\u001b[0m\u001b[0;34m\u001b[0m\u001b[0m\n",
      "\u001b[1;32m    319 \u001b[0m        \u001b[0mphot_binning\u001b[0m \u001b[0;34m=\u001b[0m \u001b[0mnp\u001b[0m\u001b[0;34m.\u001b[0m\u001b[0mdiff\u001b[0m\u001b[0;34m(\u001b[0m\u001b[0mphot_channels\u001b[0m\u001b[0;34m)\u001b[0m\u001b[0;34m.\u001b[0m\u001b[0mflatten\u001b[0m\u001b[0;34m(\u001b[0m\u001b[0;34m)\u001b[0m\u001b[0;34m\u001b[0m\u001b[0;34m\u001b[0m\u001b[0m\n",
      "\u001b[1;32m    320 \u001b[0m\u001b[0;34m\u001b[0m\u001b[0m\n",
      "\u001b[1;32m    321 \u001b[0m        \u001b[0;31m# get the count rate information\u001b[0m\u001b[0;34m\u001b[0m\u001b[0;34m\u001b[0m\u001b[0;34m\u001b[0m\u001b[0m\n",
      "\u001b[1;32m    322 \u001b[0m        \u001b[0mcount_rate\u001b[0m\u001b[0;34m,\u001b[0m \u001b[0mcount_rate_error\u001b[0m \u001b[0;34m=\u001b[0m \u001b[0mnu_spec\u001b[0m\u001b[0;34m.\u001b[0m\u001b[0mflux_cts_spec\u001b[0m\u001b[0;34m(\u001b[0m\u001b[0mf_pha\u001b[0m\u001b[0;34m,\u001b[0m \u001b[0mbin_size\u001b[0m\u001b[0;34m=\u001b[0m\u001b[0mchannel_binning\u001b[0m\u001b[0;34m)\u001b[0m\u001b[0;34m\u001b[0m\u001b[0;34m\u001b[0m\u001b[0m\n",
      "\u001b[1;32m    323 \u001b[0m\u001b[0;34m\u001b[0m\u001b[0m\n",
      "\u001b[1;32m    324 \u001b[0m        \u001b[0;31m# what spectral info you want to know from this observation\u001b[0m\u001b[0;34m\u001b[0m\u001b[0;34m\u001b[0m\u001b[0;34m\u001b[0m\u001b[0m\n",
      "\u001b[1;32m    325 \u001b[0m        return {\"photon_channel_bins\": phot_channels,\n",
      "\u001b[1;32m    326 \u001b[0m                \u001b[0;34m\"photon_channel_mids\"\u001b[0m\u001b[0;34m:\u001b[0m \u001b[0mnp\u001b[0m\u001b[0;34m.\u001b[0m\u001b[0mmean\u001b[0m\u001b[0;34m(\u001b[0m\u001b[0mphot_channels\u001b[0m\u001b[0;34m,\u001b[0m \u001b[0maxis\u001b[0m\u001b[0;34m=\u001b[0m\u001b[0;36m1\u001b[0m\u001b[0;34m)\u001b[0m\u001b[0;34m,\u001b[0m\u001b[0;34m\u001b[0m\u001b[0;34m\u001b[0m\u001b[0m\n",
      "\u001b[1;32m    327 \u001b[0m                \u001b[0;34m\"photon_channel_binning\"\u001b[0m\u001b[0;34m:\u001b[0m \u001b[0mphot_binning\u001b[0m\u001b[0;34m,\u001b[0m\u001b[0;34m\u001b[0m\u001b[0;34m\u001b[0m\u001b[0m\n",
      "\u001b[1;32m    328 \u001b[0m                \u001b[0;34m\"count_channel_bins\"\u001b[0m\u001b[0;34m:\u001b[0m \u001b[0mchannel_bins\u001b[0m\u001b[0;34m,\u001b[0m\u001b[0;34m\u001b[0m\u001b[0;34m\u001b[0m\u001b[0m\n",
      "\u001b[1;32m    329 \u001b[0m                \u001b[0;34m\"count_channel_mids\"\u001b[0m\u001b[0;34m:\u001b[0m \u001b[0mnp\u001b[0m\u001b[0;34m.\u001b[0m\u001b[0mmean\u001b[0m\u001b[0;34m(\u001b[0m\u001b[0mchannel_bins\u001b[0m\u001b[0;34m,\u001b[0m \u001b[0maxis\u001b[0m\u001b[0;34m=\u001b[0m\u001b[0;36m1\u001b[0m\u001b[0;34m)\u001b[0m\u001b[0;34m,\u001b[0m\u001b[0;34m\u001b[0m\u001b[0;34m\u001b[0m\u001b[0m\n",
      "\u001b[1;32m    330 \u001b[0m                \u001b[0;34m\"count_channel_binning\"\u001b[0m\u001b[0;34m:\u001b[0m \u001b[0mchannel_binning\u001b[0m\u001b[0;34m,\u001b[0m\u001b[0;34m\u001b[0m\u001b[0;34m\u001b[0m\u001b[0m\n",
      "\u001b[1;32m    331 \u001b[0m                \u001b[0;34m\"counts\"\u001b[0m\u001b[0;34m:\u001b[0m \u001b[0mcounts\u001b[0m\u001b[0;34m,\u001b[0m\u001b[0;34m\u001b[0m\u001b[0;34m\u001b[0m\u001b[0m\n",
      "\u001b[1;32m    332 \u001b[0m                \u001b[0;34m\"count_error\"\u001b[0m\u001b[0;34m:\u001b[0m \u001b[0mnp\u001b[0m\u001b[0;34m.\u001b[0m\u001b[0msqrt\u001b[0m\u001b[0;34m(\u001b[0m\u001b[0mcounts\u001b[0m\u001b[0;34m)\u001b[0m\u001b[0;34m,\u001b[0m\u001b[0;34m\u001b[0m\u001b[0;34m\u001b[0m\u001b[0m\n",
      "\u001b[1;32m    333 \u001b[0m                \u001b[0;34m\"count_rate\"\u001b[0m\u001b[0;34m:\u001b[0m \u001b[0mcount_rate\u001b[0m\u001b[0;34m,\u001b[0m\u001b[0;34m\u001b[0m\u001b[0;34m\u001b[0m\u001b[0m\n",
      "\u001b[1;32m    334 \u001b[0m                \u001b[0;34m\"count_rate_error\"\u001b[0m\u001b[0;34m:\u001b[0m \u001b[0mcount_rate_error\u001b[0m\u001b[0;34m,\u001b[0m\u001b[0;34m\u001b[0m\u001b[0;34m\u001b[0m\u001b[0m\n",
      "\u001b[1;32m    335 \u001b[0m                \u001b[0;34m\"effective_exposure\"\u001b[0m\u001b[0;34m:\u001b[0m \u001b[0meff_exp\u001b[0m\u001b[0;34m,\u001b[0m\u001b[0;34m\u001b[0m\u001b[0;34m\u001b[0m\u001b[0m\n",
      "\u001b[1;32m    336 \u001b[0m                \u001b[0;34m\"srm\"\u001b[0m\u001b[0;34m:\u001b[0m \u001b[0msrm\u001b[0m\u001b[0;34m,\u001b[0m\u001b[0;34m\u001b[0m\u001b[0;34m\u001b[0m\u001b[0m\n",
      "\u001b[1;32m    337 \u001b[0m                \"extras\": {\"pha.file\": f_pha,\n",
      "\u001b[1;32m    338 \u001b[0m                           \u001b[0;34m\"arf.file\"\u001b[0m\u001b[0;34m:\u001b[0m \u001b[0mf_arf\u001b[0m\u001b[0;34m,\u001b[0m\u001b[0;34m\u001b[0m\u001b[0;34m\u001b[0m\u001b[0m\n",
      "\u001b[1;32m    339 \u001b[0m                           \u001b[0;34m\"arf.e_lo\"\u001b[0m\u001b[0;34m:\u001b[0m \u001b[0me_lo_arf\u001b[0m\u001b[0;34m,\u001b[0m\u001b[0;34m\u001b[0m\u001b[0;34m\u001b[0m\u001b[0m\n",
      "\u001b[1;32m    340 \u001b[0m                           \u001b[0;34m\"arf.e_hi\"\u001b[0m\u001b[0;34m:\u001b[0m \u001b[0me_hi_arf\u001b[0m\u001b[0;34m,\u001b[0m\u001b[0;34m\u001b[0m\u001b[0;34m\u001b[0m\u001b[0m\n",
      "\u001b[1;32m    341 \u001b[0m                           \u001b[0;34m\"arf.effective_area\"\u001b[0m\u001b[0;34m:\u001b[0m \u001b[0meff_area\u001b[0m\u001b[0;34m,\u001b[0m\u001b[0;34m\u001b[0m\u001b[0;34m\u001b[0m\u001b[0m\n",
      "\u001b[1;32m    342 \u001b[0m                           \u001b[0;34m\"rmf.file\"\u001b[0m\u001b[0;34m:\u001b[0m \u001b[0mf_rmf\u001b[0m\u001b[0;34m,\u001b[0m\u001b[0;34m\u001b[0m\u001b[0;34m\u001b[0m\u001b[0m\n",
      "\u001b[1;32m    343 \u001b[0m                           \u001b[0;34m\"rmf.e_lo\"\u001b[0m\u001b[0;34m:\u001b[0m \u001b[0me_lo_rmf\u001b[0m\u001b[0;34m,\u001b[0m\u001b[0;34m\u001b[0m\u001b[0;34m\u001b[0m\u001b[0m\n",
      "\u001b[1;32m    344 \u001b[0m                           \u001b[0;34m\"rmf.e_hi\"\u001b[0m\u001b[0;34m:\u001b[0m \u001b[0me_hi_rmf\u001b[0m\u001b[0;34m,\u001b[0m\u001b[0;34m\u001b[0m\u001b[0;34m\u001b[0m\u001b[0m\n",
      "\u001b[1;32m    345 \u001b[0m                           \u001b[0;34m\"rmf.ngrp\"\u001b[0m\u001b[0;34m:\u001b[0m \u001b[0mngrp\u001b[0m\u001b[0;34m,\u001b[0m\u001b[0;34m\u001b[0m\u001b[0;34m\u001b[0m\u001b[0m\n",
      "\u001b[1;32m    346 \u001b[0m                           \u001b[0;34m\"rmf.fchan\"\u001b[0m\u001b[0;34m:\u001b[0m \u001b[0mfchan\u001b[0m\u001b[0;34m,\u001b[0m\u001b[0;34m\u001b[0m\u001b[0;34m\u001b[0m\u001b[0m\n",
      "\u001b[1;32m    347 \u001b[0m                           \u001b[0;34m\"rmf.nchan\"\u001b[0m\u001b[0;34m:\u001b[0m \u001b[0mnchan\u001b[0m\u001b[0;34m,\u001b[0m\u001b[0;34m\u001b[0m\u001b[0;34m\u001b[0m\u001b[0m\n",
      "\u001b[1;32m    348 \u001b[0m                           \u001b[0;34m\"rmf.matrix\"\u001b[0m\u001b[0;34m:\u001b[0m \u001b[0mmatrix\u001b[0m\u001b[0;34m,\u001b[0m\u001b[0;34m\u001b[0m\u001b[0;34m\u001b[0m\u001b[0m\n",
      "\u001b[1;32m    349 \u001b[0m                           \"rmf.redistribution_matrix\": redist_m}\n",
      "\u001b[1;32m    350 \u001b[0m                }  # this might make it easier to add different observations together\n",
      "\u001b[1;32m    351 \u001b[0m\u001b[0;34m\u001b[0m\u001b[0m\n",
      "\n"
     ]
    }
   ],
   "source": [
    "%pdb\n",
    "# First, load in your data files, here we load in 2 spectra\n",
    "_dir = \"../data/nustar/Duncan2021/\"\n",
    "spec = SunXspex(pha_file=[_dir+'nu80410201001A06_1618_p_chu2_N_sr.pha',\n",
    "                          _dir+'nu80410201001B06_1618_p_chu2_N_sr.pha'])\n",
    "\n",
    "# define model, here we go for 2 isothermal models\n",
    "spec.model = \"C*(f_vth + f_vth)\"\n",
    "                \n",
    "# freeze the ones we don't want to vary\n",
    "spec.params[\"C_spectrum1\"] = {\"Status\":\"frozen\"}\n",
    "\n",
    "# Set initial values\n",
    "spec.params[\"T1_spectrum1\"] = {\"Value\":4, \"Bounds\":(2.5, 6)}\n",
    "spec.params[\"EM1_spectrum1\"] = {\"Value\":10, \"Bounds\":(1e-1, 1e2)}     \n",
    "spec.params[\"T2_spectrum1\"] = {\"Value\":8, \"Bounds\":(5, 15)}                \n",
    "spec.params[\"EM2_spectrum1\"] = {\"Value\":0.5, \"Bounds\":(1e-4, 10)}                \n",
    "spec.params[\"C_spectrum2\"] = {\"Status\":\"free\", \"Bounds\":(0.5, 2)}\n",
    "\n",
    "\n",
    "# Fit lower energy range with the first thermal model first\n",
    "spec.params[\"T2_spectrum1\"] = \"frozen\"\n",
    "spec.params[\"EM2_spectrum1\"] = \"frozen\"\n",
    "spec.energy_fitting_range = [2.5,5]\n",
    "\n",
    "spec.fit(tol=1e-6)\n",
    "\n",
    "\n",
    "# Now fit higher energy range with the second thermal model\n",
    "spec.params[\"T1_spectrum1\"] = \"frozen\"\n",
    "spec.params[\"EM1_spectrum1\"] = \"frozen\"\n",
    "spec.params[\"C_spectrum2\"] = \"frozen\"\n",
    "spec.params[\"T2_spectrum1\"] = \"free\"\n",
    "spec.params[\"EM2_spectrum1\"] = \"free\"\n",
    "\n",
    "# Need the gain slope to vary too for this microflare but only needed for the 6.7 keV line\n",
    "spec.rParams[\"gain_slope_spectrum1\"] = \"free\"\n",
    "spec.rParams[\"gain_slope_spectrum2\"] = spec.rParams[\"gain_slope_spectrum1\"]\n",
    "\n",
    "spec.energy_fitting_range = [5, 10.8]\n",
    "\n",
    "spec.fit(tol=1e-6)\n",
    "\n",
    "\n",
    "# Now free everything over full range\n",
    "spec.params[\"T1_spectrum1\"] = \"free\"\n",
    "spec.params[\"EM1_spectrum1\"] = \"free\"\n",
    "spec.params[\"C_spectrum2\"] = \"free\"\n",
    "\n",
    "spec.energy_fitting_range = [2.5, 10.8]\n",
    "\n",
    "spec.fit(tol=1e-10)\n",
    "\n",
    "# plot the result\n",
    "plt.rcParams['font.size'] = spec_font_size\n",
    "plt.figure(figsize=spec_plot_size)\n",
    "axes, res_axes = spec.plot()\n",
    "for a in axes:\n",
    "    a.set_xlim(dunc_xlims)\n",
    "    a.set_ylim(dunc_ylims)\n",
    "plt.show()\n",
    "plt.rcParams['font.size'] = default_font_size"
   ]
  },
  {
   "cell_type": "markdown",
   "metadata": {},
   "source": [
    "For the 2 thermal model fitting:"
   ]
  },
  {
   "cell_type": "markdown",
   "metadata": {},
   "source": [
    "| Model Parameter                | XSPEC (Duncan et al. 2021)         | This Work                       |\n",
    "| :---                           |    :----:                          |                            ---: |\n",
    "| Temperature 1 [MK]             | 4.1$^{+0.2}_{-0.1}$                | 6.00$\\pm$0.02                   |\n",
    "| Emission Measure 1 [cm$^{-3}$] | 1.4$^{+0.6}_{-0.4}\\times$10$^{47}$ | 2.41$\\pm$0.02$\\times$10$^{46}$  |\n",
    "| Temperature 2 [MK]             | 10.00$^{+0.03}_{-0.03}$            | 10.63$\\pm$0.02                  |\n",
    "| Emission Measure 2 [cm$^{-3}$] | 4.6$^{+0.1}_{-0.2}\\times$10$^{45}$ | 3.63$\\pm$0.02$\\times$10$^{45}$  |\n",
    "\n",
    "\n",
    "| Response Parameter             | XSPEC (Duncan et al. 2021)         | This Work         |\n",
    "| :---                           |    :----:                          |              ---: |\n",
    "| Gain Slope                     | 0.977$\\pm$0.002                    | 0.973$\\pm$0.001   |"
   ]
  },
  {
   "cell_type": "markdown",
   "metadata": {},
   "source": [
    "Although these values are slightly different, it is important to note that XSPEC and SunXspex work from different atomic databases. We also note that for a similar isothermal fit the temperature can drop/rise if the emission measure rises/drops and so fitting not just one but two of these models allows for these to vary more. We do see that this work (for this microflare) produces higher temperatures but correspondingly lower emission measures. "
   ]
  },
  {
   "cell_type": "markdown",
   "metadata": {},
   "source": [
    "***"
   ]
  },
  {
   "cell_type": "markdown",
   "metadata": {},
   "source": [
    "**Code is still under construction. The vast majority of code has documentation but still working on it. Plotting code is generally a mess but, again, a work in progress.**\n",
    "\n",
    "**Working on parallelisation for the MCMC. Numpy already does this for some calculations during the minimisation which gets in the road of the MCMC walker parallelisation.**\n",
    "\n",
    "**Nested sampling is set up for model comparison, so the method `run_nested()` works but is very limited and has not been tested properly yet.**"
   ]
  },
  {
   "cell_type": "markdown",
   "metadata": {},
   "source": [
    "***"
   ]
  },
  {
   "cell_type": "markdown",
   "metadata": {},
   "source": [
    "***"
   ]
  }
 ],
 "metadata": {
  "kernelspec": {
   "display_name": "Python 3 (ipykernel)",
   "language": "python",
   "name": "python3"
  },
  "language_info": {
   "codemirror_mode": {
    "name": "ipython",
    "version": 3
   },
   "file_extension": ".py",
   "mimetype": "text/x-python",
   "name": "python",
   "nbconvert_exporter": "python",
   "pygments_lexer": "ipython3",
   "version": "3.8.6"
  }
 },
 "nbformat": 4,
 "nbformat_minor": 4
}
